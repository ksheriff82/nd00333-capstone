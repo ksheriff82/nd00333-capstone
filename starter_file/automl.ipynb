{
 "cells": [
  {
   "cell_type": "markdown",
   "metadata": {},
   "source": [
    "# Automated ML\n",
    "\n",
    "TODO: Import Dependencies. In the cell below, import all the dependencies that you will need to complete the project."
   ]
  },
  {
   "cell_type": "code",
   "execution_count": 1,
   "metadata": {
    "collapsed": false,
    "gather": {
     "logged": 1705882631364
    },
    "jupyter": {
     "outputs_hidden": false,
     "source_hidden": false
    },
    "nteract": {
     "transient": {
      "deleting": false
     }
    }
   },
   "outputs": [],
   "source": [
    "from azureml.core import Workspace, Experiment\n",
    "from azureml.core.compute import ComputeTarget, AmlCompute\n",
    "from azureml.widgets import RunDetails\n",
    "from azureml.train.sklearn import SKLearn\n",
    "from azureml.train.hyperdrive.run import PrimaryMetricGoal\n",
    "from azureml.train.hyperdrive.policy import BanditPolicy\n",
    "from azureml.train.hyperdrive.sampling import RandomParameterSampling\n",
    "from azureml.train.hyperdrive.runconfig import HyperDriveConfig\n",
    "from azureml.train.hyperdrive.parameter_expressions import choice, uniform\n",
    "from azureml.core import Environment, ScriptRunConfig\n",
    "import os"
   ]
  },
  {
   "cell_type": "markdown",
   "metadata": {},
   "source": [
    "## Dataset\n",
    "\n",
    "### Overview\n",
    "TODO: In this markdown cell, give an overview of the dataset you are using. Also mention the task you will be performing.\n",
    "\n",
    "\n",
    "TODO: Get data. In the cell below, write code to access the data you will be using in this project. Remember that the dataset needs to be external."
   ]
  },
  {
   "cell_type": "code",
   "execution_count": 10,
   "metadata": {
    "collapsed": false,
    "gather": {
     "logged": 1705882631765
    },
    "jupyter": {
     "outputs_hidden": false,
     "source_hidden": false
    },
    "nteract": {
     "transient": {
      "deleting": false
     }
    }
   },
   "outputs": [],
   "source": [
    "ws = Workspace.from_config()\n",
    "\n",
    "# choose a name for experiment\n",
    "experiment_name = 'heart_failure_automl2'\n",
    "\n",
    "experiment=Experiment(ws, experiment_name)"
   ]
  },
  {
   "cell_type": "markdown",
   "metadata": {},
   "source": [
    "## AutoML Configuration\n",
    "\n",
    "TODO: Explain why you chose the automl settings and cofiguration you used below."
   ]
  },
  {
   "cell_type": "code",
   "execution_count": 3,
   "metadata": {
    "collapsed": false,
    "gather": {
     "logged": 1705882631898
    },
    "jupyter": {
     "outputs_hidden": false,
     "source_hidden": false
    },
    "nteract": {
     "transient": {
      "deleting": false
     }
    }
   },
   "outputs": [],
   "source": [
    "# Setup environment for your training run\n",
    "sklearn_env = Environment.from_conda_specification(name='sklearn-env', file_path='conda_dependencies.yml')"
   ]
  },
  {
   "cell_type": "code",
   "execution_count": 11,
   "metadata": {
    "collapsed": false,
    "gather": {
     "logged": 1705883831132
    },
    "jupyter": {
     "outputs_hidden": false,
     "source_hidden": false
    },
    "nteract": {
     "transient": {
      "deleting": false
     }
    }
   },
   "outputs": [],
   "source": [
    "from azureml.data.dataset_factory import TabularDatasetFactory\n",
    "from azureml.core import Dataset, Datastore\n",
    "from azureml.data.datapath import DataPath\n",
    "import pandas as pd\n",
    "from azureml.train.automl import AutoMLConfig\n",
    "\n",
    "dataset = Dataset.get_by_name(ws, name='heart_rate_failure_prediction')  \n",
    "\n",
    "#x = dataset.to_pandas_dataframe().dropna()\n",
    "#y = x.pop(\"HeartDisease\")\n",
    "#dataset = pd.concat([x,y], axis=1)\n",
    "\n",
    "#pd.DataFrame(dataset).to_csv(\"data/train_data.csv\", index=False)\n",
    "#ds = ws.get_default_datastore()\n",
    "#ds.upload(src_dir='./data', target_path='HeartDataSet', overwrite=True, show_progress=True)\n",
    "# Upload the training data as a tabular dataset for access during training on remote compute\n",
    "#train_data = TabularDatasetFactory.from_delimited_files(path=ds.path('HeartDataSet/train_data.csv'))\n",
    "#\n",
    "#automl_config = AutoMLConfig(    \n",
    "#    experiment_timeout_minutes=30,\n",
    "#    enable_onnx_compatible_models=True,\n",
    "#    task= 'classification',\n",
    "#    primary_metric= 'AUC_weighted',\n",
    "#    training_data=dataset,\n",
    "#    label_column_name='HeartDisease',\n",
    "#    n_cross_validations=2)\n",
    "\n",
    "automl_settings = {\n",
    "    \"experiment_timeout_minutes\" : 25,\n",
    "    \"max_concurrent_iterations\": 4,\n",
    "    \"n_cross_validations\": 5,\n",
    "    \"primary_metric\": 'accuracy',\n",
    "}\n",
    "\n",
    "automl_config = AutoMLConfig(task = 'classification',\n",
    "                             debug_log = 'automl_errors.log',\n",
    "                             compute_target=\"Udacity-Capstone-Project-Cluster\",\n",
    "                             training_data = dataset,\n",
    "                             label_column_name = \"HeartDisease\",\n",
    "                             enable_onnx_compatible_models=True,\n",
    "                             **automl_settings\n",
    "                            )  \n",
    "\n",
    "\n",
    "\n",
    "\n",
    "  \n",
    "\n",
    "\n",
    "\n",
    "\n",
    "\n"
   ]
  },
  {
   "cell_type": "code",
   "execution_count": 5,
   "metadata": {
    "collapsed": false,
    "gather": {
     "logged": 1705882632183
    },
    "jupyter": {
     "outputs_hidden": false,
     "source_hidden": false
    },
    "nteract": {
     "transient": {
      "deleting": false
     }
    }
   },
   "outputs": [
    {
     "data": {
      "text/plain": [
       "{\n",
       "    \"assetId\": null,\n",
       "    \"databricks\": {\n",
       "        \"eggLibraries\": [],\n",
       "        \"jarLibraries\": [],\n",
       "        \"mavenLibraries\": [],\n",
       "        \"pypiLibraries\": [],\n",
       "        \"rcranLibraries\": []\n",
       "    },\n",
       "    \"docker\": {\n",
       "        \"arguments\": [],\n",
       "        \"baseDockerfile\": null,\n",
       "        \"baseImage\": \"mcr.microsoft.com/azureml/openmpi4.1.0-ubuntu20.04:20231030.v1\",\n",
       "        \"baseImageRegistry\": {\n",
       "            \"address\": null,\n",
       "            \"password\": null,\n",
       "            \"registryIdentity\": null,\n",
       "            \"username\": null\n",
       "        },\n",
       "        \"buildContext\": null,\n",
       "        \"enabled\": false,\n",
       "        \"platform\": {\n",
       "            \"architecture\": \"amd64\",\n",
       "            \"os\": \"Linux\"\n",
       "        },\n",
       "        \"sharedVolumes\": true,\n",
       "        \"shmSize\": \"2g\"\n",
       "    },\n",
       "    \"environmentVariables\": {\n",
       "        \"EXAMPLE_ENV_VAR\": \"EXAMPLE_VALUE\"\n",
       "    },\n",
       "    \"inferencingStackVersion\": null,\n",
       "    \"name\": \"sklearn-env\",\n",
       "    \"python\": {\n",
       "        \"baseCondaEnvironment\": null,\n",
       "        \"condaDependencies\": {\n",
       "            \"dependencies\": [\n",
       "                \"python=3.6.2\",\n",
       "                \"scikit-learn\",\n",
       "                \"numpy\",\n",
       "                \"pandas\",\n",
       "                {\n",
       "                    \"pip\": [\n",
       "                        \"azureml-defaults\"\n",
       "                    ]\n",
       "                }\n",
       "            ]\n",
       "        },\n",
       "        \"condaDependenciesFile\": null,\n",
       "        \"interpreterPath\": \"python\",\n",
       "        \"userManagedDependencies\": false\n",
       "    },\n",
       "    \"r\": null,\n",
       "    \"spark\": {\n",
       "        \"packages\": [],\n",
       "        \"precachePackages\": true,\n",
       "        \"repositories\": []\n",
       "    },\n",
       "    \"version\": null\n",
       "}"
      ]
     },
     "execution_count": 5,
     "metadata": {},
     "output_type": "execute_result"
    }
   ],
   "source": [
    "Environment.from_conda_specification(name='sklearn-env', file_path='conda_dependencies.yml')"
   ]
  },
  {
   "cell_type": "code",
   "execution_count": 12,
   "metadata": {
    "collapsed": false,
    "gather": {
     "logged": 1705883841684
    },
    "jupyter": {
     "outputs_hidden": false,
     "source_hidden": false
    },
    "nteract": {
     "transient": {
      "deleting": false
     }
    }
   },
   "outputs": [
    {
     "name": "stdout",
     "output_type": "stream",
     "text": [
      "Submitting remote run.\n"
     ]
    },
    {
     "data": {
      "text/html": [
       "<table style=\"width:100%\"><tr><th>Experiment</th><th>Id</th><th>Type</th><th>Status</th><th>Details Page</th><th>Docs Page</th></tr><tr><td>heart_failure_automl2</td><td>AutoML_a8392b16-812c-479d-97c0-f74e91e2f089</td><td>automl</td><td>NotStarted</td><td><a href=\"https://ml.azure.com/runs/AutoML_a8392b16-812c-479d-97c0-f74e91e2f089?wsid=/subscriptions/f9d5a085-54dc-4215-9ba6-dad5d86e60a0/resourcegroups/aml-quickstarts-250923/workspaces/quick-starts-ws-250923&amp;tid=660b3398-b80e-49d2-bc5b-ac1dc93b5254\" target=\"_blank\" rel=\"noopener\">Link to Azure Machine Learning studio</a></td><td><a href=\"https://docs.microsoft.com/en-us/python/api/overview/azure/ml/intro?view=azure-ml-py\" target=\"_blank\" rel=\"noopener\">Link to Documentation</a></td></tr></table>"
      ]
     },
     "metadata": {},
     "output_type": "display_data"
    }
   ],
   "source": [
    "# TODO: Submit your experiment\n",
    "remote_run = experiment.submit(automl_config)"
   ]
  },
  {
   "cell_type": "markdown",
   "metadata": {},
   "source": [
    "## Run Details\n",
    "\n",
    "OPTIONAL: Write about the different models trained and their performance. Why do you think some models did better than others?\n",
    "\n",
    "TODO: In the cell below, use the `RunDetails` widget to show the different experiments."
   ]
  },
  {
   "cell_type": "code",
   "execution_count": 13,
   "metadata": {
    "collapsed": false,
    "gather": {
     "logged": 1705885204345
    },
    "jupyter": {
     "outputs_hidden": false,
     "source_hidden": false
    },
    "nteract": {
     "transient": {
      "deleting": false
     }
    }
   },
   "outputs": [
    {
     "data": {
      "application/vnd.jupyter.widget-view+json": {
       "model_id": "42e394c083044e788f008706d5a207be",
       "version_major": 2,
       "version_minor": 0
      },
      "text/plain": [
       "_AutoMLWidget(widget_settings={'childWidgetDisplay': 'popup', 'send_telemetry': False, 'log_level': 'INFO', 's…"
      ]
     },
     "metadata": {},
     "output_type": "display_data"
    },
    {
     "data": {
      "application/aml.mini.widget.v1": "{\"status\": \"Completed\", \"workbench_run_details_uri\": \"https://ml.azure.com/runs/AutoML_a8392b16-812c-479d-97c0-f74e91e2f089?wsid=/subscriptions/f9d5a085-54dc-4215-9ba6-dad5d86e60a0/resourcegroups/aml-quickstarts-250923/workspaces/quick-starts-ws-250923&tid=660b3398-b80e-49d2-bc5b-ac1dc93b5254\", \"run_id\": \"AutoML_a8392b16-812c-479d-97c0-f74e91e2f089\", \"run_properties\": {\"run_id\": \"AutoML_a8392b16-812c-479d-97c0-f74e91e2f089\", \"created_utc\": \"2024-01-28T22:16:40.767998Z\", \"properties\": {\"num_iterations\": \"1000\", \"training_type\": \"TrainFull\", \"acquisition_function\": \"EI\", \"primary_metric\": \"accuracy\", \"train_split\": \"0\", \"acquisition_parameter\": \"0\", \"num_cross_validation\": \"5\", \"target\": \"Udacity-Capstone-Project-Cluster\", \"AMLSettingsJsonString\": \"{\\\"path\\\":null,\\\"name\\\":\\\"heart_failure_automl2\\\",\\\"subscription_id\\\":\\\"f9d5a085-54dc-4215-9ba6-dad5d86e60a0\\\",\\\"resource_group\\\":\\\"aml-quickstarts-250923\\\",\\\"workspace_name\\\":\\\"quick-starts-ws-250923\\\",\\\"region\\\":\\\"southcentralus\\\",\\\"compute_target\\\":\\\"Udacity-Capstone-Project-Cluster\\\",\\\"spark_service\\\":null,\\\"azure_service\\\":\\\"remote\\\",\\\"many_models\\\":false,\\\"pipeline_fetch_max_batch_size\\\":1,\\\"enable_batch_run\\\":true,\\\"enable_parallel_run\\\":false,\\\"num_procs\\\":null,\\\"enable_run_restructure\\\":false,\\\"start_auxiliary_runs_before_parent_complete\\\":false,\\\"enable_code_generation\\\":true,\\\"force_curated_environment\\\":false,\\\"iterations\\\":1000,\\\"primary_metric\\\":\\\"accuracy\\\",\\\"task_type\\\":\\\"classification\\\",\\\"positive_label\\\":null,\\\"data_script\\\":null,\\\"test_size\\\":0.0,\\\"test_include_predictions_only\\\":false,\\\"validation_size\\\":0.0,\\\"n_cross_validations\\\":5,\\\"y_min\\\":null,\\\"y_max\\\":null,\\\"num_classes\\\":null,\\\"featurization\\\":\\\"auto\\\",\\\"_ignore_package_version_incompatibilities\\\":false,\\\"is_timeseries\\\":false,\\\"max_cores_per_iteration\\\":1,\\\"max_concurrent_iterations\\\":4,\\\"iteration_timeout_minutes\\\":null,\\\"mem_in_mb\\\":null,\\\"enforce_time_on_windows\\\":false,\\\"experiment_timeout_minutes\\\":25,\\\"experiment_exit_score\\\":null,\\\"partition_column_names\\\":null,\\\"whitelist_models\\\":null,\\\"blacklist_algos\\\":[\\\"TensorFlowLinearClassifier\\\",\\\"TensorFlowDNN\\\"],\\\"supported_models\\\":[\\\"TabnetClassifier\\\",\\\"LinearSVM\\\",\\\"ExtremeRandomTrees\\\",\\\"AveragedPerceptronClassifier\\\",\\\"LightGBM\\\",\\\"XGBoostClassifier\\\",\\\"GradientBoosting\\\",\\\"KNN\\\",\\\"SGD\\\",\\\"BernoulliNaiveBayes\\\",\\\"DecisionTree\\\",\\\"RandomForest\\\",\\\"TensorFlowDNN\\\",\\\"LogisticRegression\\\",\\\"MultinomialNaiveBayes\\\",\\\"SVM\\\",\\\"TensorFlowLinearClassifier\\\"],\\\"private_models\\\":[],\\\"auto_blacklist\\\":true,\\\"blacklist_samples_reached\\\":false,\\\"exclude_nan_labels\\\":true,\\\"verbosity\\\":20,\\\"_debug_log\\\":\\\"azureml_automl.log\\\",\\\"show_warnings\\\":false,\\\"model_explainability\\\":true,\\\"service_url\\\":null,\\\"sdk_url\\\":null,\\\"sdk_packages\\\":null,\\\"enable_onnx_compatible_models\\\":true,\\\"enable_split_onnx_featurizer_estimator_models\\\":false,\\\"vm_type\\\":\\\"Standard_DS3_v2\\\",\\\"telemetry_verbosity\\\":20,\\\"send_telemetry\\\":true,\\\"enable_dnn\\\":false,\\\"scenario\\\":\\\"AutoML\\\",\\\"environment_label\\\":null,\\\"save_mlflow\\\":false,\\\"enable_categorical_indicators\\\":false,\\\"force_text_dnn\\\":false,\\\"enable_feature_sweeping\\\":false,\\\"enable_early_stopping\\\":true,\\\"early_stopping_n_iters\\\":10,\\\"arguments\\\":null,\\\"dataset_id\\\":\\\"3d6f8fc8-b50a-459b-ba7f-56c91cd917d8\\\",\\\"hyperdrive_config\\\":null,\\\"validation_dataset_id\\\":null,\\\"run_source\\\":null,\\\"metrics\\\":null,\\\"enable_metric_confidence\\\":false,\\\"enable_ensembling\\\":true,\\\"enable_stack_ensembling\\\":false,\\\"ensemble_iterations\\\":15,\\\"enable_tf\\\":false,\\\"enable_subsampling\\\":null,\\\"subsample_seed\\\":null,\\\"enable_nimbusml\\\":false,\\\"enable_streaming\\\":false,\\\"force_streaming\\\":false,\\\"track_child_runs\\\":true,\\\"n_best_runs\\\":1,\\\"allowed_private_models\\\":[],\\\"label_column_name\\\":\\\"HeartDisease\\\",\\\"weight_column_name\\\":null,\\\"cv_split_column_names\\\":null,\\\"enable_local_managed\\\":false,\\\"_local_managed_run_id\\\":null,\\\"cost_mode\\\":1,\\\"lag_length\\\":0,\\\"metric_operation\\\":\\\"maximize\\\",\\\"preprocess\\\":true}\", \"DataPrepJsonString\": \"{\\\\\\\"training_data\\\\\\\": {\\\\\\\"datasetId\\\\\\\": \\\\\\\"3d6f8fc8-b50a-459b-ba7f-56c91cd917d8\\\\\\\"}, \\\\\\\"datasets\\\\\\\": 0}\", \"EnableSubsampling\": null, \"runTemplate\": \"AutoML\", \"azureml.runsource\": \"automl\", \"display_task_type\": \"classification\", \"dependencies_versions\": \"{\\\"azureml-dataprep-native\\\": \\\"38.0.0\\\", \\\"azureml-dataprep\\\": \\\"4.12.10\\\", \\\"azureml-dataprep-rslex\\\": \\\"2.19.7\\\", \\\"azureml-train-automl-runtime\\\": \\\"1.54.0.post1\\\", \\\"azureml-core\\\": \\\"1.54.0.post1\\\", \\\"azureml-mlflow\\\": \\\"1.54.0.post1\\\", \\\"azureml-dataset-runtime\\\": \\\"1.54.0.post1\\\", \\\"azureml-train-automl-client\\\": \\\"1.54.0.post1\\\", \\\"azureml-automl-core\\\": \\\"1.54.0\\\", \\\"azureml-sdk\\\": \\\"1.54.0\\\", \\\"azureml-train-core\\\": \\\"1.54.0\\\", \\\"azureml-automl-runtime\\\": \\\"1.54.0\\\", \\\"azureml-pipeline\\\": \\\"1.54.0\\\", \\\"azureml-train-restclients-hyperdrive\\\": \\\"1.54.0\\\", \\\"azureml-training-tabular\\\": \\\"1.54.0\\\", \\\"azureml-interpret\\\": \\\"1.54.0\\\", \\\"azureml-pipeline-core\\\": \\\"1.54.0\\\", \\\"azureml-telemetry\\\": \\\"1.54.0\\\", \\\"azureml-responsibleai\\\": \\\"1.54.0\\\", \\\"azureml-defaults\\\": \\\"1.54.0\\\", \\\"azureml-pipeline-steps\\\": \\\"1.54.0\\\", \\\"azureml-datadrift\\\": \\\"1.51.0\\\", \\\"azureml-contrib-dataset\\\": \\\"1.51.0\\\", \\\"azureml-contrib-notebook\\\": \\\"1.51.0\\\", \\\"azureml-accel-models\\\": \\\"1.51.0\\\", \\\"azureml-automl-dnn-nlp\\\": \\\"1.51.0\\\", \\\"azureml-contrib-automl-pipeline-steps\\\": \\\"1.51.0\\\", \\\"azureml-contrib-reinforcementlearning\\\": \\\"1.51.0\\\", \\\"azureml-contrib-server\\\": \\\"1.51.0\\\", \\\"azureml-opendatasets\\\": \\\"1.51.0\\\", \\\"azureml-contrib-services\\\": \\\"1.51.0\\\", \\\"azureml-tensorboard\\\": \\\"1.51.0\\\", \\\"azureml-train\\\": \\\"1.51.0\\\", \\\"azureml-contrib-pipeline-steps\\\": \\\"1.51.0\\\", \\\"azureml-explain-model\\\": \\\"1.51.0\\\", \\\"azureml-cli-common\\\": \\\"1.51.0\\\", \\\"azureml-widgets\\\": \\\"1.51.0\\\", \\\"azureml-train-automl\\\": \\\"1.51.0\\\", \\\"azureml-contrib-fairness\\\": \\\"1.51.0\\\", \\\"azureml-inference-server-http\\\": \\\"0.8.4\\\"}\", \"_aml_system_scenario_identification\": \"Remote.Parent\", \"ClientType\": \"SDK\", \"PlatformVersion\": \"DPV1\", \"environment_cpu_name\": \"AzureML-AutoML\", \"environment_cpu_label\": \"prod\", \"environment_gpu_name\": \"AzureML-AutoML-GPU\", \"environment_gpu_label\": \"prod\", \"root_attribution\": \"automl\", \"attribution\": \"AutoML\", \"Orchestrator\": \"AutoML\", \"CancelUri\": \"https://southcentralus.api.azureml.ms/jasmine/v1.0/subscriptions/f9d5a085-54dc-4215-9ba6-dad5d86e60a0/resourceGroups/aml-quickstarts-250923/providers/Microsoft.MachineLearningServices/workspaces/quick-starts-ws-250923/experimentids/e24bb490-efb1-45b3-9e4d-fffca8b17cc4/cancel/AutoML_a8392b16-812c-479d-97c0-f74e91e2f089\", \"ClientSdkVersion\": null, \"snapshotId\": \"00000000-0000-0000-0000-000000000000\", \"SetupRunId\": \"AutoML_a8392b16-812c-479d-97c0-f74e91e2f089_setup\", \"SetupRunContainerId\": \"dcid.AutoML_a8392b16-812c-479d-97c0-f74e91e2f089_setup\", \"FeaturizationRunJsonPath\": \"featurizer_container.json\", \"FeaturizationRunId\": \"AutoML_a8392b16-812c-479d-97c0-f74e91e2f089_featurize\", \"ProblemInfoJsonString\": \"{\\\"dataset_num_categorical\\\": 0, \\\"is_sparse\\\": true, \\\"subsampling\\\": false, \\\"has_extra_col\\\": true, \\\"dataset_classes\\\": 2, \\\"dataset_features\\\": 18, \\\"dataset_samples\\\": 918, \\\"single_frequency_class_detected\\\": false}\", \"ModelExplainRunId\": \"AutoML_a8392b16-812c-479d-97c0-f74e91e2f089_ModelExplain\"}, \"tags\": {\"model_explain_run\": \"best_run\", \"_aml_system_automl_run_workspace_id\": \"a1d422bd-fab2-4c79-b91c-d9a5926bf761\", \"_aml_system_azureml.automlComponent\": \"AutoML\", \"pipeline_id_000\": \"5dfac790c5c209f98a1da2dc1c7fb76f0397324f;c7af0367625be6ac5c2fecbfc72ed444cb7a2111;799d2168db11fc19b9e1c6c1df62f8981ad39fe9;44b5d2d23120dfcf96a7dc6389a293d17a966b1b;3735210984ea10097d5c91905cf6300ac278cd89;5304e705d6f401cb07f85bcf0ca59ac1f84dfcf5;294650ec23bc3d067a4972de7ceb12f6e97260fa;3caa818370e5e0c328d6266c359019bd31681270;79ebb3b8c385e3190e3dd4c1fa28b74730528045;589334a57221e0720a95cf217c065115a7b841d1;5a8eb9d9f67b1dd7e9e4062585daa2417ea78989;1dfdf370ba770047b14bfa59c40920815defcdab;35b8e2db3c5f6e714072e1be9f0210fe48426975;5235e3d56688f5f38ef82d73fba7c2e698fc1af2;da45f657e4591caadf1589a85a1f7b8932585595;17f87d449bb43aaf3cdae4b7eb6dd6e7fbdaf343;797e3e972ad02d947be4c64d2b06b775b6df7a49;dc68fbd594530b5d52812dd9b3ffa3d6d8ba625e;3fd2e115482e0c7b92aa3297688aefb6c3aa6fb8;2032292dd602836ed754a266c771ac100c4c80dc;fedbb4995d6de479c513576119965d71276f03d1;1b9ea9b05e1aba0cfbaa30fae26f336a29920979;3ef9040509da05037cd402691a100d4b3dfeb7c4;e478544eb8734c07a1943f5bdf4e6605be6943df;f52e31edb9a1c79d3094620546ebbc7788edbaf8;675ec1c734ed516311cf5441a13a05b407df5a00;a6bd27dd928875b84f691d4dfa1c1a3794c161f1;3f87693e8822b5543aab10f52f57857916d67b87;1127ed220d2f77ac9b3d77a357ee42f5df3366d8;7c7b5d1768118e4b28cbfebee8d28bcf7ea9db5e;a13fe1339f40580e5c4adb6df43079e8b9a46b16;f3d88422298caf291fbd5da59ee587358faff71f;5ef5f6c7850e62d3e1b73f18dee49426f157fe04;1be96cd8829e5afe89eee3c3ef42af8c90feca6b;4f05904395a234915db2f17effd9ddb60b682959;e0edb592d1b50b4b3b088227c8cd766b8da8318a;cef374dbe0d4f0acb133e726e6000c749720c5f0;cae1ff034fc8714643a682eee40afe418461294d;53bc49becf961eb89c0b9b95af6b490b544cbcfc;1319830450af8d5baa36eb1fa8f295d57ec9a892;f40840602028c105bf9ef28ee91ca3b3ba3a99d2;939bd31beb8123c3f33ffe56f4faab3a52a48cef;101960e5cf8128b67010a7b95b749c322b266b6c;bc0f85f12b5cb83dd15cc55513d6d78931ce17dd;9572ea2179635546f7887003d48481fe84b2354e;__AutoML_Ensemble__\", \"score_000\": \"0.8660014255167499;0.863857210738893;0.854033024471371;0.8605963411736754;0.8660192444761228;0.862776193870278;0.8714659063910668;0.861647659776669;0.8627286766452839;0.8660251841292469;0.8649441672606321;0.8725706818721788;0.8692979330007127;0.8638334521263958;0.8627286766452839;0.8681931575196009;0.859455927773818;0.8747386552625327;0.871471846044191;0.8529638869090045;0.8583986695177002;0.8638512710857686;0.8529638869090045;0.8638453314326442;0.8627286766452839;0.6328997386552625;0.8540567830838679;0.8355250653361843;0.8780173437871228;0.8529579472558803;0.8616773580422903;0.848616060822048;0.8431812782133523;0.8540746020432408;0.8583927298645759;0.8410073651698742;0.8627286766452839;0.8540389641244952;0.8725706818721786;0.8627286766452839;0.8191791399382277;0.8420705630791161;NaN;NaN;NaN;0.8878296507483963\", \"predicted_cost_000\": \"0;0;0.5;0.5;0.5;0.5;0.5;0.5;0.5;0.5;0.5;0.5;0.5;0.5;0.5;0.5;0.5;0.5;0.5;0.5;0.22661347566590911;0.013912234454691159;0.036378579722774834;0.036775719666957314;0.13529072323059785;0.14104551493649112;0.03352156298862144;0.015505740639527093;0.039797741541348644;0.04036833980568611;0.025809147234535073;0.009076773134770571;0.1769635322606768;0.06137884850755142;0.013775968582176716;0.0052654027495065096;0.033259479453955035;0.0029895707147018203;0.06442603627981343;0.028131571340739132;0.0022864675792696153;0.04254974799059375;0.07420397005478667;0.011996633906804397;0.008246536093879023;0\", \"fit_time_000\": \"0.057302399999999996;0.1044664;0.1926028;0.0289364;0.0134454;0.011377400000000001;0.0198886;0.033062;0.0272716;0.0176798;0.0125226;0.25774779999999997;0.0163524;0.0350042;0.0332752;0.0670842;0.003897;0.039569200000000006;0.0194186;0.22565719999999997;0.4832873999999999;0.0396864;0.018424799999999998;0.0312804;0.019718;0.0500956;0.009319199999999998;0.0089974;0.030452199999999995;0.0190892;0.0168916;0.0105758;0.03544119999999999;0.1315604;0.0101936;0.0093886;0.0161024;0.0027286;0.037263599999999994;0.024050399999999996;0.0033846;0.0101972;NaN;NaN;NaN;15\", \"training_percent_000\": \"100;100;100;100;100;100;100;100;100;100;100;100;100;100;100;100;100;100;100;100;100;100;100;100;100;100;100;100;100;100;100;100;100;100;100;100;100;100;100;100;100;100;100;100;100;100\", \"iteration_000\": \"0;1;2;3;4;5;6;7;8;9;10;15;11;16;12;17;13;18;14;19;20;22;24;21;23;25;26;27;28;29;30;32;33;34;31;35;37;36;39;38;41;40;44;43;42;45\", \"run_preprocessor_000\": \"MaxAbsScaler;MaxAbsScaler;MaxAbsScaler;SparseNormalizer;MaxAbsScaler;MaxAbsScaler;StandardScalerWrapper;MaxAbsScaler;StandardScalerWrapper;StandardScalerWrapper;SparseNormalizer;SparseNormalizer;StandardScalerWrapper;StandardScalerWrapper;MaxAbsScaler;StandardScalerWrapper;MaxAbsScaler;StandardScalerWrapper;StandardScalerWrapper;TruncatedSVDWrapper;TruncatedSVDWrapper;SparseNormalizer;StandardScalerWrapper;StandardScalerWrapper;StandardScalerWrapper;TruncatedSVDWrapper;StandardScalerWrapper;StandardScalerWrapper;SparseNormalizer;StandardScalerWrapper;StandardScalerWrapper;MaxAbsScaler;SparseNormalizer;SparseNormalizer;MaxAbsScaler;SparseNormalizer;MaxAbsScaler;MaxAbsScaler;StandardScalerWrapper;StandardScalerWrapper;StandardScalerWrapper;MaxAbsScaler;;;;\", \"run_algorithm_000\": \"LightGBM;XGBoostClassifier;ExtremeRandomTrees;XGBoostClassifier;LightGBM;LightGBM;XGBoostClassifier;LogisticRegression;ExtremeRandomTrees;XGBoostClassifier;LightGBM;RandomForest;XGBoostClassifier;LogisticRegression;LogisticRegression;RandomForest;SGD;XGBoostClassifier;XGBoostClassifier;RandomForest;RandomForest;XGBoostClassifier;RandomForest;XGBoostClassifier;LogisticRegression;XGBoostClassifier;LightGBM;LightGBM;LightGBM;XGBoostClassifier;XGBoostClassifier;LightGBM;LightGBM;RandomForest;LightGBM;LightGBM;LogisticRegression;SGD;XGBoostClassifier;LogisticRegression;DecisionTree;LightGBM;;;;VotingEnsemble\", \"dynamic_allowlisting_iterations\": \"<25>;<30>;<35>;<40>;\", \"_aml_system_azureml.automl_early_exit_message\": \"No scores improved over last 10 iterations, so experiment stopped early. This early stopping behavior can be disabled by setting enable_early_stopping = False in AutoMLConfig for notebook/python SDK runs.\", \"automl_best_child_run_id\": \"AutoML_a8392b16-812c-479d-97c0-f74e91e2f089_45\", \"model_explain_best_run_child_id\": \"AutoML_a8392b16-812c-479d-97c0-f74e91e2f089_45\"}, \"end_time_utc\": \"2024-01-28T22:39:08.583084Z\", \"status\": \"Completed\", \"log_files\": {}, \"log_groups\": [], \"run_duration\": \"0:22:27\", \"run_number\": \"1706480200\", \"run_queued_details\": {\"status\": \"Completed\", \"details\": null}}, \"child_runs\": [{\"run_id\": \"AutoML_a8392b16-812c-479d-97c0-f74e91e2f089_setup\", \"run_number\": 1706480212, \"metric\": null, \"status\": \"Completed\", \"run_type\": \"azureml.scriptrun\", \"training_percent\": null, \"start_time\": \"2024-01-28T22:17:22.481435Z\", \"end_time\": \"2024-01-28T22:19:06.786545Z\", \"created_time\": \"2024-01-28T22:16:52.465757Z\", \"created_time_dt\": \"2024-01-28T22:16:52.465757Z\", \"duration\": \"0:02:14\", \"iteration\": null, \"goal\": null, \"run_name\": \"Completed\", \"run_properties\": null}, {\"run_id\": \"AutoML_a8392b16-812c-479d-97c0-f74e91e2f089_featurize\", \"run_number\": 1706480347, \"metric\": null, \"status\": \"Completed\", \"run_type\": \"automl.featurization\", \"training_percent\": null, \"start_time\": \"2024-01-28T22:19:07.466398Z\", \"end_time\": \"2024-01-28T22:22:16.502235Z\", \"created_time\": \"2024-01-28T22:19:07.081771Z\", \"created_time_dt\": \"2024-01-28T22:19:07.081771Z\", \"duration\": \"0:03:09\", \"iteration\": null, \"goal\": null, \"run_name\": \"Completed\", \"run_properties\": null}, {\"run_id\": \"AutoML_a8392b16-812c-479d-97c0-f74e91e2f089_0\", \"run_number\": 1706480538, \"metric\": null, \"status\": \"Completed\", \"run_type\": null, \"training_percent\": \"100\", \"start_time\": \"2024-01-28T22:22:51.556188Z\", \"end_time\": \"2024-01-28T22:23:00.988689Z\", \"created_time\": \"2024-01-28T22:22:18.110394Z\", \"created_time_dt\": \"2024-01-28T22:22:18.110394Z\", \"duration\": \"0:00:42\", \"iteration\": \"0\", \"goal\": \"accuracy_max\", \"run_name\": \"MaxAbsScaler, LightGBM\", \"run_properties\": null, \"primary_metric\": 0.86600143, \"best_metric\": 0.86600143}, {\"run_id\": \"AutoML_a8392b16-812c-479d-97c0-f74e91e2f089_2\", \"run_number\": 1706480539, \"metric\": null, \"status\": \"Completed\", \"run_type\": null, \"training_percent\": \"100\", \"start_time\": \"2024-01-28T22:23:09.943884Z\", \"end_time\": \"2024-01-28T22:23:17.802178Z\", \"created_time\": \"2024-01-28T22:22:19.111085Z\", \"created_time_dt\": \"2024-01-28T22:22:19.111085Z\", \"duration\": \"0:00:58\", \"iteration\": \"2\", \"goal\": \"accuracy_max\", \"run_name\": \"MaxAbsScaler, ExtremeRandomTrees\", \"run_properties\": null, \"primary_metric\": 0.85403302, \"best_metric\": 0.86600143}, {\"run_id\": \"AutoML_a8392b16-812c-479d-97c0-f74e91e2f089_worker_0\", \"run_number\": 1706480540, \"metric\": null, \"status\": \"Completed\", \"run_type\": \"azureml.scriptrun\", \"training_percent\": null, \"start_time\": \"2024-01-28T22:22:42.49587Z\", \"end_time\": \"2024-01-28T22:23:41.511999Z\", \"created_time\": \"2024-01-28T22:22:20.346159Z\", \"created_time_dt\": \"2024-01-28T22:22:20.346159Z\", \"duration\": \"0:01:21\", \"iteration\": null, \"goal\": null, \"run_name\": \"Completed\", \"run_properties\": null}, {\"run_id\": \"AutoML_a8392b16-812c-479d-97c0-f74e91e2f089_6\", \"run_number\": 1706480541, \"metric\": null, \"status\": \"Completed\", \"run_type\": null, \"training_percent\": \"100\", \"start_time\": \"2024-01-28T22:24:13.410848Z\", \"end_time\": \"2024-01-28T22:24:20.269426Z\", \"created_time\": \"2024-01-28T22:22:21.011216Z\", \"created_time_dt\": \"2024-01-28T22:22:21.011216Z\", \"duration\": \"0:01:59\", \"iteration\": \"6\", \"goal\": \"accuracy_max\", \"run_name\": \"StandardScalerWrapper, XGBoostClassifier\", \"run_properties\": \"copy=True, with_mean=False, with_std=False\", \"primary_metric\": 0.87146591, \"best_metric\": 0.87146591}, {\"run_id\": \"AutoML_a8392b16-812c-479d-97c0-f74e91e2f089_worker_1\", \"run_number\": 1706480542, \"metric\": null, \"status\": \"Completed\", \"run_type\": \"azureml.scriptrun\", \"training_percent\": null, \"start_time\": \"2024-01-28T22:23:55.362702Z\", \"end_time\": \"2024-01-28T22:24:56.653065Z\", \"created_time\": \"2024-01-28T22:22:22.763389Z\", \"created_time_dt\": \"2024-01-28T22:22:22.763389Z\", \"duration\": \"0:02:33\", \"iteration\": null, \"goal\": null, \"run_name\": \"Completed\", \"run_properties\": null}, {\"run_id\": \"AutoML_a8392b16-812c-479d-97c0-f74e91e2f089_11\", \"run_number\": 1706480543, \"metric\": null, \"status\": \"Completed\", \"run_type\": null, \"training_percent\": \"100\", \"start_time\": \"2024-01-28T22:26:15.218096Z\", \"end_time\": \"2024-01-28T22:26:22.083903Z\", \"created_time\": \"2024-01-28T22:22:23.41597Z\", \"created_time_dt\": \"2024-01-28T22:22:23.41597Z\", \"duration\": \"0:03:58\", \"iteration\": \"11\", \"goal\": \"accuracy_max\", \"run_name\": \"StandardScalerWrapper, XGBoostClassifier\", \"run_properties\": \"copy=True, with_mean=False, with_std=False\", \"primary_metric\": 0.86929793, \"best_metric\": 0.87146591}, {\"run_id\": \"AutoML_a8392b16-812c-479d-97c0-f74e91e2f089_13\", \"run_number\": 1706480544, \"metric\": null, \"status\": \"Completed\", \"run_type\": null, \"training_percent\": \"100\", \"start_time\": \"2024-01-28T22:26:30.279974Z\", \"end_time\": \"2024-01-28T22:26:37.013773Z\", \"created_time\": \"2024-01-28T22:22:24.257584Z\", \"created_time_dt\": \"2024-01-28T22:22:24.257584Z\", \"duration\": \"0:04:12\", \"iteration\": \"13\", \"goal\": \"accuracy_max\", \"run_name\": \"MaxAbsScaler, SGD\", \"run_properties\": null, \"primary_metric\": 0.85945593, \"best_metric\": 0.87146591}, {\"run_id\": \"AutoML_a8392b16-812c-479d-97c0-f74e91e2f089_worker_2\", \"run_number\": 1706480545, \"metric\": null, \"status\": \"Completed\", \"run_type\": \"azureml.scriptrun\", \"training_percent\": null, \"start_time\": \"2024-01-28T22:24:30.47193Z\", \"end_time\": \"2024-01-28T22:26:53.157871Z\", \"created_time\": \"2024-01-28T22:22:25.025674Z\", \"created_time_dt\": \"2024-01-28T22:22:25.025674Z\", \"duration\": \"0:04:28\", \"iteration\": null, \"goal\": null, \"run_name\": \"Completed\", \"run_properties\": null}, {\"run_id\": \"AutoML_a8392b16-812c-479d-97c0-f74e91e2f089_17\", \"run_number\": 1706480546, \"metric\": null, \"status\": \"Completed\", \"run_type\": null, \"training_percent\": \"100\", \"start_time\": \"2024-01-28T22:26:23.388411Z\", \"end_time\": \"2024-01-28T22:26:30.53165Z\", \"created_time\": \"2024-01-28T22:22:26.109754Z\", \"created_time_dt\": \"2024-01-28T22:22:26.109754Z\", \"duration\": \"0:04:04\", \"iteration\": \"17\", \"goal\": \"accuracy_max\", \"run_name\": \"StandardScalerWrapper, RandomForest\", \"run_properties\": \"copy=True, with_mean=False, with_std=False\", \"primary_metric\": 0.86819316, \"best_metric\": 0.87146591}, {\"run_id\": \"AutoML_a8392b16-812c-479d-97c0-f74e91e2f089_worker_3\", \"run_number\": 1706480547, \"metric\": null, \"status\": \"Completed\", \"run_type\": \"azureml.scriptrun\", \"training_percent\": null, \"start_time\": \"2024-01-28T22:24:29.737591Z\", \"end_time\": \"2024-01-28T22:27:00.527867Z\", \"created_time\": \"2024-01-28T22:22:27.349733Z\", \"created_time_dt\": \"2024-01-28T22:22:27.349733Z\", \"duration\": \"0:04:33\", \"iteration\": null, \"goal\": null, \"run_name\": \"Completed\", \"run_properties\": null}, {\"run_id\": \"AutoML_a8392b16-812c-479d-97c0-f74e91e2f089_21\", \"run_number\": 1706480799, \"metric\": null, \"status\": \"Completed\", \"run_type\": \"azureml.scriptrun\", \"training_percent\": \"100\", \"start_time\": \"2024-01-28T22:27:02.955517Z\", \"end_time\": \"2024-01-28T22:28:51.05729Z\", \"created_time\": \"2024-01-28T22:26:39.658261Z\", \"created_time_dt\": \"2024-01-28T22:26:39.658261Z\", \"duration\": \"0:02:11\", \"iteration\": \"21\", \"goal\": \"accuracy_max\", \"run_name\": \"StandardScalerWrapper, XGBoostClassifier\", \"run_properties\": \"copy=True, with_mean=False, with_std=False\", \"primary_metric\": 0.86384533, \"best_metric\": 0.87146591}, {\"run_id\": \"AutoML_a8392b16-812c-479d-97c0-f74e91e2f089_22\", \"run_number\": 1706480858, \"metric\": null, \"status\": \"Completed\", \"run_type\": \"azureml.scriptrun\", \"training_percent\": \"100\", \"start_time\": \"2024-01-28T22:28:05.668217Z\", \"end_time\": \"2024-01-28T22:28:31.116422Z\", \"created_time\": \"2024-01-28T22:27:38.675105Z\", \"created_time_dt\": \"2024-01-28T22:27:38.675105Z\", \"duration\": \"0:00:52\", \"iteration\": \"22\", \"goal\": \"accuracy_max\", \"run_name\": \"SparseNormalizer, XGBoostClassifier\", \"run_properties\": \"norm='l1'\", \"primary_metric\": 0.86385127, \"best_metric\": 0.87146591}, {\"run_id\": \"AutoML_a8392b16-812c-479d-97c0-f74e91e2f089_25\", \"run_number\": 1706480913, \"metric\": null, \"status\": \"Completed\", \"run_type\": \"azureml.scriptrun\", \"training_percent\": \"100\", \"start_time\": \"2024-01-28T22:29:03.222626Z\", \"end_time\": \"2024-01-28T22:29:28.137253Z\", \"created_time\": \"2024-01-28T22:28:33.125863Z\", \"created_time_dt\": \"2024-01-28T22:28:33.125863Z\", \"duration\": \"0:00:55\", \"iteration\": \"25\", \"goal\": \"accuracy_max\", \"run_name\": \"TruncatedSVDWrapper, XGBoostClassifier\", \"run_properties\": \"n_components=0.01\", \"primary_metric\": 0.63289974, \"best_metric\": 0.87146591}, {\"run_id\": \"AutoML_a8392b16-812c-479d-97c0-f74e91e2f089_26\", \"run_number\": 1706480930, \"metric\": null, \"status\": \"Completed\", \"run_type\": \"azureml.scriptrun\", \"training_percent\": \"100\", \"start_time\": \"2024-01-28T22:29:09.346317Z\", \"end_time\": \"2024-01-28T22:29:33.59362Z\", \"created_time\": \"2024-01-28T22:28:50.093543Z\", \"created_time_dt\": \"2024-01-28T22:28:50.093543Z\", \"duration\": \"0:00:43\", \"iteration\": \"26\", \"goal\": \"accuracy_max\", \"run_name\": \"StandardScalerWrapper, LightGBM\", \"run_properties\": \"copy=True, with_mean=False, with_std=False\", \"primary_metric\": 0.85405678, \"best_metric\": 0.87146591}, {\"run_id\": \"AutoML_a8392b16-812c-479d-97c0-f74e91e2f089_27\", \"run_number\": 1706480932, \"metric\": null, \"status\": \"Completed\", \"run_type\": \"azureml.scriptrun\", \"training_percent\": \"100\", \"start_time\": \"2024-01-28T22:29:21.283825Z\", \"end_time\": \"2024-01-28T22:29:45.669196Z\", \"created_time\": \"2024-01-28T22:28:52.47729Z\", \"created_time_dt\": \"2024-01-28T22:28:52.47729Z\", \"duration\": \"0:00:53\", \"iteration\": \"27\", \"goal\": \"accuracy_max\", \"run_name\": \"StandardScalerWrapper, LightGBM\", \"run_properties\": \"copy=True, with_mean=False, with_std=True\", \"primary_metric\": 0.83552507, \"best_metric\": 0.87146591}, {\"run_id\": \"AutoML_a8392b16-812c-479d-97c0-f74e91e2f089_28\", \"run_number\": 1706480950, \"metric\": null, \"status\": \"Completed\", \"run_type\": \"azureml.scriptrun\", \"training_percent\": \"100\", \"start_time\": \"2024-01-28T22:29:42.696052Z\", \"end_time\": \"2024-01-28T22:30:07.515609Z\", \"created_time\": \"2024-01-28T22:29:10.481009Z\", \"created_time_dt\": \"2024-01-28T22:29:10.481009Z\", \"duration\": \"0:00:57\", \"iteration\": \"28\", \"goal\": \"accuracy_max\", \"run_name\": \"SparseNormalizer, LightGBM\", \"run_properties\": null, \"primary_metric\": 0.87801734, \"best_metric\": 0.87801734}, {\"run_id\": \"AutoML_a8392b16-812c-479d-97c0-f74e91e2f089_29\", \"run_number\": 1706480969, \"metric\": null, \"status\": \"Completed\", \"run_type\": \"azureml.scriptrun\", \"training_percent\": \"100\", \"start_time\": \"2024-01-28T22:29:49.232572Z\", \"end_time\": \"2024-01-28T22:30:13.779168Z\", \"created_time\": \"2024-01-28T22:29:29.322479Z\", \"created_time_dt\": \"2024-01-28T22:29:29.322479Z\", \"duration\": \"0:00:44\", \"iteration\": \"29\", \"goal\": \"accuracy_max\", \"run_name\": \"StandardScalerWrapper, XGBoostClassifier\", \"run_properties\": \"copy=True, with_mean=False, with_std=False\", \"primary_metric\": 0.85295795, \"best_metric\": 0.87801734}, {\"run_id\": \"AutoML_a8392b16-812c-479d-97c0-f74e91e2f089_30\", \"run_number\": 1706480975, \"metric\": null, \"status\": \"Completed\", \"run_type\": \"azureml.scriptrun\", \"training_percent\": \"100\", \"start_time\": \"2024-01-28T22:30:01.08807Z\", \"end_time\": \"2024-01-28T22:30:25.588258Z\", \"created_time\": \"2024-01-28T22:29:35.601673Z\", \"created_time_dt\": \"2024-01-28T22:29:35.601673Z\", \"duration\": \"0:00:49\", \"iteration\": \"30\", \"goal\": \"accuracy_max\", \"run_name\": \"StandardScalerWrapper, XGBoostClassifier\", \"run_properties\": \"copy=True, with_mean=False, with_std=False\", \"primary_metric\": 0.86167736, \"best_metric\": 0.87801734}, {\"run_id\": \"AutoML_a8392b16-812c-479d-97c0-f74e91e2f089_31\", \"run_number\": 1706480987, \"metric\": null, \"status\": \"Completed\", \"run_type\": \"azureml.scriptrun\", \"training_percent\": \"100\", \"start_time\": \"2024-01-28T22:30:08.363877Z\", \"end_time\": \"2024-01-28T22:31:56.968671Z\", \"created_time\": \"2024-01-28T22:29:46.992823Z\", \"created_time_dt\": \"2024-01-28T22:29:46.992823Z\", \"duration\": \"0:02:09\", \"iteration\": \"31\", \"goal\": \"accuracy_max\", \"run_name\": \"MaxAbsScaler, LightGBM\", \"run_properties\": null, \"primary_metric\": 0.85839273, \"best_metric\": 0.87801734}, {\"run_id\": \"AutoML_a8392b16-812c-479d-97c0-f74e91e2f089_32\", \"run_number\": 1706481008, \"metric\": null, \"status\": \"Completed\", \"run_type\": \"azureml.scriptrun\", \"training_percent\": \"100\", \"start_time\": \"2024-01-28T22:30:29.264873Z\", \"end_time\": \"2024-01-28T22:30:53.279059Z\", \"created_time\": \"2024-01-28T22:30:08.826356Z\", \"created_time_dt\": \"2024-01-28T22:30:08.826356Z\", \"duration\": \"0:00:44\", \"iteration\": \"32\", \"goal\": \"accuracy_max\", \"run_name\": \"MaxAbsScaler, LightGBM\", \"run_properties\": null, \"primary_metric\": 0.84861606, \"best_metric\": 0.87801734}, {\"run_id\": \"AutoML_a8392b16-812c-479d-97c0-f74e91e2f089_33\", \"run_number\": 1706481015, \"metric\": null, \"status\": \"Completed\", \"run_type\": \"azureml.scriptrun\", \"training_percent\": \"100\", \"start_time\": \"2024-01-28T22:30:33.995539Z\", \"end_time\": \"2024-01-28T22:30:59.044263Z\", \"created_time\": \"2024-01-28T22:30:15.091996Z\", \"created_time_dt\": \"2024-01-28T22:30:15.091996Z\", \"duration\": \"0:00:43\", \"iteration\": \"33\", \"goal\": \"accuracy_max\", \"run_name\": \"SparseNormalizer, LightGBM\", \"run_properties\": \"norm='l1'\", \"primary_metric\": 0.84318128, \"best_metric\": 0.87801734}, {\"run_id\": \"AutoML_a8392b16-812c-479d-97c0-f74e91e2f089_34\", \"run_number\": 1706481026, \"metric\": null, \"status\": \"Completed\", \"run_type\": \"azureml.scriptrun\", \"training_percent\": \"100\", \"start_time\": \"2024-01-28T22:31:12.69094Z\", \"end_time\": \"2024-01-28T22:31:38.480533Z\", \"created_time\": \"2024-01-28T22:30:26.82492Z\", \"created_time_dt\": \"2024-01-28T22:30:26.82492Z\", \"duration\": \"0:01:11\", \"iteration\": \"34\", \"goal\": \"accuracy_max\", \"run_name\": \"SparseNormalizer, RandomForest\", \"run_properties\": \"norm='max'\", \"primary_metric\": 0.8540746, \"best_metric\": 0.87801734}, {\"run_id\": \"AutoML_a8392b16-812c-479d-97c0-f74e91e2f089_35\", \"run_number\": 1706481055, \"metric\": null, \"status\": \"Completed\", \"run_type\": \"azureml.scriptrun\", \"training_percent\": \"100\", \"start_time\": \"2024-01-28T22:31:52.083228Z\", \"end_time\": \"2024-01-28T22:32:17.084405Z\", \"created_time\": \"2024-01-28T22:30:55.532644Z\", \"created_time_dt\": \"2024-01-28T22:30:55.532644Z\", \"duration\": \"0:01:21\", \"iteration\": \"35\", \"goal\": \"accuracy_max\", \"run_name\": \"SparseNormalizer, LightGBM\", \"run_properties\": \"norm='max'\", \"primary_metric\": 0.84100737, \"best_metric\": 0.87801734}, {\"run_id\": \"AutoML_a8392b16-812c-479d-97c0-f74e91e2f089_36\", \"run_number\": 1706481060, \"metric\": null, \"status\": \"Completed\", \"run_type\": \"azureml.scriptrun\", \"training_percent\": \"100\", \"start_time\": \"2024-01-28T22:31:56.058813Z\", \"end_time\": \"2024-01-28T22:33:35.39141Z\", \"created_time\": \"2024-01-28T22:31:00.554387Z\", \"created_time_dt\": \"2024-01-28T22:31:00.554387Z\", \"duration\": \"0:02:34\", \"iteration\": \"36\", \"goal\": \"accuracy_max\", \"run_name\": \"MaxAbsScaler, SGD\", \"run_properties\": null, \"primary_metric\": 0.85403896, \"best_metric\": 0.87801734}, {\"run_id\": \"AutoML_a8392b16-812c-479d-97c0-f74e91e2f089_37\", \"run_number\": 1706481099, \"metric\": null, \"status\": \"Completed\", \"run_type\": \"azureml.scriptrun\", \"training_percent\": \"100\", \"start_time\": \"2024-01-28T22:32:32.505838Z\", \"end_time\": \"2024-01-28T22:32:57.446916Z\", \"created_time\": \"2024-01-28T22:31:39.915484Z\", \"created_time_dt\": \"2024-01-28T22:31:39.915484Z\", \"duration\": \"0:01:17\", \"iteration\": \"37\", \"goal\": \"accuracy_max\", \"run_name\": \"MaxAbsScaler, LogisticRegression\", \"run_properties\": null, \"primary_metric\": 0.86272868, \"best_metric\": 0.87801734}, {\"run_id\": \"AutoML_a8392b16-812c-479d-97c0-f74e91e2f089_38\", \"run_number\": 1706481118, \"metric\": null, \"status\": \"Completed\", \"run_type\": \"azureml.scriptrun\", \"training_percent\": \"100\", \"start_time\": \"2024-01-28T22:32:38.751606Z\", \"end_time\": \"2024-01-28T22:34:22.769083Z\", \"created_time\": \"2024-01-28T22:31:58.422823Z\", \"created_time_dt\": \"2024-01-28T22:31:58.422823Z\", \"duration\": \"0:02:24\", \"iteration\": \"38\", \"goal\": \"accuracy_max\", \"run_name\": \"StandardScalerWrapper, LogisticRegression\", \"run_properties\": \"copy=True, with_mean=False, with_std=True\", \"primary_metric\": 0.86272868, \"best_metric\": 0.87801734}, {\"run_id\": \"AutoML_a8392b16-812c-479d-97c0-f74e91e2f089_39\", \"run_number\": 1706481138, \"metric\": null, \"status\": \"Completed\", \"run_type\": \"azureml.scriptrun\", \"training_percent\": \"100\", \"start_time\": \"2024-01-28T22:33:49.373611Z\", \"end_time\": \"2024-01-28T22:34:13.935759Z\", \"created_time\": \"2024-01-28T22:32:18.524015Z\", \"created_time_dt\": \"2024-01-28T22:32:18.524015Z\", \"duration\": \"0:01:55\", \"iteration\": \"39\", \"goal\": \"accuracy_max\", \"run_name\": \"StandardScalerWrapper, XGBoostClassifier\", \"run_properties\": \"copy=True, with_mean=False, with_std=False\", \"primary_metric\": 0.87257068, \"best_metric\": 0.87801734}, {\"run_id\": \"AutoML_a8392b16-812c-479d-97c0-f74e91e2f089_40\", \"run_number\": 1706481179, \"metric\": null, \"status\": \"Completed\", \"run_type\": \"azureml.scriptrun\", \"training_percent\": \"100\", \"start_time\": \"2024-01-28T22:34:28.924527Z\", \"end_time\": \"2024-01-28T22:36:14.426973Z\", \"created_time\": \"2024-01-28T22:32:59.545385Z\", \"created_time_dt\": \"2024-01-28T22:32:59.545385Z\", \"duration\": \"0:03:14\", \"iteration\": \"40\", \"goal\": \"accuracy_max\", \"run_name\": \"MaxAbsScaler, LightGBM\", \"run_properties\": null, \"primary_metric\": 0.84207056, \"best_metric\": 0.87801734}, {\"run_id\": \"AutoML_a8392b16-812c-479d-97c0-f74e91e2f089_41\", \"run_number\": 1706481216, \"metric\": null, \"status\": \"Completed\", \"run_type\": \"azureml.scriptrun\", \"training_percent\": \"100\", \"start_time\": \"2024-01-28T22:34:35.723161Z\", \"end_time\": \"2024-01-28T22:35:00.507235Z\", \"created_time\": \"2024-01-28T22:33:36.690036Z\", \"created_time_dt\": \"2024-01-28T22:33:36.690036Z\", \"duration\": \"0:01:23\", \"iteration\": \"41\", \"goal\": \"accuracy_max\", \"run_name\": \"StandardScalerWrapper, DecisionTree\", \"run_properties\": \"copy=True, with_mean=False, with_std=True\", \"primary_metric\": 0.81917914, \"best_metric\": 0.87801734}, {\"run_id\": \"AutoML_a8392b16-812c-479d-97c0-f74e91e2f089_42\", \"run_number\": 1706481255, \"metric\": null, \"status\": \"Canceled\", \"run_type\": \"azureml.scriptrun\", \"training_percent\": \"100\", \"start_time\": \"2024-01-28T22:35:20.987273Z\", \"end_time\": \"2024-01-28T22:36:21.367138Z\", \"created_time\": \"2024-01-28T22:34:15.316735Z\", \"created_time_dt\": \"2024-01-28T22:34:15.316735Z\", \"duration\": \"0:02:06\", \"iteration\": \"42\", \"goal\": null, \"run_name\": \"Canceled\", \"run_properties\": null}, {\"run_id\": \"AutoML_a8392b16-812c-479d-97c0-f74e91e2f089_43\", \"run_number\": 1706481264, \"metric\": null, \"status\": \"Canceled\", \"run_type\": \"azureml.scriptrun\", \"training_percent\": \"100\", \"start_time\": \"2024-01-28T22:35:39.317012Z\", \"end_time\": \"2024-01-28T22:36:21.246369Z\", \"created_time\": \"2024-01-28T22:34:24.020587Z\", \"created_time_dt\": \"2024-01-28T22:34:24.020587Z\", \"duration\": \"0:01:57\", \"iteration\": \"43\", \"goal\": null, \"run_name\": \"Canceled\", \"run_properties\": null}, {\"run_id\": \"AutoML_a8392b16-812c-479d-97c0-f74e91e2f089_44\", \"run_number\": 1706481301, \"metric\": null, \"status\": \"Canceled\", \"run_type\": \"azureml.scriptrun\", \"training_percent\": \"100\", \"start_time\": \"2024-01-28T22:36:15.146595Z\", \"end_time\": \"2024-01-28T22:36:17.971231Z\", \"created_time\": \"2024-01-28T22:35:01.825448Z\", \"created_time_dt\": \"2024-01-28T22:35:01.825448Z\", \"duration\": \"0:01:16\", \"iteration\": \"44\", \"goal\": null, \"run_name\": \"Canceled\", \"run_properties\": null}, {\"run_id\": \"AutoML_a8392b16-812c-479d-97c0-f74e91e2f089_45\", \"run_number\": 1706481382, \"metric\": null, \"status\": \"Completed\", \"run_type\": \"azureml.scriptrun\", \"training_percent\": \"100\", \"start_time\": \"2024-01-28T22:37:01.421853Z\", \"end_time\": \"2024-01-28T22:39:07.406052Z\", \"created_time\": \"2024-01-28T22:36:22.067519Z\", \"created_time_dt\": \"2024-01-28T22:36:22.067519Z\", \"duration\": \"0:02:45\", \"iteration\": \"45\", \"goal\": \"accuracy_max\", \"run_name\": \"VotingEnsemble\", \"run_properties\": \"classification_labels=numpy.array([0, 1]\", \"primary_metric\": 0.88782965, \"best_metric\": 0.88782965}], \"children_metrics\": {\"categories\": [0], \"series\": {\"average_precision_score_weighted\": [{\"categories\": [\"0\", \"2\", \"6\", \"11\", \"13\", \"17\", \"21\", \"22\", \"25\", \"26\", \"27\", \"28\", \"29\", \"30\", \"31\", \"32\", \"33\", \"34\", \"35\", \"36\", \"37\", \"38\", \"39\", \"40\", \"41\", \"45\"], \"mode\": \"markers\", \"name\": \"average_precision_score_weighted\", \"stepped\": false, \"type\": \"scatter\", \"data\": [0.9243002853087807, 0.9222752070190836, 0.9136920733278874, 0.9311151874656435, 0.9181730881131202, 0.9282617833502389, 0.9320920292770829, 0.91791765824469, 0.6582053715165916, 0.9309166755816907, 0.9190210876770575, 0.9341587304855647, 0.9198470003136208, 0.92346130459203, 0.923982912790871, 0.9155371630739028, 0.9098663572155747, 0.9188339681870733, 0.9090488718981161, 0.9186148261554035, 0.9278598655870706, 0.9278311250964704, 0.9342239756444423, 0.9152327786373082, 0.8874933218652394, 0.9365331567573385]}, {\"categories\": [\"0\", \"2\", \"6\", \"11\", \"13\", \"17\", \"21\", \"22\", \"25\", \"26\", \"27\", \"28\", \"29\", \"30\", \"31\", \"32\", \"33\", \"34\", \"35\", \"36\", \"37\", \"38\", \"39\", \"40\", \"41\", \"45\"], \"mode\": \"lines\", \"name\": \"average_precision_score_weighted_max\", \"stepped\": true, \"type\": \"scatter\", \"data\": [0.9243002853087807, 0.9243002853087807, 0.9243002853087807, 0.9311151874656435, 0.9311151874656435, 0.9311151874656435, 0.9320920292770829, 0.9320920292770829, 0.9320920292770829, 0.9320920292770829, 0.9320920292770829, 0.9341587304855647, 0.9341587304855647, 0.9341587304855647, 0.9341587304855647, 0.9341587304855647, 0.9341587304855647, 0.9341587304855647, 0.9341587304855647, 0.9341587304855647, 0.9341587304855647, 0.9341587304855647, 0.9342239756444423, 0.9342239756444423, 0.9342239756444423, 0.9365331567573385]}], \"precision_score_micro\": [{\"categories\": [\"0\", \"2\", \"6\", \"11\", \"13\", \"17\", \"21\", \"22\", \"25\", \"26\", \"27\", \"28\", \"29\", \"30\", \"31\", \"32\", \"33\", \"34\", \"35\", \"36\", \"37\", \"38\", \"39\", \"40\", \"41\", \"45\"], \"mode\": \"markers\", \"name\": \"precision_score_micro\", \"stepped\": false, \"type\": \"scatter\", \"data\": [0.8660014255167499, 0.854033024471371, 0.8714659063910668, 0.8692979330007127, 0.859455927773818, 0.8681931575196009, 0.8638453314326442, 0.8638512710857686, 0.6328997386552625, 0.8540567830838679, 0.8355250653361843, 0.8780173437871228, 0.8529579472558803, 0.8616773580422903, 0.8583927298645759, 0.848616060822048, 0.8431812782133523, 0.8540746020432408, 0.8410073651698742, 0.8540389641244952, 0.8627286766452839, 0.8627286766452839, 0.8725706818721786, 0.8420705630791161, 0.8191791399382277, 0.8878296507483963]}, {\"categories\": [\"0\", \"2\", \"6\", \"11\", \"13\", \"17\", \"21\", \"22\", \"25\", \"26\", \"27\", \"28\", \"29\", \"30\", \"31\", \"32\", \"33\", \"34\", \"35\", \"36\", \"37\", \"38\", \"39\", \"40\", \"41\", \"45\"], \"mode\": \"lines\", \"name\": \"precision_score_micro_max\", \"stepped\": true, \"type\": \"scatter\", \"data\": [0.8660014255167499, 0.8660014255167499, 0.8714659063910668, 0.8714659063910668, 0.8714659063910668, 0.8714659063910668, 0.8714659063910668, 0.8714659063910668, 0.8714659063910668, 0.8714659063910668, 0.8714659063910668, 0.8780173437871228, 0.8780173437871228, 0.8780173437871228, 0.8780173437871228, 0.8780173437871228, 0.8780173437871228, 0.8780173437871228, 0.8780173437871228, 0.8780173437871228, 0.8780173437871228, 0.8780173437871228, 0.8780173437871228, 0.8780173437871228, 0.8780173437871228, 0.8878296507483963]}], \"recall_score_micro\": [{\"categories\": [\"0\", \"2\", \"6\", \"11\", \"13\", \"17\", \"21\", \"22\", \"25\", \"26\", \"27\", \"28\", \"29\", \"30\", \"31\", \"32\", \"33\", \"34\", \"35\", \"36\", \"37\", \"38\", \"39\", \"40\", \"41\", \"45\"], \"mode\": \"markers\", \"name\": \"recall_score_micro\", \"stepped\": false, \"type\": \"scatter\", \"data\": [0.8660014255167499, 0.854033024471371, 0.8714659063910668, 0.8692979330007127, 0.859455927773818, 0.8681931575196009, 0.8638453314326442, 0.8638512710857686, 0.6328997386552625, 0.8540567830838679, 0.8355250653361843, 0.8780173437871228, 0.8529579472558803, 0.8616773580422903, 0.8583927298645759, 0.848616060822048, 0.8431812782133523, 0.8540746020432408, 0.8410073651698742, 0.8540389641244952, 0.8627286766452839, 0.8627286766452839, 0.8725706818721786, 0.8420705630791161, 0.8191791399382277, 0.8878296507483963]}, {\"categories\": [\"0\", \"2\", \"6\", \"11\", \"13\", \"17\", \"21\", \"22\", \"25\", \"26\", \"27\", \"28\", \"29\", \"30\", \"31\", \"32\", \"33\", \"34\", \"35\", \"36\", \"37\", \"38\", \"39\", \"40\", \"41\", \"45\"], \"mode\": \"lines\", \"name\": \"recall_score_micro_max\", \"stepped\": true, \"type\": \"scatter\", \"data\": [0.8660014255167499, 0.8660014255167499, 0.8714659063910668, 0.8714659063910668, 0.8714659063910668, 0.8714659063910668, 0.8714659063910668, 0.8714659063910668, 0.8714659063910668, 0.8714659063910668, 0.8714659063910668, 0.8780173437871228, 0.8780173437871228, 0.8780173437871228, 0.8780173437871228, 0.8780173437871228, 0.8780173437871228, 0.8780173437871228, 0.8780173437871228, 0.8780173437871228, 0.8780173437871228, 0.8780173437871228, 0.8780173437871228, 0.8780173437871228, 0.8780173437871228, 0.8878296507483963]}], \"log_loss\": [{\"categories\": [\"0\", \"2\", \"6\", \"11\", \"13\", \"17\", \"21\", \"22\", \"25\", \"26\", \"27\", \"28\", \"29\", \"30\", \"31\", \"32\", \"33\", \"34\", \"35\", \"36\", \"37\", \"38\", \"39\", \"40\", \"41\", \"45\"], \"mode\": \"markers\", \"name\": \"log_loss\", \"stepped\": false, \"type\": \"scatter\", \"data\": [0.3994302594587884, 0.38325855107120943, 0.34954201925990497, 0.33132030683330305, 0.6152598972823407, 0.3739411039670466, 0.3341319356464808, 0.3582014032143027, 0.6350365382437391, 0.4968901131078473, 0.47086008192127704, 0.3209705224668206, 0.5054935106755859, 0.34307885193364784, 0.41127041393466196, 0.40409145201758967, 0.45334144457556425, 0.369060712104854, 0.47286732141620114, 0.6829643668557617, 0.33633444839698745, 0.3361473883703845, 0.3185826977194912, 0.5530827439468697, 0.8901628920292597, 0.3513919953832287]}, {\"categories\": [\"0\", \"2\", \"6\", \"11\", \"13\", \"17\", \"21\", \"22\", \"25\", \"26\", \"27\", \"28\", \"29\", \"30\", \"31\", \"32\", \"33\", \"34\", \"35\", \"36\", \"37\", \"38\", \"39\", \"40\", \"41\", \"45\"], \"mode\": \"lines\", \"name\": \"log_loss_min\", \"stepped\": true, \"type\": \"scatter\", \"data\": [0.3994302594587884, 0.38325855107120943, 0.34954201925990497, 0.33132030683330305, 0.33132030683330305, 0.33132030683330305, 0.33132030683330305, 0.33132030683330305, 0.33132030683330305, 0.33132030683330305, 0.33132030683330305, 0.3209705224668206, 0.3209705224668206, 0.3209705224668206, 0.3209705224668206, 0.3209705224668206, 0.3209705224668206, 0.3209705224668206, 0.3209705224668206, 0.3209705224668206, 0.3209705224668206, 0.3209705224668206, 0.3185826977194912, 0.3185826977194912, 0.3185826977194912, 0.3185826977194912]}], \"f1_score_micro\": [{\"categories\": [\"0\", \"2\", \"6\", \"11\", \"13\", \"17\", \"21\", \"22\", \"25\", \"26\", \"27\", \"28\", \"29\", \"30\", \"31\", \"32\", \"33\", \"34\", \"35\", \"36\", \"37\", \"38\", \"39\", \"40\", \"41\", \"45\"], \"mode\": \"markers\", \"name\": \"f1_score_micro\", \"stepped\": false, \"type\": \"scatter\", \"data\": [0.8660014255167499, 0.854033024471371, 0.8714659063910668, 0.8692979330007127, 0.8594559277738181, 0.8681931575196009, 0.8638453314326444, 0.8638512710857686, 0.6328997386552625, 0.8540567830838679, 0.8355250653361844, 0.8780173437871228, 0.8529579472558803, 0.8616773580422903, 0.8583927298645759, 0.848616060822048, 0.8431812782133523, 0.8540746020432408, 0.8410073651698742, 0.8540389641244952, 0.8627286766452841, 0.8627286766452839, 0.8725706818721786, 0.8420705630791161, 0.8191791399382277, 0.8878296507483963]}, {\"categories\": [\"0\", \"2\", \"6\", \"11\", \"13\", \"17\", \"21\", \"22\", \"25\", \"26\", \"27\", \"28\", \"29\", \"30\", \"31\", \"32\", \"33\", \"34\", \"35\", \"36\", \"37\", \"38\", \"39\", \"40\", \"41\", \"45\"], \"mode\": \"lines\", \"name\": \"f1_score_micro_max\", \"stepped\": true, \"type\": \"scatter\", \"data\": [0.8660014255167499, 0.8660014255167499, 0.8714659063910668, 0.8714659063910668, 0.8714659063910668, 0.8714659063910668, 0.8714659063910668, 0.8714659063910668, 0.8714659063910668, 0.8714659063910668, 0.8714659063910668, 0.8780173437871228, 0.8780173437871228, 0.8780173437871228, 0.8780173437871228, 0.8780173437871228, 0.8780173437871228, 0.8780173437871228, 0.8780173437871228, 0.8780173437871228, 0.8780173437871228, 0.8780173437871228, 0.8780173437871228, 0.8780173437871228, 0.8780173437871228, 0.8878296507483963]}], \"average_precision_score_macro\": [{\"categories\": [\"0\", \"2\", \"6\", \"11\", \"13\", \"17\", \"21\", \"22\", \"25\", \"26\", \"27\", \"28\", \"29\", \"30\", \"31\", \"32\", \"33\", \"34\", \"35\", \"36\", \"37\", \"38\", \"39\", \"40\", \"41\", \"45\"], \"mode\": \"markers\", \"name\": \"average_precision_score_macro\", \"stepped\": false, \"type\": \"scatter\", \"data\": [0.9235669925777401, 0.9209822137659112, 0.9129952420503779, 0.9302199576955028, 0.916446725390351, 0.9272159925054412, 0.9307718078352153, 0.9167559871911017, 0.6488142783615912, 0.929619626016834, 0.9177904682881822, 0.9336712731237474, 0.9188395221321711, 0.9225941307716139, 0.9231318790898332, 0.914265434788662, 0.9085604497316524, 0.9178454621739052, 0.9077765656974179, 0.9167437154972016, 0.9265448399430763, 0.9265069858287077, 0.9337204900050841, 0.9138906785219426, 0.8857139607431275, 0.9356929767471535]}, {\"categories\": [\"0\", \"2\", \"6\", \"11\", \"13\", \"17\", \"21\", \"22\", \"25\", \"26\", \"27\", \"28\", \"29\", \"30\", \"31\", \"32\", \"33\", \"34\", \"35\", \"36\", \"37\", \"38\", \"39\", \"40\", \"41\", \"45\"], \"mode\": \"lines\", \"name\": \"average_precision_score_macro_max\", \"stepped\": true, \"type\": \"scatter\", \"data\": [0.9235669925777401, 0.9235669925777401, 0.9235669925777401, 0.9302199576955028, 0.9302199576955028, 0.9302199576955028, 0.9307718078352153, 0.9307718078352153, 0.9307718078352153, 0.9307718078352153, 0.9307718078352153, 0.9336712731237474, 0.9336712731237474, 0.9336712731237474, 0.9336712731237474, 0.9336712731237474, 0.9336712731237474, 0.9336712731237474, 0.9336712731237474, 0.9336712731237474, 0.9336712731237474, 0.9336712731237474, 0.9337204900050841, 0.9337204900050841, 0.9337204900050841, 0.9356929767471535]}], \"norm_macro_recall\": [{\"categories\": [\"0\", \"2\", \"6\", \"11\", \"13\", \"17\", \"21\", \"22\", \"25\", \"26\", \"27\", \"28\", \"29\", \"30\", \"31\", \"32\", \"33\", \"34\", \"35\", \"36\", \"37\", \"38\", \"39\", \"40\", \"41\", \"45\"], \"mode\": \"markers\", \"name\": \"norm_macro_recall\", \"stepped\": false, \"type\": \"scatter\", \"data\": [0.724125380009368, 0.7011686893204269, 0.7318069586606679, 0.7312273245243596, 0.7141056713151646, 0.7267985650507256, 0.7187619674294605, 0.7178744046620305, 0.24256910674720963, 0.6939337225097593, 0.6544849229604852, 0.7500242920106505, 0.6984302320079248, 0.7163099604548695, 0.7068208152965321, 0.6833602005889378, 0.669482502160963, 0.6934650610499522, 0.664707325646656, 0.706591139084474, 0.7178845966284259, 0.7180095341596602, 0.7400380426013455, 0.6617351908670662, 0.6217953009009245, 0.7684087485687872]}, {\"categories\": [\"0\", \"2\", \"6\", \"11\", \"13\", \"17\", \"21\", \"22\", \"25\", \"26\", \"27\", \"28\", \"29\", \"30\", \"31\", \"32\", \"33\", \"34\", \"35\", \"36\", \"37\", \"38\", \"39\", \"40\", \"41\", \"45\"], \"mode\": \"lines\", \"name\": \"norm_macro_recall_max\", \"stepped\": true, \"type\": \"scatter\", \"data\": [0.724125380009368, 0.724125380009368, 0.7318069586606679, 0.7318069586606679, 0.7318069586606679, 0.7318069586606679, 0.7318069586606679, 0.7318069586606679, 0.7318069586606679, 0.7318069586606679, 0.7318069586606679, 0.7500242920106505, 0.7500242920106505, 0.7500242920106505, 0.7500242920106505, 0.7500242920106505, 0.7500242920106505, 0.7500242920106505, 0.7500242920106505, 0.7500242920106505, 0.7500242920106505, 0.7500242920106505, 0.7500242920106505, 0.7500242920106505, 0.7500242920106505, 0.7684087485687872]}], \"weighted_accuracy\": [{\"categories\": [\"0\", \"2\", \"6\", \"11\", \"13\", \"17\", \"21\", \"22\", \"25\", \"26\", \"27\", \"28\", \"29\", \"30\", \"31\", \"32\", \"33\", \"34\", \"35\", \"36\", \"37\", \"38\", \"39\", \"40\", \"41\", \"45\"], \"mode\": \"markers\", \"name\": \"weighted_accuracy\", \"stepped\": false, \"type\": \"scatter\", \"data\": [0.8697119490484972, 0.8572976508303605, 0.8767000422097155, 0.8727828156875294, 0.8617042645808428, 0.8727421814637621, 0.8680443392736799, 0.8685143307419809, 0.6440331243508124, 0.8607755320883703, 0.8432930549464267, 0.8808542873026857, 0.8564831317946398, 0.8649847836871734, 0.8630988179353409, 0.8551822173139454, 0.8511311624376148, 0.8609884420185161, 0.8491356067913841, 0.8546768829280882, 0.8662760548323565, 0.8662139540062235, 0.8749904009292839, 0.8526515691915856, 0.8269532178417662, 0.8912648038539045]}, {\"categories\": [\"0\", \"2\", \"6\", \"11\", \"13\", \"17\", \"21\", \"22\", \"25\", \"26\", \"27\", \"28\", \"29\", \"30\", \"31\", \"32\", \"33\", \"34\", \"35\", \"36\", \"37\", \"38\", \"39\", \"40\", \"41\", \"45\"], \"mode\": \"lines\", \"name\": \"weighted_accuracy_max\", \"stepped\": true, \"type\": \"scatter\", \"data\": [0.8697119490484972, 0.8697119490484972, 0.8767000422097155, 0.8767000422097155, 0.8767000422097155, 0.8767000422097155, 0.8767000422097155, 0.8767000422097155, 0.8767000422097155, 0.8767000422097155, 0.8767000422097155, 0.8808542873026857, 0.8808542873026857, 0.8808542873026857, 0.8808542873026857, 0.8808542873026857, 0.8808542873026857, 0.8808542873026857, 0.8808542873026857, 0.8808542873026857, 0.8808542873026857, 0.8808542873026857, 0.8808542873026857, 0.8808542873026857, 0.8808542873026857, 0.8912648038539045]}], \"balanced_accuracy\": [{\"categories\": [\"0\", \"2\", \"6\", \"11\", \"13\", \"17\", \"21\", \"22\", \"25\", \"26\", \"27\", \"28\", \"29\", \"30\", \"31\", \"32\", \"33\", \"34\", \"35\", \"36\", \"37\", \"38\", \"39\", \"40\", \"41\", \"45\"], \"mode\": \"markers\", \"name\": \"balanced_accuracy\", \"stepped\": false, \"type\": \"scatter\", \"data\": [0.862062690004684, 0.8505843446602134, 0.8659034793303342, 0.8656136622621797, 0.8570528356575823, 0.8633992825253628, 0.8593809837147303, 0.8589372023310153, 0.6212845533736047, 0.8469668612548796, 0.8272424614802425, 0.8750121460053253, 0.8492151160039623, 0.8581549802274347, 0.8534104076482659, 0.8416801002944687, 0.8347412510804816, 0.8467325305249762, 0.8323536628233281, 0.853295569542237, 0.8589422983142129, 0.8590047670798301, 0.8700190213006728, 0.830867595433533, 0.8108976504504624, 0.8842043742843936]}, {\"categories\": [\"0\", \"2\", \"6\", \"11\", \"13\", \"17\", \"21\", \"22\", \"25\", \"26\", \"27\", \"28\", \"29\", \"30\", \"31\", \"32\", \"33\", \"34\", \"35\", \"36\", \"37\", \"38\", \"39\", \"40\", \"41\", \"45\"], \"mode\": \"lines\", \"name\": \"balanced_accuracy_max\", \"stepped\": true, \"type\": \"scatter\", \"data\": [0.862062690004684, 0.862062690004684, 0.8659034793303342, 0.8659034793303342, 0.8659034793303342, 0.8659034793303342, 0.8659034793303342, 0.8659034793303342, 0.8659034793303342, 0.8659034793303342, 0.8659034793303342, 0.8750121460053253, 0.8750121460053253, 0.8750121460053253, 0.8750121460053253, 0.8750121460053253, 0.8750121460053253, 0.8750121460053253, 0.8750121460053253, 0.8750121460053253, 0.8750121460053253, 0.8750121460053253, 0.8750121460053253, 0.8750121460053253, 0.8750121460053253, 0.8842043742843936]}], \"AUC_micro\": [{\"categories\": [\"0\", \"2\", \"6\", \"11\", \"13\", \"17\", \"21\", \"22\", \"25\", \"26\", \"27\", \"28\", \"29\", \"30\", \"31\", \"32\", \"33\", \"34\", \"35\", \"36\", \"37\", \"38\", \"39\", \"40\", \"41\", \"45\"], \"mode\": \"markers\", \"name\": \"AUC_micro\", \"stepped\": false, \"type\": \"scatter\", \"data\": [0.9290138271427443, 0.9236847298588182, 0.922961408807824, 0.9346453168382294, 0.9262886350163452, 0.9294061735828839, 0.9325942125439604, 0.9242251329838801, 0.6897742676389353, 0.9210365112058069, 0.9150251692977538, 0.935581513914142, 0.9256942399998621, 0.9266408600451204, 0.9236575720684967, 0.920314225960323, 0.9134886213236737, 0.9197205432365259, 0.9121740772341747, 0.9212548255624494, 0.9285096288776593, 0.9284034256501345, 0.9367843360071791, 0.8930641000690291, 0.906795018562933, 0.9377335291612555]}, {\"categories\": [\"0\", \"2\", \"6\", \"11\", \"13\", \"17\", \"21\", \"22\", \"25\", \"26\", \"27\", \"28\", \"29\", \"30\", \"31\", \"32\", \"33\", \"34\", \"35\", \"36\", \"37\", \"38\", \"39\", \"40\", \"41\", \"45\"], \"mode\": \"lines\", \"name\": \"AUC_micro_max\", \"stepped\": true, \"type\": \"scatter\", \"data\": [0.9290138271427443, 0.9290138271427443, 0.9290138271427443, 0.9346453168382294, 0.9346453168382294, 0.9346453168382294, 0.9346453168382294, 0.9346453168382294, 0.9346453168382294, 0.9346453168382294, 0.9346453168382294, 0.935581513914142, 0.935581513914142, 0.935581513914142, 0.935581513914142, 0.935581513914142, 0.935581513914142, 0.935581513914142, 0.935581513914142, 0.935581513914142, 0.935581513914142, 0.935581513914142, 0.9367843360071791, 0.9367843360071791, 0.9367843360071791, 0.9377335291612555]}], \"f1_score_macro\": [{\"categories\": [\"0\", \"2\", \"6\", \"11\", \"13\", \"17\", \"21\", \"22\", \"25\", \"26\", \"27\", \"28\", \"29\", \"30\", \"31\", \"32\", \"33\", \"34\", \"35\", \"36\", \"37\", \"38\", \"39\", \"40\", \"41\", \"45\"], \"mode\": \"markers\", \"name\": \"f1_score_macro\", \"stepped\": false, \"type\": \"scatter\", \"data\": [0.863313296926635, 0.8513708868972258, 0.8683741303662122, 0.8668268329938325, 0.8569573810119131, 0.8651449360739598, 0.8611260607843034, 0.8608726737599527, 0.6185979913160342, 0.8493022882578705, 0.830335688099322, 0.8757468688273283, 0.8502536505990385, 0.8592061771153097, 0.8552477594562011, 0.8444012881079479, 0.8383906952413639, 0.8500182740157414, 0.8359865333709229, 0.8519637610358763, 0.8599987540675136, 0.8600209611185841, 0.8705266983303377, 0.8353128492362112, 0.8140135933377545, 0.8857919620109043]}, {\"categories\": [\"0\", \"2\", \"6\", \"11\", \"13\", \"17\", \"21\", \"22\", \"25\", \"26\", \"27\", \"28\", \"29\", \"30\", \"31\", \"32\", \"33\", \"34\", \"35\", \"36\", \"37\", \"38\", \"39\", \"40\", \"41\", \"45\"], \"mode\": \"lines\", \"name\": \"f1_score_macro_max\", \"stepped\": true, \"type\": \"scatter\", \"data\": [0.863313296926635, 0.863313296926635, 0.8683741303662122, 0.8683741303662122, 0.8683741303662122, 0.8683741303662122, 0.8683741303662122, 0.8683741303662122, 0.8683741303662122, 0.8683741303662122, 0.8683741303662122, 0.8757468688273283, 0.8757468688273283, 0.8757468688273283, 0.8757468688273283, 0.8757468688273283, 0.8757468688273283, 0.8757468688273283, 0.8757468688273283, 0.8757468688273283, 0.8757468688273283, 0.8757468688273283, 0.8757468688273283, 0.8757468688273283, 0.8757468688273283, 0.8857919620109043]}], \"precision_score_weighted\": [{\"categories\": [\"0\", \"2\", \"6\", \"11\", \"13\", \"17\", \"21\", \"22\", \"25\", \"26\", \"27\", \"28\", \"29\", \"30\", \"31\", \"32\", \"33\", \"34\", \"35\", \"36\", \"37\", \"38\", \"39\", \"40\", \"41\", \"45\"], \"mode\": \"markers\", \"name\": \"precision_score_weighted\", \"stepped\": false, \"type\": \"scatter\", \"data\": [0.8658470270817684, 0.8549998160841836, 0.8723273552522434, 0.8701400993942489, 0.8605899119686062, 0.8702963636403472, 0.8638730618599955, 0.8648205989181517, 0.6346429639235813, 0.8629372236396323, 0.839333371683536, 0.8794469195399255, 0.8537629910918116, 0.8622104025997673, 0.8606289174745962, 0.8527962621654724, 0.847743274829393, 0.858973070612237, 0.8458809811883261, 0.8579632245480049, 0.864082094001261, 0.8640999489424214, 0.8734969168186965, 0.8524594434903511, 0.8202784725718315, 0.8890703749101323]}, {\"categories\": [\"0\", \"2\", \"6\", \"11\", \"13\", \"17\", \"21\", \"22\", \"25\", \"26\", \"27\", \"28\", \"29\", \"30\", \"31\", \"32\", \"33\", \"34\", \"35\", \"36\", \"37\", \"38\", \"39\", \"40\", \"41\", \"45\"], \"mode\": \"lines\", \"name\": \"precision_score_weighted_max\", \"stepped\": true, \"type\": \"scatter\", \"data\": [0.8658470270817684, 0.8658470270817684, 0.8723273552522434, 0.8723273552522434, 0.8723273552522434, 0.8723273552522434, 0.8723273552522434, 0.8723273552522434, 0.8723273552522434, 0.8723273552522434, 0.8723273552522434, 0.8794469195399255, 0.8794469195399255, 0.8794469195399255, 0.8794469195399255, 0.8794469195399255, 0.8794469195399255, 0.8794469195399255, 0.8794469195399255, 0.8794469195399255, 0.8794469195399255, 0.8794469195399255, 0.8794469195399255, 0.8794469195399255, 0.8794469195399255, 0.8890703749101323]}], \"f1_score_weighted\": [{\"categories\": [\"0\", \"2\", \"6\", \"11\", \"13\", \"17\", \"21\", \"22\", \"25\", \"26\", \"27\", \"28\", \"29\", \"30\", \"31\", \"32\", \"33\", \"34\", \"35\", \"36\", \"37\", \"38\", \"39\", \"40\", \"41\", \"45\"], \"mode\": \"markers\", \"name\": \"f1_score_weighted\", \"stepped\": false, \"type\": \"scatter\", \"data\": [0.8657308219995759, 0.8537894608531096, 0.870896928271996, 0.8690162532242404, 0.8593916684854772, 0.8676400376571507, 0.8635170049603801, 0.8633513979475845, 0.6269960737848905, 0.8521223451592048, 0.8339683615729776, 0.8777625561895712, 0.8526724124210728, 0.8614320120550885, 0.8578082493705443, 0.8473591156518945, 0.8416256037391493, 0.8528021613029496, 0.8393353954282062, 0.8540281084388835, 0.86245713393788, 0.8624666216533626, 0.8724387662975062, 0.8392673041151554, 0.8178947693754806, 0.8875418604242924]}, {\"categories\": [\"0\", \"2\", \"6\", \"11\", \"13\", \"17\", \"21\", \"22\", \"25\", \"26\", \"27\", \"28\", \"29\", \"30\", \"31\", \"32\", \"33\", \"34\", \"35\", \"36\", \"37\", \"38\", \"39\", \"40\", \"41\", \"45\"], \"mode\": \"lines\", \"name\": \"f1_score_weighted_max\", \"stepped\": true, \"type\": \"scatter\", \"data\": [0.8657308219995759, 0.8657308219995759, 0.870896928271996, 0.870896928271996, 0.870896928271996, 0.870896928271996, 0.870896928271996, 0.870896928271996, 0.870896928271996, 0.870896928271996, 0.870896928271996, 0.8777625561895712, 0.8777625561895712, 0.8777625561895712, 0.8777625561895712, 0.8777625561895712, 0.8777625561895712, 0.8777625561895712, 0.8777625561895712, 0.8777625561895712, 0.8777625561895712, 0.8777625561895712, 0.8777625561895712, 0.8777625561895712, 0.8777625561895712, 0.8875418604242924]}], \"recall_score_macro\": [{\"categories\": [\"0\", \"2\", \"6\", \"11\", \"13\", \"17\", \"21\", \"22\", \"25\", \"26\", \"27\", \"28\", \"29\", \"30\", \"31\", \"32\", \"33\", \"34\", \"35\", \"36\", \"37\", \"38\", \"39\", \"40\", \"41\", \"45\"], \"mode\": \"markers\", \"name\": \"recall_score_macro\", \"stepped\": false, \"type\": \"scatter\", \"data\": [0.862062690004684, 0.8505843446602134, 0.8659034793303342, 0.8656136622621797, 0.8570528356575823, 0.8633992825253628, 0.8593809837147303, 0.8589372023310153, 0.6212845533736047, 0.8469668612548796, 0.8272424614802425, 0.8750121460053253, 0.8492151160039623, 0.8581549802274347, 0.8534104076482659, 0.8416801002944687, 0.8347412510804816, 0.8467325305249762, 0.8323536628233281, 0.853295569542237, 0.8589422983142129, 0.8590047670798301, 0.8700190213006728, 0.830867595433533, 0.8108976504504624, 0.8842043742843936]}, {\"categories\": [\"0\", \"2\", \"6\", \"11\", \"13\", \"17\", \"21\", \"22\", \"25\", \"26\", \"27\", \"28\", \"29\", \"30\", \"31\", \"32\", \"33\", \"34\", \"35\", \"36\", \"37\", \"38\", \"39\", \"40\", \"41\", \"45\"], \"mode\": \"lines\", \"name\": \"recall_score_macro_max\", \"stepped\": true, \"type\": \"scatter\", \"data\": [0.862062690004684, 0.862062690004684, 0.8659034793303342, 0.8659034793303342, 0.8659034793303342, 0.8659034793303342, 0.8659034793303342, 0.8659034793303342, 0.8659034793303342, 0.8659034793303342, 0.8659034793303342, 0.8750121460053253, 0.8750121460053253, 0.8750121460053253, 0.8750121460053253, 0.8750121460053253, 0.8750121460053253, 0.8750121460053253, 0.8750121460053253, 0.8750121460053253, 0.8750121460053253, 0.8750121460053253, 0.8750121460053253, 0.8750121460053253, 0.8750121460053253, 0.8842043742843936]}], \"AUC_macro\": [{\"categories\": [\"0\", \"2\", \"6\", \"11\", \"13\", \"17\", \"21\", \"22\", \"25\", \"26\", \"27\", \"28\", \"29\", \"30\", \"31\", \"32\", \"33\", \"34\", \"35\", \"36\", \"37\", \"38\", \"39\", \"40\", \"41\", \"45\"], \"mode\": \"markers\", \"name\": \"AUC_macro\", \"stepped\": false, \"type\": \"scatter\", \"data\": [0.9273817443723587, 0.9219951403811464, 0.9181509475071007, 0.9318670470058752, 0.9232599906401344, 0.9276400379500039, 0.9303682647138377, 0.9206262660563249, 0.6884887954796355, 0.9305398915433793, 0.9196141085050844, 0.9342387134360198, 0.9220721461481777, 0.922944880939754, 0.9241516010977764, 0.9219266028953733, 0.9142476401635797, 0.9187415818309091, 0.9153300094629989, 0.9234128879455042, 0.9259533957788125, 0.926004278235504, 0.9347961517131027, 0.9153211274305516, 0.9034053125536768, 0.9358054195939636]}, {\"categories\": [\"0\", \"2\", \"6\", \"11\", \"13\", \"17\", \"21\", \"22\", \"25\", \"26\", \"27\", \"28\", \"29\", \"30\", \"31\", \"32\", \"33\", \"34\", \"35\", \"36\", \"37\", \"38\", \"39\", \"40\", \"41\", \"45\"], \"mode\": \"lines\", \"name\": \"AUC_macro_max\", \"stepped\": true, \"type\": \"scatter\", \"data\": [0.9273817443723587, 0.9273817443723587, 0.9273817443723587, 0.9318670470058752, 0.9318670470058752, 0.9318670470058752, 0.9318670470058752, 0.9318670470058752, 0.9318670470058752, 0.9318670470058752, 0.9318670470058752, 0.9342387134360198, 0.9342387134360198, 0.9342387134360198, 0.9342387134360198, 0.9342387134360198, 0.9342387134360198, 0.9342387134360198, 0.9342387134360198, 0.9342387134360198, 0.9342387134360198, 0.9342387134360198, 0.9347961517131027, 0.9347961517131027, 0.9347961517131027, 0.9358054195939636]}], \"matthews_correlation\": [{\"categories\": [\"0\", \"2\", \"6\", \"11\", \"13\", \"17\", \"21\", \"22\", \"25\", \"26\", \"27\", \"28\", \"29\", \"30\", \"31\", \"32\", \"33\", \"34\", \"35\", \"36\", \"37\", \"38\", \"39\", \"40\", \"41\", \"45\"], \"mode\": \"markers\", \"name\": \"matthews_correlation\", \"stepped\": false, \"type\": \"scatter\", \"data\": [0.7270226177280047, 0.7042064300451896, 0.7387834655526359, 0.7350728238713781, 0.7151998112035951, 0.7335242396520181, 0.7229560063867284, 0.7237357004245741, 0.2508649269624986, 0.711257838665406, 0.6677004669779874, 0.7534566037804244, 0.7018980334084064, 0.7194466510928634, 0.7139319612729811, 0.6955336497859916, 0.6845544235395395, 0.7075586092167332, 0.6803150911247059, 0.7079138512114813, 0.7219288859866364, 0.7219718039945514, 0.7422554178296442, 0.6867081594775193, 0.6317883167708729, 0.7734197814635632]}, {\"categories\": [\"0\", \"2\", \"6\", \"11\", \"13\", \"17\", \"21\", \"22\", \"25\", \"26\", \"27\", \"28\", \"29\", \"30\", \"31\", \"32\", \"33\", \"34\", \"35\", \"36\", \"37\", \"38\", \"39\", \"40\", \"41\", \"45\"], \"mode\": \"lines\", \"name\": \"matthews_correlation_max\", \"stepped\": true, \"type\": \"scatter\", \"data\": [0.7270226177280047, 0.7270226177280047, 0.7387834655526359, 0.7387834655526359, 0.7387834655526359, 0.7387834655526359, 0.7387834655526359, 0.7387834655526359, 0.7387834655526359, 0.7387834655526359, 0.7387834655526359, 0.7534566037804244, 0.7534566037804244, 0.7534566037804244, 0.7534566037804244, 0.7534566037804244, 0.7534566037804244, 0.7534566037804244, 0.7534566037804244, 0.7534566037804244, 0.7534566037804244, 0.7534566037804244, 0.7534566037804244, 0.7534566037804244, 0.7534566037804244, 0.7734197814635632]}], \"AUC_weighted\": [{\"categories\": [\"0\", \"2\", \"6\", \"11\", \"13\", \"17\", \"21\", \"22\", \"25\", \"26\", \"27\", \"28\", \"29\", \"30\", \"31\", \"32\", \"33\", \"34\", \"35\", \"36\", \"37\", \"38\", \"39\", \"40\", \"41\", \"45\"], \"mode\": \"markers\", \"name\": \"AUC_weighted\", \"stepped\": false, \"type\": \"scatter\", \"data\": [0.9273817443723589, 0.9219951403811464, 0.9181509475071007, 0.9318670470058754, 0.9232599906401344, 0.9276400379500039, 0.9303682647138377, 0.9206262660563249, 0.6884887954796354, 0.9305398915433793, 0.9196141085050844, 0.9342387134360198, 0.9220721461481777, 0.922944880939754, 0.9241516010977764, 0.9219266028953733, 0.9142476401635797, 0.9187415818309091, 0.9153300094629989, 0.9234128879455042, 0.9259533957788125, 0.926004278235504, 0.9347961517131029, 0.9153211274305517, 0.9034053125536768, 0.9358054195939636]}, {\"categories\": [\"0\", \"2\", \"6\", \"11\", \"13\", \"17\", \"21\", \"22\", \"25\", \"26\", \"27\", \"28\", \"29\", \"30\", \"31\", \"32\", \"33\", \"34\", \"35\", \"36\", \"37\", \"38\", \"39\", \"40\", \"41\", \"45\"], \"mode\": \"lines\", \"name\": \"AUC_weighted_max\", \"stepped\": true, \"type\": \"scatter\", \"data\": [0.9273817443723589, 0.9273817443723589, 0.9273817443723589, 0.9318670470058754, 0.9318670470058754, 0.9318670470058754, 0.9318670470058754, 0.9318670470058754, 0.9318670470058754, 0.9318670470058754, 0.9318670470058754, 0.9342387134360198, 0.9342387134360198, 0.9342387134360198, 0.9342387134360198, 0.9342387134360198, 0.9342387134360198, 0.9342387134360198, 0.9342387134360198, 0.9342387134360198, 0.9342387134360198, 0.9342387134360198, 0.9347961517131029, 0.9347961517131029, 0.9347961517131029, 0.9358054195939636]}], \"precision_score_macro\": [{\"categories\": [\"0\", \"2\", \"6\", \"11\", \"13\", \"17\", \"21\", \"22\", \"25\", \"26\", \"27\", \"28\", \"29\", \"30\", \"31\", \"32\", \"33\", \"34\", \"35\", \"36\", \"37\", \"38\", \"39\", \"40\", \"41\", \"45\"], \"mode\": \"markers\", \"name\": \"precision_score_macro\", \"stepped\": false, \"type\": \"scatter\", \"data\": [0.8649693868132937, 0.8536384112672278, 0.8729273081894748, 0.86947940402551, 0.8581627718869509, 0.8701810595218162, 0.8635976477968651, 0.8648346666831813, 0.6299494515233252, 0.8645690731606652, 0.8406845028212736, 0.8784764454148624, 0.8527010596341732, 0.8613052602512626, 0.8605801182591677, 0.8539874032357702, 0.8500554636898242, 0.8610389387548967, 0.8482636618827237, 0.8546386704818044, 0.8630238427956151, 0.863003539299546, 0.8722491880449361, 0.8563815663770027, 0.8210298799610903, 0.8892464175260415]}, {\"categories\": [\"0\", \"2\", \"6\", \"11\", \"13\", \"17\", \"21\", \"22\", \"25\", \"26\", \"27\", \"28\", \"29\", \"30\", \"31\", \"32\", \"33\", \"34\", \"35\", \"36\", \"37\", \"38\", \"39\", \"40\", \"41\", \"45\"], \"mode\": \"lines\", \"name\": \"precision_score_macro_max\", \"stepped\": true, \"type\": \"scatter\", \"data\": [0.8649693868132937, 0.8649693868132937, 0.8729273081894748, 0.8729273081894748, 0.8729273081894748, 0.8729273081894748, 0.8729273081894748, 0.8729273081894748, 0.8729273081894748, 0.8729273081894748, 0.8729273081894748, 0.8784764454148624, 0.8784764454148624, 0.8784764454148624, 0.8784764454148624, 0.8784764454148624, 0.8784764454148624, 0.8784764454148624, 0.8784764454148624, 0.8784764454148624, 0.8784764454148624, 0.8784764454148624, 0.8784764454148624, 0.8784764454148624, 0.8784764454148624, 0.8892464175260415]}], \"accuracy\": [{\"categories\": [\"0\", \"2\", \"6\", \"11\", \"13\", \"17\", \"21\", \"22\", \"25\", \"26\", \"27\", \"28\", \"29\", \"30\", \"31\", \"32\", \"33\", \"34\", \"35\", \"36\", \"37\", \"38\", \"39\", \"40\", \"41\", \"45\"], \"mode\": \"markers\", \"name\": \"accuracy\", \"stepped\": false, \"type\": \"scatter\", \"data\": [0.8660014255167499, 0.854033024471371, 0.8714659063910668, 0.8692979330007127, 0.859455927773818, 0.8681931575196009, 0.8638453314326442, 0.8638512710857686, 0.6328997386552625, 0.8540567830838679, 0.8355250653361843, 0.8780173437871228, 0.8529579472558803, 0.8616773580422903, 0.8583927298645759, 0.848616060822048, 0.8431812782133523, 0.8540746020432408, 0.8410073651698742, 0.8540389641244952, 0.8627286766452839, 0.8627286766452839, 0.8725706818721786, 0.8420705630791161, 0.8191791399382277, 0.8878296507483963]}, {\"categories\": [\"0\", \"2\", \"6\", \"11\", \"13\", \"17\", \"21\", \"22\", \"25\", \"26\", \"27\", \"28\", \"29\", \"30\", \"31\", \"32\", \"33\", \"34\", \"35\", \"36\", \"37\", \"38\", \"39\", \"40\", \"41\", \"45\"], \"mode\": \"lines\", \"name\": \"accuracy_max\", \"stepped\": true, \"type\": \"scatter\", \"data\": [0.8660014255167499, 0.8660014255167499, 0.8714659063910668, 0.8714659063910668, 0.8714659063910668, 0.8714659063910668, 0.8714659063910668, 0.8714659063910668, 0.8714659063910668, 0.8714659063910668, 0.8714659063910668, 0.8780173437871228, 0.8780173437871228, 0.8780173437871228, 0.8780173437871228, 0.8780173437871228, 0.8780173437871228, 0.8780173437871228, 0.8780173437871228, 0.8780173437871228, 0.8780173437871228, 0.8780173437871228, 0.8780173437871228, 0.8780173437871228, 0.8780173437871228, 0.8878296507483963]}], \"recall_score_weighted\": [{\"categories\": [\"0\", \"2\", \"6\", \"11\", \"13\", \"17\", \"21\", \"22\", \"25\", \"26\", \"27\", \"28\", \"29\", \"30\", \"31\", \"32\", \"33\", \"34\", \"35\", \"36\", \"37\", \"38\", \"39\", \"40\", \"41\", \"45\"], \"mode\": \"markers\", \"name\": \"recall_score_weighted\", \"stepped\": false, \"type\": \"scatter\", \"data\": [0.8660014255167499, 0.854033024471371, 0.8714659063910668, 0.8692979330007127, 0.859455927773818, 0.8681931575196009, 0.8638453314326442, 0.8638512710857686, 0.6328997386552625, 0.8540567830838679, 0.8355250653361843, 0.8780173437871228, 0.8529579472558803, 0.8616773580422903, 0.8583927298645759, 0.848616060822048, 0.8431812782133523, 0.8540746020432408, 0.8410073651698742, 0.8540389641244952, 0.8627286766452839, 0.8627286766452839, 0.8725706818721786, 0.8420705630791161, 0.8191791399382277, 0.8878296507483963]}, {\"categories\": [\"0\", \"2\", \"6\", \"11\", \"13\", \"17\", \"21\", \"22\", \"25\", \"26\", \"27\", \"28\", \"29\", \"30\", \"31\", \"32\", \"33\", \"34\", \"35\", \"36\", \"37\", \"38\", \"39\", \"40\", \"41\", \"45\"], \"mode\": \"lines\", \"name\": \"recall_score_weighted_max\", \"stepped\": true, \"type\": \"scatter\", \"data\": [0.8660014255167499, 0.8660014255167499, 0.8714659063910668, 0.8714659063910668, 0.8714659063910668, 0.8714659063910668, 0.8714659063910668, 0.8714659063910668, 0.8714659063910668, 0.8714659063910668, 0.8714659063910668, 0.8780173437871228, 0.8780173437871228, 0.8780173437871228, 0.8780173437871228, 0.8780173437871228, 0.8780173437871228, 0.8780173437871228, 0.8780173437871228, 0.8780173437871228, 0.8780173437871228, 0.8780173437871228, 0.8780173437871228, 0.8780173437871228, 0.8780173437871228, 0.8878296507483963]}], \"average_precision_score_micro\": [{\"categories\": [\"0\", \"2\", \"6\", \"11\", \"13\", \"17\", \"21\", \"22\", \"25\", \"26\", \"27\", \"28\", \"29\", \"30\", \"31\", \"32\", \"33\", \"34\", \"35\", \"36\", \"37\", \"38\", \"39\", \"40\", \"41\", \"45\"], \"mode\": \"markers\", \"name\": \"average_precision_score_micro\", \"stepped\": false, \"type\": \"scatter\", \"data\": [0.9240621653631799, 0.922783922533535, 0.9165620211668333, 0.9313249810739471, 0.9192908183357227, 0.9279672968149884, 0.9325485133955193, 0.9210850965796412, 0.6745902606410878, 0.9168934624901132, 0.9094157732358032, 0.9334252405795864, 0.9227741189547158, 0.925451843856363, 0.9177772284230908, 0.9111989562604922, 0.9054960160443098, 0.9180435469849136, 0.902536482165495, 0.9149533693383191, 0.9283748672817655, 0.9281419804920089, 0.9343751096033245, 0.8866200017246412, 0.8923405279924005, 0.9364082589048545]}, {\"categories\": [\"0\", \"2\", \"6\", \"11\", \"13\", \"17\", \"21\", \"22\", \"25\", \"26\", \"27\", \"28\", \"29\", \"30\", \"31\", \"32\", \"33\", \"34\", \"35\", \"36\", \"37\", \"38\", \"39\", \"40\", \"41\", \"45\"], \"mode\": \"lines\", \"name\": \"average_precision_score_micro_max\", \"stepped\": true, \"type\": \"scatter\", \"data\": [0.9240621653631799, 0.9240621653631799, 0.9240621653631799, 0.9313249810739471, 0.9313249810739471, 0.9313249810739471, 0.9325485133955193, 0.9325485133955193, 0.9325485133955193, 0.9325485133955193, 0.9325485133955193, 0.9334252405795864, 0.9334252405795864, 0.9334252405795864, 0.9334252405795864, 0.9334252405795864, 0.9334252405795864, 0.9334252405795864, 0.9334252405795864, 0.9334252405795864, 0.9334252405795864, 0.9334252405795864, 0.9343751096033245, 0.9343751096033245, 0.9343751096033245, 0.9364082589048545]}]}, \"metricName\": null, \"primaryMetricName\": \"accuracy\", \"showLegend\": false}, \"run_metrics\": [{\"name\": \"experiment_status\", \"run_id\": \"AutoML_a8392b16-812c-479d-97c0-f74e91e2f089\", \"categories\": [0, 1, 2, 3, 4, 5, 6, 7, 8, 9, 10, 11, 12, 13], \"series\": [{\"data\": [\"DatasetEvaluation\", \"FeaturesGeneration\", \"DatasetFeaturization\", \"DatasetFeaturizationCompleted\", \"DatasetCrossValidationSplit\", \"ModelSelection\", \"BestRunExplainModel\", \"ModelExplanationDataSetSetup\", \"PickSurrogateModel\", \"EngineeredFeatureExplanations\", \"EngineeredFeatureExplanations\", \"RawFeaturesExplanations\", \"RawFeaturesExplanations\", \"BestRunExplainModel\"]}]}, {\"name\": \"experiment_status_description\", \"run_id\": \"AutoML_a8392b16-812c-479d-97c0-f74e91e2f089\", \"categories\": [0, 1, 2, 3, 4, 5, 6, 7, 8, 9, 10, 11, 12, 13], \"series\": [{\"data\": [\"Gathering dataset statistics.\", \"Generating features for the dataset.\", \"Beginning to fit featurizers and featurize the dataset.\", \"Completed fit featurizers and featurizing the dataset.\", \"Generating individually featurized CV splits.\", \"Beginning model selection.\", \"Best run model explanations started\", \"Model explanations data setup completed\", \"Choosing LightGBM as the surrogate model for explanations\", \"Computation of engineered features started\", \"Computation of engineered features completed\", \"Computation of raw features started\", \"Computation of raw features completed\", \"Best run model explanations completed\"]}]}, {\"name\": \"average_precision_score_weighted\", \"run_id\": \"AutoML_a8392b16-812c-479d-97c0-f74e91e2f089\", \"categories\": [0], \"series\": [{\"data\": [0.9365331567573385]}]}, {\"name\": \"f1_score_micro\", \"run_id\": \"AutoML_a8392b16-812c-479d-97c0-f74e91e2f089\", \"categories\": [0], \"series\": [{\"data\": [0.8878296507483963]}]}, {\"name\": \"f1_score_weighted\", \"run_id\": \"AutoML_a8392b16-812c-479d-97c0-f74e91e2f089\", \"categories\": [0], \"series\": [{\"data\": [0.8875418604242924]}]}, {\"name\": \"precision_score_macro\", \"run_id\": \"AutoML_a8392b16-812c-479d-97c0-f74e91e2f089\", \"categories\": [0], \"series\": [{\"data\": [0.8892464175260415]}]}, {\"name\": \"average_precision_score_macro\", \"run_id\": \"AutoML_a8392b16-812c-479d-97c0-f74e91e2f089\", \"categories\": [0], \"series\": [{\"data\": [0.9356929767471535]}]}, {\"name\": \"f1_score_macro\", \"run_id\": \"AutoML_a8392b16-812c-479d-97c0-f74e91e2f089\", \"categories\": [0], \"series\": [{\"data\": [0.8857919620109043]}]}, {\"name\": \"norm_macro_recall\", \"run_id\": \"AutoML_a8392b16-812c-479d-97c0-f74e91e2f089\", \"categories\": [0], \"series\": [{\"data\": [0.7684087485687872]}]}, {\"name\": \"recall_score_micro\", \"run_id\": \"AutoML_a8392b16-812c-479d-97c0-f74e91e2f089\", \"categories\": [0], \"series\": [{\"data\": [0.8878296507483963]}]}, {\"name\": \"average_precision_score_micro\", \"run_id\": \"AutoML_a8392b16-812c-479d-97c0-f74e91e2f089\", \"categories\": [0], \"series\": [{\"data\": [0.9364082589048545]}]}, {\"name\": \"accuracy\", \"run_id\": \"AutoML_a8392b16-812c-479d-97c0-f74e91e2f089\", \"categories\": [0], \"series\": [{\"data\": [0.8878296507483963]}]}, {\"name\": \"log_loss\", \"run_id\": \"AutoML_a8392b16-812c-479d-97c0-f74e91e2f089\", \"categories\": [0], \"series\": [{\"data\": [0.3513919953832287]}]}, {\"name\": \"matthews_correlation\", \"run_id\": \"AutoML_a8392b16-812c-479d-97c0-f74e91e2f089\", \"categories\": [0], \"series\": [{\"data\": [0.7734197814635632]}]}, {\"name\": \"AUC_micro\", \"run_id\": \"AutoML_a8392b16-812c-479d-97c0-f74e91e2f089\", \"categories\": [0], \"series\": [{\"data\": [0.9377335291612555]}]}, {\"name\": \"precision_score_weighted\", \"run_id\": \"AutoML_a8392b16-812c-479d-97c0-f74e91e2f089\", \"categories\": [0], \"series\": [{\"data\": [0.8890703749101323]}]}, {\"name\": \"recall_score_weighted\", \"run_id\": \"AutoML_a8392b16-812c-479d-97c0-f74e91e2f089\", \"categories\": [0], \"series\": [{\"data\": [0.8878296507483963]}]}, {\"name\": \"weighted_accuracy\", \"run_id\": \"AutoML_a8392b16-812c-479d-97c0-f74e91e2f089\", \"categories\": [0], \"series\": [{\"data\": [0.8912648038539045]}]}, {\"name\": \"precision_score_micro\", \"run_id\": \"AutoML_a8392b16-812c-479d-97c0-f74e91e2f089\", \"categories\": [0], \"series\": [{\"data\": [0.8878296507483963]}]}, {\"name\": \"AUC_macro\", \"run_id\": \"AutoML_a8392b16-812c-479d-97c0-f74e91e2f089\", \"categories\": [0], \"series\": [{\"data\": [0.9358054195939636]}]}, {\"name\": \"recall_score_macro\", \"run_id\": \"AutoML_a8392b16-812c-479d-97c0-f74e91e2f089\", \"categories\": [0], \"series\": [{\"data\": [0.8842043742843936]}]}, {\"name\": \"balanced_accuracy\", \"run_id\": \"AutoML_a8392b16-812c-479d-97c0-f74e91e2f089\", \"categories\": [0], \"series\": [{\"data\": [0.8842043742843936]}]}, {\"name\": \"AUC_weighted\", \"run_id\": \"AutoML_a8392b16-812c-479d-97c0-f74e91e2f089\", \"categories\": [0], \"series\": [{\"data\": [0.9358054195939636]}]}], \"run_logs\": \"\\nRun is completed.\", \"graph\": {}, \"widget_settings\": {\"childWidgetDisplay\": \"popup\", \"send_telemetry\": false, \"log_level\": \"INFO\", \"sdk_version\": \"1.54.0\"}, \"loading\": false}"
     },
     "metadata": {},
     "output_type": "display_data"
    }
   ],
   "source": [
    "RunDetails(remote_run).show()"
   ]
  },
  {
   "cell_type": "markdown",
   "metadata": {},
   "source": [
    "## Best Model\n",
    "\n",
    "TODO: In the cell below, get the best model from the automl experiments and display all the properties of the model.\n",
    "\n"
   ]
  },
  {
   "cell_type": "code",
   "execution_count": 16,
   "metadata": {
    "collapsed": false,
    "gather": {
     "logged": 1705886358020
    },
    "jupyter": {
     "outputs_hidden": false,
     "source_hidden": false
    },
    "nteract": {
     "transient": {
      "deleting": false
     }
    }
   },
   "outputs": [],
   "source": [
    "from azureml.automl.runtime.onnx_convert import OnnxConverter\n",
    "\n",
    "best_aml_model, onnx_model =remote_run.get_output(return_onnx_model=True)\n",
    "OnnxConverter.save_onnx_model(onnx_model, \"./automl_model.onnx\")\n"
   ]
  },
  {
   "cell_type": "code",
   "execution_count": null,
   "metadata": {
    "collapsed": false,
    "gather": {
     "logged": 1705882632480
    },
    "jupyter": {
     "outputs_hidden": false,
     "source_hidden": false
    },
    "nteract": {
     "transient": {
      "deleting": false
     }
    }
   },
   "outputs": [],
   "source": [
    "#TODO: Save the best model"
   ]
  },
  {
   "cell_type": "markdown",
   "metadata": {},
   "source": [
    "## Model Deployment\n",
    "\n",
    "Remember you have to deploy only one of the two models you trained but you still need to register both the models. Perform the steps in the rest of this notebook only if you wish to deploy this model.\n",
    "\n",
    "TODO: In the cell below, register the model, create an inference config and deploy the model as a web service."
   ]
  },
  {
   "cell_type": "code",
   "execution_count": null,
   "metadata": {
    "collapsed": false,
    "gather": {
     "logged": 1598431435189
    },
    "jupyter": {
     "outputs_hidden": false,
     "source_hidden": false
    },
    "nteract": {
     "transient": {
      "deleting": false
     }
    }
   },
   "outputs": [],
   "source": []
  },
  {
   "cell_type": "markdown",
   "metadata": {
    "gather": {
     "logged": 1598431657736
    },
    "jupyter": {
     "outputs_hidden": false,
     "source_hidden": false
    },
    "nteract": {
     "transient": {
      "deleting": false
     }
    }
   },
   "source": [
    "TODO: In the cell below, send a request to the web service you deployed to test it."
   ]
  },
  {
   "cell_type": "code",
   "execution_count": null,
   "metadata": {
    "collapsed": false,
    "gather": {
     "logged": 1598432707604
    },
    "jupyter": {
     "outputs_hidden": false,
     "source_hidden": false
    },
    "nteract": {
     "transient": {
      "deleting": false
     }
    }
   },
   "outputs": [],
   "source": []
  },
  {
   "cell_type": "markdown",
   "metadata": {
    "gather": {
     "logged": 1598432765711
    },
    "jupyter": {
     "outputs_hidden": false,
     "source_hidden": false
    },
    "nteract": {
     "transient": {
      "deleting": false
     }
    }
   },
   "source": [
    "TODO: In the cell below, print the logs of the web service and delete the service"
   ]
  },
  {
   "cell_type": "code",
   "execution_count": null,
   "metadata": {
    "collapsed": false,
    "jupyter": {
     "outputs_hidden": false,
     "source_hidden": false
    },
    "nteract": {
     "transient": {
      "deleting": false
     }
    }
   },
   "outputs": [],
   "source": []
  },
  {
   "cell_type": "markdown",
   "metadata": {},
   "source": [
    "**Submission Checklist**\n",
    "- I have registered the model.\n",
    "- I have deployed the model with the best accuracy as a webservice.\n",
    "- I have tested the webservice by sending a request to the model endpoint.\n",
    "- I have deleted the webservice and shutdown all the computes that I have used.\n",
    "- I have taken a screenshot showing the model endpoint as active.\n",
    "- The project includes a file containing the environment details.\n"
   ]
  },
  {
   "cell_type": "markdown",
   "metadata": {},
   "source": []
  }
 ],
 "metadata": {
  "kernel_info": {
   "name": "python38-azureml"
  },
  "kernelspec": {
   "display_name": "Python 3.8 - AzureML",
   "language": "python",
   "name": "python38-azureml"
  },
  "language_info": {
   "codemirror_mode": {
    "name": "ipython",
    "version": 3
   },
   "file_extension": ".py",
   "mimetype": "text/x-python",
   "name": "python",
   "nbconvert_exporter": "python",
   "pygments_lexer": "ipython3",
   "version": "3.8.5"
  },
  "microsoft": {
   "host": {
    "AzureML": {
     "notebookHasBeenCompleted": true
    }
   },
   "ms_spell_check": {
    "ms_spell_check_language": "en"
   }
  },
  "nteract": {
   "version": "nteract-front-end@1.0.0"
  }
 },
 "nbformat": 4,
 "nbformat_minor": 4
}
