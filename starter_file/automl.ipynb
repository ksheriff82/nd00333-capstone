{
  "cells": [
    {
      "cell_type": "markdown",
      "source": [
        "# Automated ML\n",
        "\n",
        "TODO: Import Dependencies. In the cell below, import all the dependencies that you will need to complete the project."
      ],
      "metadata": {}
    },
    {
      "cell_type": "code",
      "source": [
        "from azureml.core import Workspace, Experiment\n",
        "from azureml.core.compute import ComputeTarget, AmlCompute\n",
        "from azureml.widgets import RunDetails\n",
        "from azureml.train.sklearn import SKLearn\n",
        "from azureml.train.hyperdrive.run import PrimaryMetricGoal\n",
        "from azureml.train.hyperdrive.policy import BanditPolicy\n",
        "from azureml.train.hyperdrive.sampling import RandomParameterSampling\n",
        "from azureml.train.hyperdrive.runconfig import HyperDriveConfig\n",
        "from azureml.train.hyperdrive.parameter_expressions import choice, uniform\n",
        "from azureml.core import Environment, ScriptRunConfig\n",
        "import os"
      ],
      "outputs": [],
      "execution_count": 1,
      "metadata": {
        "collapsed": false,
        "gather": {
          "logged": 1707095444974
        },
        "jupyter": {
          "outputs_hidden": false,
          "source_hidden": false
        },
        "nteract": {
          "transient": {
            "deleting": false
          }
        }
      }
    },
    {
      "cell_type": "markdown",
      "source": [
        "## Dataset\n",
        "\n",
        "### Overview\n",
        "TODO: In this markdown cell, give an overview of the dataset you are using. Also mention the task you will be performing.\n",
        "\n",
        "\n",
        "TODO: Get data. In the cell below, write code to access the data you will be using in this project. Remember that the dataset needs to be external."
      ],
      "metadata": {}
    },
    {
      "cell_type": "code",
      "source": [
        "ws = Workspace.from_config()\n",
        "\n",
        "# choose a name for experiment\n",
        "experiment_name = 'heart_failure_automl2'\n",
        "\n",
        "experiment=Experiment(ws, experiment_name)"
      ],
      "outputs": [],
      "execution_count": 2,
      "metadata": {
        "collapsed": false,
        "gather": {
          "logged": 1707095466212
        },
        "jupyter": {
          "outputs_hidden": false,
          "source_hidden": false
        },
        "nteract": {
          "transient": {
            "deleting": false
          }
        }
      }
    },
    {
      "cell_type": "markdown",
      "source": [
        "## AutoML Configuration\n",
        "\n",
        "TODO: Explain why you chose the automl settings and cofiguration you used below."
      ],
      "metadata": {}
    },
    {
      "cell_type": "code",
      "source": [
        "# Setup environment for your training run\n",
        "sklearn_env = Environment.from_conda_specification(name='sklearn-env', file_path='conda_dependencies.yml')\n",
        "Environment.from_conda_specification(name='sklearn-env2', file_path='conda_env_v_1_0_0.yml')"
      ],
      "outputs": [
        {
          "output_type": "execute_result",
          "execution_count": 3,
          "data": {
            "text/plain": "{\n    \"assetId\": null,\n    \"databricks\": {\n        \"eggLibraries\": [],\n        \"jarLibraries\": [],\n        \"mavenLibraries\": [],\n        \"pypiLibraries\": [],\n        \"rcranLibraries\": []\n    },\n    \"docker\": {\n        \"arguments\": [],\n        \"baseDockerfile\": null,\n        \"baseImage\": \"mcr.microsoft.com/azureml/openmpi4.1.0-ubuntu20.04:20230509.v1\",\n        \"baseImageRegistry\": {\n            \"address\": null,\n            \"password\": null,\n            \"registryIdentity\": null,\n            \"username\": null\n        },\n        \"buildContext\": null,\n        \"enabled\": false,\n        \"platform\": {\n            \"architecture\": \"amd64\",\n            \"os\": \"Linux\"\n        },\n        \"sharedVolumes\": true,\n        \"shmSize\": \"2g\"\n    },\n    \"environmentVariables\": {\n        \"EXAMPLE_ENV_VAR\": \"EXAMPLE_VALUE\"\n    },\n    \"inferencingStackVersion\": null,\n    \"name\": \"sklearn-env2\",\n    \"python\": {\n        \"baseCondaEnvironment\": null,\n        \"condaDependencies\": {\n            \"channels\": [\n                \"anaconda\",\n                \"conda-forge\"\n            ],\n            \"dependencies\": [\n                \"python=3.8.18\",\n                {\n                    \"pip\": [\n                        \"azureml-train-automl-runtime==1.54.0.post1\",\n                        \"inference-schema\",\n                        \"azureml-interpret==1.54.0\",\n                        \"azureml-defaults==1.54.0\",\n                        \"azureml-inference-server-http\"\n                    ]\n                },\n                \"numpy==1.22.4\",\n                \"pandas==1.3.5\",\n                \"scikit-learn==1.0.2\",\n                \"py-xgboost==1.3.3\",\n                \"prophet==1.1.4\",\n                \"holidays==0.29\",\n                \"psutil==5.9.3\"\n            ],\n            \"name\": \"project_environment\"\n        },\n        \"condaDependenciesFile\": null,\n        \"interpreterPath\": \"python\",\n        \"userManagedDependencies\": false\n    },\n    \"r\": null,\n    \"spark\": {\n        \"packages\": [],\n        \"precachePackages\": true,\n        \"repositories\": []\n    },\n    \"version\": null\n}"
          },
          "metadata": {}
        }
      ],
      "execution_count": 3,
      "metadata": {
        "collapsed": false,
        "gather": {
          "logged": 1707095528770
        },
        "jupyter": {
          "outputs_hidden": false,
          "source_hidden": false
        },
        "nteract": {
          "transient": {
            "deleting": false
          }
        }
      }
    },
    {
      "cell_type": "code",
      "source": [
        "compute_name = \"optCompute\"\n",
        "try:\n",
        "    trainCluster = ComputeTarget(ws, compute_name)\n",
        "    print(f\"{compute_name} exists already\")\n",
        "except:\n",
        "    compute_config = AmlCompute.provisioning_configuration(vm_size=\"Standard_D2_V2\", max_nodes=5)\n",
        "    trainCluster = ComputeTarget.create(ws, compute_name, compute_config)\n",
        "trainCluster.wait_for_completion(show_output=True)"
      ],
      "outputs": [
        {
          "output_type": "stream",
          "name": "stdout",
          "text": "InProgress..\nSucceededProvisioning operation finished, operation \"Succeeded\"\nSucceeded\nAmlCompute wait for completion finished\n\nMinimum number of nodes requested have been provisioned\n"
        }
      ],
      "execution_count": 4,
      "metadata": {
        "jupyter": {
          "source_hidden": false,
          "outputs_hidden": false
        },
        "nteract": {
          "transient": {
            "deleting": false
          }
        },
        "gather": {
          "logged": 1707095681942
        }
      }
    },
    {
      "cell_type": "code",
      "source": [
        "from azureml.data.dataset_factory import TabularDatasetFactory\n",
        "from azureml.core import Dataset, Datastore\n",
        "from azureml.data.datapath import DataPath\n",
        "import pandas as pd\n",
        "from azureml.train.automl import AutoMLConfig\n",
        "\n",
        "dataset = Dataset.get_by_name(ws, name='heart_rate_failure_prediction')  \n",
        "\n",
        "\n",
        "\n",
        "automl_settings = {\n",
        "    \"experiment_timeout_minutes\" : 25,\n",
        "    \"max_concurrent_iterations\": 4,\n",
        "    \"n_cross_validations\": 5,\n",
        "    \"primary_metric\": 'accuracy',\n",
        "}\n",
        "\n",
        "automl_config = AutoMLConfig(task = 'classification',\n",
        "                             debug_log = 'automl_errors.log',\n",
        "                             compute_target=trainCluster,\n",
        "                             training_data = dataset,\n",
        "                             label_column_name = \"HeartDisease\",\n",
        "                             enable_onnx_compatible_models=False,\n",
        "                             **automl_settings\n",
        "                            )  \n",
        "\n",
        "\n",
        "\n",
        "\n",
        "  \n",
        "\n",
        "\n",
        "\n",
        "\n",
        "\n"
      ],
      "outputs": [],
      "execution_count": 5,
      "metadata": {
        "collapsed": false,
        "gather": {
          "logged": 1707095724281
        },
        "jupyter": {
          "outputs_hidden": false,
          "source_hidden": false
        },
        "nteract": {
          "transient": {
            "deleting": false
          }
        }
      }
    },
    {
      "cell_type": "code",
      "source": [
        "# TODO: Submit your experiment\n",
        "remote_run = experiment.submit(automl_config)"
      ],
      "outputs": [
        {
          "output_type": "stream",
          "name": "stdout",
          "text": "Submitting remote run.\n"
        },
        {
          "output_type": "display_data",
          "data": {
            "text/html": "<table style=\"width:100%\"><tr><th>Experiment</th><th>Id</th><th>Type</th><th>Status</th><th>Details Page</th><th>Docs Page</th></tr><tr><td>heart_failure_automl2</td><td>AutoML_0f01a500-d600-4d69-9a74-ff800fcc162a</td><td>automl</td><td>NotStarted</td><td><a href=\"https://ml.azure.com/runs/AutoML_0f01a500-d600-4d69-9a74-ff800fcc162a?wsid=/subscriptions/9b72f9e6-56c5-4c16-991b-19c652994860/resourcegroups/aml-quickstarts-251683/workspaces/quick-starts-ws-251683&amp;tid=660b3398-b80e-49d2-bc5b-ac1dc93b5254\" target=\"_blank\" rel=\"noopener\">Link to Azure Machine Learning studio</a></td><td><a href=\"https://docs.microsoft.com/en-us/python/api/overview/azure/ml/intro?view=azure-ml-py\" target=\"_blank\" rel=\"noopener\">Link to Documentation</a></td></tr></table>"
          },
          "metadata": {}
        }
      ],
      "execution_count": 6,
      "metadata": {
        "collapsed": false,
        "gather": {
          "logged": 1707095731033
        },
        "jupyter": {
          "outputs_hidden": false,
          "source_hidden": false
        },
        "nteract": {
          "transient": {
            "deleting": false
          }
        }
      }
    },
    {
      "cell_type": "markdown",
      "source": [
        "## Run Details\n",
        "\n",
        "OPTIONAL: Write about the different models trained and their performance. Why do you think some models did better than others?\n",
        "\n",
        "TODO: In the cell below, use the `RunDetails` widget to show the different experiments."
      ],
      "metadata": {}
    },
    {
      "cell_type": "code",
      "source": [
        "RunDetails(remote_run).show()"
      ],
      "outputs": [
        {
          "output_type": "display_data",
          "data": {
            "text/plain": "_AutoMLWidget(widget_settings={'childWidgetDisplay': 'popup', 'send_telemetry': False, 'log_level': 'INFO', 's…",
            "application/vnd.jupyter.widget-view+json": {
              "version_major": 2,
              "version_minor": 0,
              "model_id": "50a7e5997326423ab3bfc2c51729bc41"
            }
          },
          "metadata": {}
        },
        {
          "output_type": "display_data",
          "data": {
            "application/aml.mini.widget.v1": "{\"status\": \"Completed\", \"workbench_run_details_uri\": \"https://ml.azure.com/runs/AutoML_0f01a500-d600-4d69-9a74-ff800fcc162a?wsid=/subscriptions/9b72f9e6-56c5-4c16-991b-19c652994860/resourcegroups/aml-quickstarts-251683/workspaces/quick-starts-ws-251683&tid=660b3398-b80e-49d2-bc5b-ac1dc93b5254\", \"run_id\": \"AutoML_0f01a500-d600-4d69-9a74-ff800fcc162a\", \"run_properties\": {\"run_id\": \"AutoML_0f01a500-d600-4d69-9a74-ff800fcc162a\", \"created_utc\": \"2024-02-05T01:15:29.72454Z\", \"properties\": {\"num_iterations\": \"1000\", \"training_type\": \"TrainFull\", \"acquisition_function\": \"EI\", \"primary_metric\": \"accuracy\", \"train_split\": \"0\", \"acquisition_parameter\": \"0\", \"num_cross_validation\": \"5\", \"target\": \"optCompute\", \"AMLSettingsJsonString\": \"{\\\"path\\\":null,\\\"name\\\":\\\"heart_failure_automl2\\\",\\\"subscription_id\\\":\\\"9b72f9e6-56c5-4c16-991b-19c652994860\\\",\\\"resource_group\\\":\\\"aml-quickstarts-251683\\\",\\\"workspace_name\\\":\\\"quick-starts-ws-251683\\\",\\\"region\\\":\\\"westeurope\\\",\\\"compute_target\\\":\\\"optCompute\\\",\\\"spark_service\\\":null,\\\"azure_service\\\":\\\"remote\\\",\\\"many_models\\\":false,\\\"pipeline_fetch_max_batch_size\\\":1,\\\"enable_batch_run\\\":true,\\\"enable_parallel_run\\\":false,\\\"num_procs\\\":null,\\\"enable_run_restructure\\\":false,\\\"start_auxiliary_runs_before_parent_complete\\\":false,\\\"enable_code_generation\\\":true,\\\"iterations\\\":1000,\\\"primary_metric\\\":\\\"accuracy\\\",\\\"task_type\\\":\\\"classification\\\",\\\"positive_label\\\":null,\\\"data_script\\\":null,\\\"test_size\\\":0.0,\\\"test_include_predictions_only\\\":false,\\\"validation_size\\\":0.0,\\\"n_cross_validations\\\":5,\\\"y_min\\\":null,\\\"y_max\\\":null,\\\"num_classes\\\":null,\\\"featurization\\\":\\\"auto\\\",\\\"_ignore_package_version_incompatibilities\\\":false,\\\"is_timeseries\\\":false,\\\"max_cores_per_iteration\\\":1,\\\"max_concurrent_iterations\\\":4,\\\"iteration_timeout_minutes\\\":null,\\\"mem_in_mb\\\":null,\\\"enforce_time_on_windows\\\":false,\\\"experiment_timeout_minutes\\\":25,\\\"experiment_exit_score\\\":null,\\\"partition_column_names\\\":null,\\\"whitelist_models\\\":null,\\\"blacklist_algos\\\":[\\\"TensorFlowLinearClassifier\\\",\\\"TensorFlowDNN\\\"],\\\"supported_models\\\":[\\\"SGD\\\",\\\"LightGBM\\\",\\\"GradientBoosting\\\",\\\"TabnetClassifier\\\",\\\"XGBoostClassifier\\\",\\\"KNN\\\",\\\"LogisticRegression\\\",\\\"DecisionTree\\\",\\\"LinearSVM\\\",\\\"RandomForest\\\",\\\"BernoulliNaiveBayes\\\",\\\"MultinomialNaiveBayes\\\",\\\"SVM\\\",\\\"ExtremeRandomTrees\\\",\\\"TensorFlowLinearClassifier\\\",\\\"TensorFlowDNN\\\",\\\"AveragedPerceptronClassifier\\\"],\\\"private_models\\\":[],\\\"auto_blacklist\\\":true,\\\"blacklist_samples_reached\\\":false,\\\"exclude_nan_labels\\\":true,\\\"verbosity\\\":20,\\\"_debug_log\\\":\\\"azureml_automl.log\\\",\\\"show_warnings\\\":false,\\\"model_explainability\\\":true,\\\"service_url\\\":null,\\\"sdk_url\\\":null,\\\"sdk_packages\\\":null,\\\"enable_onnx_compatible_models\\\":false,\\\"enable_split_onnx_featurizer_estimator_models\\\":false,\\\"vm_type\\\":\\\"Standard_D2_V2\\\",\\\"telemetry_verbosity\\\":20,\\\"send_telemetry\\\":true,\\\"enable_dnn\\\":false,\\\"scenario\\\":\\\"AutoML\\\",\\\"environment_label\\\":null,\\\"save_mlflow\\\":false,\\\"enable_categorical_indicators\\\":false,\\\"force_text_dnn\\\":false,\\\"enable_feature_sweeping\\\":true,\\\"enable_early_stopping\\\":true,\\\"early_stopping_n_iters\\\":10,\\\"arguments\\\":null,\\\"dataset_id\\\":\\\"08220622-6ff1-4837-b6ef-f81d9c822a7b\\\",\\\"hyperdrive_config\\\":null,\\\"validation_dataset_id\\\":null,\\\"run_source\\\":null,\\\"metrics\\\":null,\\\"enable_metric_confidence\\\":false,\\\"enable_ensembling\\\":true,\\\"enable_stack_ensembling\\\":true,\\\"ensemble_iterations\\\":15,\\\"enable_tf\\\":false,\\\"enable_subsampling\\\":null,\\\"subsample_seed\\\":null,\\\"enable_nimbusml\\\":false,\\\"enable_streaming\\\":false,\\\"force_streaming\\\":false,\\\"track_child_runs\\\":true,\\\"n_best_runs\\\":1,\\\"allowed_private_models\\\":[],\\\"label_column_name\\\":\\\"HeartDisease\\\",\\\"weight_column_name\\\":null,\\\"cv_split_column_names\\\":null,\\\"enable_local_managed\\\":false,\\\"_local_managed_run_id\\\":null,\\\"cost_mode\\\":1,\\\"lag_length\\\":0,\\\"metric_operation\\\":\\\"maximize\\\",\\\"preprocess\\\":true}\", \"DataPrepJsonString\": \"{\\\\\\\"training_data\\\\\\\": {\\\\\\\"datasetId\\\\\\\": \\\\\\\"08220622-6ff1-4837-b6ef-f81d9c822a7b\\\\\\\"}, \\\\\\\"datasets\\\\\\\": 0}\", \"EnableSubsampling\": null, \"runTemplate\": \"AutoML\", \"azureml.runsource\": \"automl\", \"display_task_type\": \"classification\", \"dependencies_versions\": \"{\\\"azureml-dataprep-native\\\": \\\"38.0.0\\\", \\\"azureml-dataprep\\\": \\\"4.10.8\\\", \\\"azureml-dataprep-rslex\\\": \\\"2.17.12\\\", \\\"azureml-train-automl-runtime\\\": \\\"1.51.0.post2\\\", \\\"azureml-train-automl-client\\\": \\\"1.51.0.post1\\\", \\\"azureml-training-tabular\\\": \\\"1.51.0.post1\\\", \\\"azureml-automl-runtime\\\": \\\"1.51.0.post1\\\", \\\"azureml-automl-core\\\": \\\"1.51.0.post1\\\", \\\"azureml-mlflow\\\": \\\"1.51.0\\\", \\\"azureml-datadrift\\\": \\\"1.51.0\\\", \\\"azureml-pipeline\\\": \\\"1.51.0\\\", \\\"azureml-contrib-dataset\\\": \\\"1.51.0\\\", \\\"azureml-contrib-notebook\\\": \\\"1.51.0\\\", \\\"azureml-accel-models\\\": \\\"1.51.0\\\", \\\"azureml-automl-dnn-nlp\\\": \\\"1.51.0\\\", \\\"azureml-pipeline-core\\\": \\\"1.51.0\\\", \\\"azureml-responsibleai\\\": \\\"1.51.0\\\", \\\"azureml-contrib-automl-pipeline-steps\\\": \\\"1.51.0\\\", \\\"azureml-pipeline-steps\\\": \\\"1.51.0\\\", \\\"azureml-core\\\": \\\"1.51.0\\\", \\\"azureml-contrib-reinforcementlearning\\\": \\\"1.51.0\\\", \\\"azureml-contrib-server\\\": \\\"1.51.0\\\", \\\"azureml-opendatasets\\\": \\\"1.51.0\\\", \\\"azureml-contrib-services\\\": \\\"1.51.0\\\", \\\"azureml-telemetry\\\": \\\"1.51.0\\\", \\\"azureml-train-restclients-hyperdrive\\\": \\\"1.51.0\\\", \\\"azureml-interpret\\\": \\\"1.51.0\\\", \\\"azureml-train-core\\\": \\\"1.51.0\\\", \\\"azureml-tensorboard\\\": \\\"1.51.0\\\", \\\"azureml-train\\\": \\\"1.51.0\\\", \\\"azureml-contrib-pipeline-steps\\\": \\\"1.51.0\\\", \\\"azureml-explain-model\\\": \\\"1.51.0\\\", \\\"azureml-cli-common\\\": \\\"1.51.0\\\", \\\"azureml-widgets\\\": \\\"1.51.0\\\", \\\"azureml-train-automl\\\": \\\"1.51.0\\\", \\\"azureml-defaults\\\": \\\"1.51.0\\\", \\\"azureml-contrib-fairness\\\": \\\"1.51.0\\\", \\\"azureml-sdk\\\": \\\"1.51.0\\\", \\\"azureml-dataset-runtime\\\": \\\"1.51.0\\\", \\\"azureml-inference-server-http\\\": \\\"0.8.4\\\"}\", \"_aml_system_scenario_identification\": \"Remote.Parent\", \"ClientType\": \"SDK\", \"PlatformVersion\": \"DPV1\", \"environment_cpu_name\": \"AzureML-AutoML\", \"environment_cpu_label\": \"scikit-upgrade2\", \"environment_gpu_name\": \"AzureML-AutoML-GPU\", \"environment_gpu_label\": \"scikit-upgrade2\", \"root_attribution\": \"automl\", \"attribution\": \"AutoML\", \"Orchestrator\": \"AutoML\", \"CancelUri\": \"https://westeurope.api.azureml.ms/jasmine/v1.0/subscriptions/9b72f9e6-56c5-4c16-991b-19c652994860/resourceGroups/aml-quickstarts-251683/providers/Microsoft.MachineLearningServices/workspaces/quick-starts-ws-251683/experimentids/fe2b9e3a-ec1c-4d77-aa48-3642aeac23b8/cancel/AutoML_0f01a500-d600-4d69-9a74-ff800fcc162a\", \"ClientSdkVersion\": null, \"snapshotId\": \"00000000-0000-0000-0000-000000000000\", \"SetupRunId\": \"AutoML_0f01a500-d600-4d69-9a74-ff800fcc162a_setup\", \"SetupRunContainerId\": \"dcid.AutoML_0f01a500-d600-4d69-9a74-ff800fcc162a_setup\", \"FeaturizationRunJsonPath\": \"featurizer_container.json\", \"FeaturizationRunId\": \"AutoML_0f01a500-d600-4d69-9a74-ff800fcc162a_featurize\", \"ProblemInfoJsonString\": \"{\\\"dataset_num_categorical\\\": 0, \\\"is_sparse\\\": true, \\\"subsampling\\\": false, \\\"has_extra_col\\\": true, \\\"dataset_classes\\\": 2, \\\"dataset_features\\\": 18, \\\"dataset_samples\\\": 918, \\\"single_frequency_class_detected\\\": false}\", \"ModelExplainRunId\": \"AutoML_0f01a500-d600-4d69-9a74-ff800fcc162a_ModelExplain\"}, \"tags\": {\"model_explain_run\": \"best_run\", \"_aml_system_automl_run_workspace_id\": \"73f975da-129a-42a6-9d07-188f381d948f\", \"_aml_system_azureml.automlComponent\": \"AutoML\", \"pipeline_id_000\": \"5dfac790c5c209f98a1da2dc1c7fb76f0397324f;c7af0367625be6ac5c2fecbfc72ed444cb7a2111;799d2168db11fc19b9e1c6c1df62f8981ad39fe9;44b5d2d23120dfcf96a7dc6389a293d17a966b1b;3735210984ea10097d5c91905cf6300ac278cd89;5304e705d6f401cb07f85bcf0ca59ac1f84dfcf5;294650ec23bc3d067a4972de7ceb12f6e97260fa;3caa818370e5e0c328d6266c359019bd31681270;79ebb3b8c385e3190e3dd4c1fa28b74730528045;589334a57221e0720a95cf217c065115a7b841d1;5a8eb9d9f67b1dd7e9e4062585daa2417ea78989;35b8e2db3c5f6e714072e1be9f0210fe48426975;da45f657e4591caadf1589a85a1f7b8932585595;797e3e972ad02d947be4c64d2b06b775b6df7a49;3fd2e115482e0c7b92aa3297688aefb6c3aa6fb8;1dfdf370ba770047b14bfa59c40920815defcdab;5235e3d56688f5f38ef82d73fba7c2e698fc1af2;17f87d449bb43aaf3cdae4b7eb6dd6e7fbdaf343;dc68fbd594530b5d52812dd9b3ffa3d6d8ba625e;2032292dd602836ed754a266c771ac100c4c80dc;1b9ea9b05e1aba0cfbaa30fae26f336a29920979;3ef9040509da05037cd402691a100d4b3dfeb7c4;f52e31edb9a1c79d3094620546ebbc7788edbaf8;675ec1c734ed516311cf5441a13a05b407df5a00;8e7e9f15f1b06f9d98a3394040944b6d8f05c26c;e478544eb8734c07a1943f5bdf4e6605be6943df;fedbb4995d6de479c513576119965d71276f03d1;c0ccfc1c5c22390680300022e746fc897d1646ec;7c7b5d1768118e4b28cbfebee8d28bcf7ea9db5e;c89118cd33cd61792b39c8bb59aeb7f9330d5657;101960e5cf8128b67010a7b95b749c322b266b6c;7ff1ad4f64700296dfcc5e07de2dbfbf73b3b7f9;a13fe1339f40580e5c4adb6df43079e8b9a46b16;dea77efa00e85fe783493daee13dd1ebe7ecd425;9cd2ffd706ef3dbc41bbfcf2b90223781649a0cf;__AutoML_Ensemble__;__AutoML_Stack_Ensemble__\", \"score_000\": \"0.8660014255167499;0.863857210738893;0.8496673794250416;0.8605963411736754;0.8660192444761228;0.862776193870278;0.8714659063910668;0.861647659776669;0.859455927773818;0.8660251841292469;0.8649441672606321;0.8692979330007127;0.8627286766452839;0.8616357804704204;0.871471846044191;0.8725647422190544;0.8638334521263958;0.8747386552625326;0.8747386552625327;0.86056070325493;0.8638512710857686;0.8540449037776193;0.8627286766452839;0.6328997386552625;0.8529638869090046;0.8638453314326442;0.8594737467331907;0.8616714183891659;0.8529579472558803;0.8497148966500356;0.8736695177001664;0.8627286766452839;0.8616773580422903;0.866007365169874;NaN;0.8812960323117129;0.871471846044191\", \"predicted_cost_000\": \"0;0;0.5;0.5;0.5;0.5;0.5;0.5;0.5;0.5;0.5;0.5;0.5;0.5;0.5;0.5;0.5;0.5;0.5;0.5;0.02256218893342433;0.055286342924053405;0.1739675534597775;0.14721163217057776;0.02503620345337371;0.06578227041036037;0.37340991605730905;0.029752907359303127;0.07058660525180087;0.005514736368473004;0.19959394305221476;0.06306547134577414;0.046039646602152345;0.015028089566757354;0.06067875403421315;0;0\", \"fit_time_000\": \"0.08023340000000001;0.129613;0.2953444;0.035007399999999994;0.021080800000000004;0.0199318;0.023215000000000003;0.0663574;0.035886999999999995;0.0174234;0.0184002;0.030276199999999996;0.058405200000000004;0.005882;0.029287399999999998;0.384972;0.07474860000000001;0.09613980000000001;0.0458754;0.3037738;0.0532112;0.0196574;0.037922199999999996;0.05891999999999999;0.030260800000000004;0.04330199999999999;0.6353310000000001;0.022165;0.0202028;0.0138202;0.23478259999999995;0.051718200000000006;0.0263876;0.011758399999999999;NaN;23;22\", \"training_percent_000\": \"100;100;100;100;100;100;100;100;100;100;100;100;100;100;100;100;100;100;100;100;100;100;100;100;100;100;100;100;100;100;100;100;100;100;100;100;100\", \"iteration_000\": \"0;1;2;3;4;5;6;7;8;9;10;11;12;13;14;15;16;17;18;19;22;24;23;25;26;21;20;28;27;29;30;32;31;33;34;35;36\", \"run_preprocessor_000\": \"MaxAbsScaler;MaxAbsScaler;MaxAbsScaler;SparseNormalizer;MaxAbsScaler;MaxAbsScaler;StandardScalerWrapper;MaxAbsScaler;StandardScalerWrapper;StandardScalerWrapper;SparseNormalizer;StandardScalerWrapper;MaxAbsScaler;MaxAbsScaler;StandardScalerWrapper;SparseNormalizer;StandardScalerWrapper;StandardScalerWrapper;StandardScalerWrapper;TruncatedSVDWrapper;SparseNormalizer;StandardScalerWrapper;StandardScalerWrapper;TruncatedSVDWrapper;SparseNormalizer;StandardScalerWrapper;TruncatedSVDWrapper;StandardScalerWrapper;StandardScalerWrapper;StandardScalerWrapper;SparseNormalizer;StandardScalerWrapper;StandardScalerWrapper;MaxAbsScaler;;;\", \"run_algorithm_000\": \"LightGBM;XGBoostClassifier;ExtremeRandomTrees;XGBoostClassifier;LightGBM;LightGBM;XGBoostClassifier;LogisticRegression;ExtremeRandomTrees;XGBoostClassifier;LightGBM;XGBoostClassifier;LogisticRegression;SGD;XGBoostClassifier;RandomForest;LogisticRegression;RandomForest;XGBoostClassifier;RandomForest;XGBoostClassifier;RandomForest;LogisticRegression;XGBoostClassifier;XGBoostClassifier;XGBoostClassifier;RandomForest;XGBoostClassifier;XGBoostClassifier;LightGBM;XGBoostClassifier;LogisticRegression;XGBoostClassifier;SGD;;VotingEnsemble;StackEnsemble\", \"dynamic_allowlisting_iterations\": \"<25>;<30>;\", \"_aml_system_azureml.automl_early_exit_message\": \"No scores improved over last 10 iterations, so experiment stopped early. This early stopping behavior can be disabled by setting enable_early_stopping = False in AutoMLConfig for notebook/python SDK runs.\", \"automl_best_child_run_id\": \"AutoML_0f01a500-d600-4d69-9a74-ff800fcc162a_35\", \"model_explain_best_run_child_id\": \"AutoML_0f01a500-d600-4d69-9a74-ff800fcc162a_35\"}, \"end_time_utc\": \"2024-02-05T01:45:44.668748Z\", \"status\": \"Completed\", \"log_files\": {}, \"log_groups\": [], \"run_duration\": \"0:30:14\", \"run_number\": \"1707095729\", \"run_queued_details\": {\"status\": \"Completed\", \"details\": null}}, \"child_runs\": [{\"run_id\": \"AutoML_0f01a500-d600-4d69-9a74-ff800fcc162a_setup\", \"run_number\": 1707095743, \"metric\": null, \"status\": \"Completed\", \"run_type\": \"azureml.scriptrun\", \"training_percent\": null, \"start_time\": \"2024-02-05T01:24:30.042577Z\", \"end_time\": \"2024-02-05T01:27:40.613389Z\", \"created_time\": \"2024-02-05T01:15:43.359669Z\", \"created_time_dt\": \"2024-02-05T01:15:43.359669Z\", \"duration\": \"0:11:57\", \"iteration\": null, \"goal\": null, \"run_name\": \"Completed\", \"run_properties\": null}, {\"run_id\": \"AutoML_0f01a500-d600-4d69-9a74-ff800fcc162a_featurize\", \"run_number\": 1707096460, \"metric\": null, \"status\": \"Completed\", \"run_type\": \"automl.featurization\", \"training_percent\": null, \"start_time\": \"2024-02-05T01:27:41.300035Z\", \"end_time\": \"2024-02-05T01:29:45.107971Z\", \"created_time\": \"2024-02-05T01:27:40.915033Z\", \"created_time_dt\": \"2024-02-05T01:27:40.915033Z\", \"duration\": \"0:02:04\", \"iteration\": null, \"goal\": null, \"run_name\": \"Completed\", \"run_properties\": null}, {\"run_id\": \"AutoML_0f01a500-d600-4d69-9a74-ff800fcc162a_0\", \"run_number\": 1707096588, \"metric\": null, \"status\": \"Completed\", \"run_type\": null, \"training_percent\": \"100\", \"start_time\": \"2024-02-05T01:30:23.496229Z\", \"end_time\": \"2024-02-05T01:30:38.963485Z\", \"created_time\": \"2024-02-05T01:29:47.99917Z\", \"created_time_dt\": \"2024-02-05T01:29:47.99917Z\", \"duration\": \"0:00:50\", \"iteration\": \"0\", \"goal\": \"accuracy_max\", \"run_name\": \"MaxAbsScaler, LightGBM\", \"run_properties\": \"copy=True\", \"primary_metric\": 0.86600143, \"best_metric\": 0.86600143}, {\"run_id\": \"AutoML_0f01a500-d600-4d69-9a74-ff800fcc162a_2\", \"run_number\": 1707096589, \"metric\": null, \"status\": \"Completed\", \"run_type\": null, \"training_percent\": \"100\", \"start_time\": \"2024-02-05T01:30:53.230883Z\", \"end_time\": \"2024-02-05T01:31:06.027659Z\", \"created_time\": \"2024-02-05T01:29:49.034241Z\", \"created_time_dt\": \"2024-02-05T01:29:49.034241Z\", \"duration\": \"0:01:16\", \"iteration\": \"2\", \"goal\": \"accuracy_max\", \"run_name\": \"MaxAbsScaler, ExtremeRandomTrees\", \"run_properties\": \"copy=True\", \"primary_metric\": 0.84966738, \"best_metric\": 0.86600143}, {\"run_id\": \"AutoML_0f01a500-d600-4d69-9a74-ff800fcc162a_worker_0\", \"run_number\": 1707096590, \"metric\": null, \"status\": \"Completed\", \"run_type\": \"azureml.scriptrun\", \"training_percent\": null, \"start_time\": \"2024-02-05T01:30:11.402755Z\", \"end_time\": \"2024-02-05T01:31:42.162576Z\", \"created_time\": \"2024-02-05T01:29:50.374714Z\", \"created_time_dt\": \"2024-02-05T01:29:50.374714Z\", \"duration\": \"0:01:51\", \"iteration\": null, \"goal\": null, \"run_name\": \"Completed\", \"run_properties\": null}, {\"run_id\": \"AutoML_0f01a500-d600-4d69-9a74-ff800fcc162a_6\", \"run_number\": 1707096591, \"metric\": null, \"status\": \"Completed\", \"run_type\": null, \"training_percent\": \"100\", \"start_time\": \"2024-02-05T01:32:25.33969Z\", \"end_time\": \"2024-02-05T01:32:36.949395Z\", \"created_time\": \"2024-02-05T01:29:51.113466Z\", \"created_time_dt\": \"2024-02-05T01:29:51.113466Z\", \"duration\": \"0:02:45\", \"iteration\": \"6\", \"goal\": \"accuracy_max\", \"run_name\": \"StandardScalerWrapper, XGBoostClassifier\", \"run_properties\": \"copy=True, with_mean=False, with_std=False\", \"primary_metric\": 0.87146591, \"best_metric\": 0.87146591}, {\"run_id\": \"AutoML_0f01a500-d600-4d69-9a74-ff800fcc162a_worker_1\", \"run_number\": 1707096592, \"metric\": null, \"status\": \"Completed\", \"run_type\": \"azureml.scriptrun\", \"training_percent\": null, \"start_time\": \"2024-02-05T01:31:56.932723Z\", \"end_time\": \"2024-02-05T01:33:25.960131Z\", \"created_time\": \"2024-02-05T01:29:52.869878Z\", \"created_time_dt\": \"2024-02-05T01:29:52.869878Z\", \"duration\": \"0:03:33\", \"iteration\": null, \"goal\": null, \"run_name\": \"Completed\", \"run_properties\": null}, {\"run_id\": \"AutoML_0f01a500-d600-4d69-9a74-ff800fcc162a_10\", \"run_number\": 1707096593, \"metric\": null, \"status\": \"Completed\", \"run_type\": null, \"training_percent\": \"100\", \"start_time\": \"2024-02-05T01:33:52.067957Z\", \"end_time\": \"2024-02-05T01:34:05.491145Z\", \"created_time\": \"2024-02-05T01:29:53.045847Z\", \"created_time_dt\": \"2024-02-05T01:29:53.045847Z\", \"duration\": \"0:04:12\", \"iteration\": \"10\", \"goal\": \"accuracy_max\", \"run_name\": \"SparseNormalizer, LightGBM\", \"run_properties\": \"copy=True, norm='l1'\", \"primary_metric\": 0.86494417, \"best_metric\": 0.87146591}, {\"run_id\": \"AutoML_0f01a500-d600-4d69-9a74-ff800fcc162a_12\", \"run_number\": 1707096594, \"metric\": null, \"status\": \"Completed\", \"run_type\": null, \"training_percent\": \"100\", \"start_time\": \"2024-02-05T01:34:18.913836Z\", \"end_time\": \"2024-02-05T01:34:30.727461Z\", \"created_time\": \"2024-02-05T01:29:54.001903Z\", \"created_time_dt\": \"2024-02-05T01:29:54.001903Z\", \"duration\": \"0:04:36\", \"iteration\": \"12\", \"goal\": \"accuracy_max\", \"run_name\": \"MaxAbsScaler, LogisticRegression\", \"run_properties\": \"copy=True\", \"primary_metric\": 0.86272868, \"best_metric\": 0.87146591}, {\"run_id\": \"AutoML_0f01a500-d600-4d69-9a74-ff800fcc162a_worker_2\", \"run_number\": 1707096595, \"metric\": null, \"status\": \"Completed\", \"run_type\": \"azureml.scriptrun\", \"training_percent\": null, \"start_time\": \"2024-02-05T01:33:39.882077Z\", \"end_time\": \"2024-02-05T01:35:07.94287Z\", \"created_time\": \"2024-02-05T01:29:55.260669Z\", \"created_time_dt\": \"2024-02-05T01:29:55.260669Z\", \"duration\": \"0:05:12\", \"iteration\": null, \"goal\": null, \"run_name\": \"Completed\", \"run_properties\": null}, {\"run_id\": \"AutoML_0f01a500-d600-4d69-9a74-ff800fcc162a_17\", \"run_number\": 1707096596, \"metric\": null, \"status\": \"Completed\", \"run_type\": null, \"training_percent\": \"100\", \"start_time\": \"2024-02-05T01:38:03.252987Z\", \"end_time\": \"2024-02-05T01:38:15.307638Z\", \"created_time\": \"2024-02-05T01:29:56.292945Z\", \"created_time_dt\": \"2024-02-05T01:29:56.292945Z\", \"duration\": \"0:08:19\", \"iteration\": \"17\", \"goal\": \"accuracy_max\", \"run_name\": \"StandardScalerWrapper, RandomForest\", \"run_properties\": \"copy=True, with_mean=False, with_std=False\", \"primary_metric\": 0.87473866, \"best_metric\": 0.87473866}, {\"run_id\": \"AutoML_0f01a500-d600-4d69-9a74-ff800fcc162a_worker_3\", \"run_number\": 1707096597, \"metric\": null, \"status\": \"Completed\", \"run_type\": \"azureml.scriptrun\", \"training_percent\": null, \"start_time\": \"2024-02-05T01:34:55.497839Z\", \"end_time\": \"2024-02-05T01:38:52.982425Z\", \"created_time\": \"2024-02-05T01:29:57.655554Z\", \"created_time_dt\": \"2024-02-05T01:29:57.655554Z\", \"duration\": \"0:08:55\", \"iteration\": null, \"goal\": null, \"run_name\": \"Completed\", \"run_properties\": null}, {\"run_id\": \"AutoML_0f01a500-d600-4d69-9a74-ff800fcc162a_21\", \"run_number\": 1707097085, \"metric\": null, \"status\": \"Completed\", \"run_type\": \"azureml.scriptrun\", \"training_percent\": \"100\", \"start_time\": \"2024-02-05T01:38:34.22207Z\", \"end_time\": \"2024-02-05T01:41:22.421192Z\", \"created_time\": \"2024-02-05T01:38:05.333645Z\", \"created_time_dt\": \"2024-02-05T01:38:05.333645Z\", \"duration\": \"0:03:17\", \"iteration\": \"21\", \"goal\": \"accuracy_max\", \"run_name\": \"StandardScalerWrapper, XGBoostClassifier\", \"run_properties\": \"copy=True, with_mean=False, with_std=False\", \"primary_metric\": 0.86384533, \"best_metric\": 0.87473866}, {\"run_id\": \"AutoML_0f01a500-d600-4d69-9a74-ff800fcc162a_24\", \"run_number\": 1707097156, \"metric\": null, \"status\": \"Completed\", \"run_type\": \"azureml.scriptrun\", \"training_percent\": \"100\", \"start_time\": \"2024-02-05T01:39:36.138421Z\", \"end_time\": \"2024-02-05T01:40:10.559643Z\", \"created_time\": \"2024-02-05T01:39:16.091321Z\", \"created_time_dt\": \"2024-02-05T01:39:16.091321Z\", \"duration\": \"0:00:54\", \"iteration\": \"24\", \"goal\": \"accuracy_max\", \"run_name\": \"StandardScalerWrapper, RandomForest\", \"run_properties\": \"copy=True, with_mean=False, with_std=False\", \"primary_metric\": 0.8540449, \"best_metric\": 0.87473866}, {\"run_id\": \"AutoML_0f01a500-d600-4d69-9a74-ff800fcc162a_25\", \"run_number\": 1707097212, \"metric\": null, \"status\": \"Completed\", \"run_type\": \"azureml.scriptrun\", \"training_percent\": \"100\", \"start_time\": \"2024-02-05T01:40:33.611661Z\", \"end_time\": \"2024-02-05T01:41:08.527094Z\", \"created_time\": \"2024-02-05T01:40:12.936678Z\", \"created_time_dt\": \"2024-02-05T01:40:12.936678Z\", \"duration\": \"0:00:55\", \"iteration\": \"25\", \"goal\": \"accuracy_max\", \"run_name\": \"TruncatedSVDWrapper, XGBoostClassifier\", \"run_properties\": \"n_components=0.01, random_state=None\", \"primary_metric\": 0.63289974, \"best_metric\": 0.87473866}, {\"run_id\": \"AutoML_0f01a500-d600-4d69-9a74-ff800fcc162a_26\", \"run_number\": 1707097215, \"metric\": null, \"status\": \"Completed\", \"run_type\": \"azureml.scriptrun\", \"training_percent\": \"100\", \"start_time\": \"2024-02-05T01:40:37.570704Z\", \"end_time\": \"2024-02-05T01:41:10.841552Z\", \"created_time\": \"2024-02-05T01:40:15.120001Z\", \"created_time_dt\": \"2024-02-05T01:40:15.120001Z\", \"duration\": \"0:00:55\", \"iteration\": \"26\", \"goal\": \"accuracy_max\", \"run_name\": \"SparseNormalizer, XGBoostClassifier\", \"run_properties\": \"copy=True, norm='l2'\", \"primary_metric\": 0.85296389, \"best_metric\": 0.87473866}, {\"run_id\": \"AutoML_0f01a500-d600-4d69-9a74-ff800fcc162a_27\", \"run_number\": 1707097270, \"metric\": null, \"status\": \"Completed\", \"run_type\": \"azureml.scriptrun\", \"training_percent\": \"100\", \"start_time\": \"2024-02-05T01:41:33.556836Z\", \"end_time\": \"2024-02-05T01:42:07.449595Z\", \"created_time\": \"2024-02-05T01:41:10.065362Z\", \"created_time_dt\": \"2024-02-05T01:41:10.065362Z\", \"duration\": \"0:00:57\", \"iteration\": \"27\", \"goal\": \"accuracy_max\", \"run_name\": \"StandardScalerWrapper, XGBoostClassifier\", \"run_properties\": \"copy=True, with_mean=False, with_std=False\", \"primary_metric\": 0.85295795, \"best_metric\": 0.87473866}, {\"run_id\": \"AutoML_0f01a500-d600-4d69-9a74-ff800fcc162a_28\", \"run_number\": 1707097272, \"metric\": null, \"status\": \"Completed\", \"run_type\": \"azureml.scriptrun\", \"training_percent\": \"100\", \"start_time\": \"2024-02-05T01:41:33.434765Z\", \"end_time\": \"2024-02-05T01:42:07.005457Z\", \"created_time\": \"2024-02-05T01:41:12.569864Z\", \"created_time_dt\": \"2024-02-05T01:41:12.569864Z\", \"duration\": \"0:00:54\", \"iteration\": \"28\", \"goal\": \"accuracy_max\", \"run_name\": \"StandardScalerWrapper, XGBoostClassifier\", \"run_properties\": \"copy=True, with_mean=False, with_std=False\", \"primary_metric\": 0.86167142, \"best_metric\": 0.87473866}, {\"run_id\": \"AutoML_0f01a500-d600-4d69-9a74-ff800fcc162a_29\", \"run_number\": 1707097284, \"metric\": null, \"status\": \"Completed\", \"run_type\": \"azureml.scriptrun\", \"training_percent\": \"100\", \"start_time\": \"2024-02-05T01:41:46.615041Z\", \"end_time\": \"2024-02-05T01:42:19.397139Z\", \"created_time\": \"2024-02-05T01:41:24.032044Z\", \"created_time_dt\": \"2024-02-05T01:41:24.032044Z\", \"duration\": \"0:00:55\", \"iteration\": \"29\", \"goal\": \"accuracy_max\", \"run_name\": \"StandardScalerWrapper, LightGBM\", \"run_properties\": \"copy=True, with_mean=False, with_std=True\", \"primary_metric\": 0.8497149, \"best_metric\": 0.87473866}, {\"run_id\": \"AutoML_0f01a500-d600-4d69-9a74-ff800fcc162a_30\", \"run_number\": 1707097305, \"metric\": null, \"status\": \"Completed\", \"run_type\": \"azureml.scriptrun\", \"training_percent\": \"100\", \"start_time\": \"2024-02-05T01:42:09.562382Z\", \"end_time\": \"2024-02-05T01:42:44.784133Z\", \"created_time\": \"2024-02-05T01:41:45.383768Z\", \"created_time_dt\": \"2024-02-05T01:41:45.383768Z\", \"duration\": \"0:00:59\", \"iteration\": \"30\", \"goal\": \"accuracy_max\", \"run_name\": \"SparseNormalizer, XGBoostClassifier\", \"run_properties\": \"copy=True, norm='l1'\", \"primary_metric\": 0.87366952, \"best_metric\": 0.87473866}, {\"run_id\": \"AutoML_0f01a500-d600-4d69-9a74-ff800fcc162a_31\", \"run_number\": 1707097328, \"metric\": null, \"status\": \"Completed\", \"run_type\": \"azureml.scriptrun\", \"training_percent\": \"100\", \"start_time\": \"2024-02-05T01:42:31.709238Z\", \"end_time\": \"2024-02-05T01:43:06.038754Z\", \"created_time\": \"2024-02-05T01:42:08.495493Z\", \"created_time_dt\": \"2024-02-05T01:42:08.495493Z\", \"duration\": \"0:00:57\", \"iteration\": \"31\", \"goal\": \"accuracy_max\", \"run_name\": \"StandardScalerWrapper, XGBoostClassifier\", \"run_properties\": \"copy=True, with_mean=False, with_std=False\", \"primary_metric\": 0.86167736, \"best_metric\": 0.87473866}, {\"run_id\": \"AutoML_0f01a500-d600-4d69-9a74-ff800fcc162a_32\", \"run_number\": 1707097330, \"metric\": null, \"status\": \"Completed\", \"run_type\": \"azureml.scriptrun\", \"training_percent\": \"100\", \"start_time\": \"2024-02-05T01:42:31.517581Z\", \"end_time\": \"2024-02-05T01:43:05.924371Z\", \"created_time\": \"2024-02-05T01:42:10.769904Z\", \"created_time_dt\": \"2024-02-05T01:42:10.769904Z\", \"duration\": \"0:00:55\", \"iteration\": \"32\", \"goal\": \"accuracy_max\", \"run_name\": \"StandardScalerWrapper, LogisticRegression\", \"run_properties\": \"copy=True, with_mean=False, with_std=True\", \"primary_metric\": 0.86272868, \"best_metric\": 0.87473866}, {\"run_id\": \"AutoML_0f01a500-d600-4d69-9a74-ff800fcc162a_33\", \"run_number\": 1707097340, \"metric\": null, \"status\": \"Canceled\", \"run_type\": \"azureml.scriptrun\", \"training_percent\": \"100\", \"start_time\": \"2024-02-05T01:42:42.906315Z\", \"end_time\": \"2024-02-05T01:43:11.978771Z\", \"created_time\": \"2024-02-05T01:42:20.945593Z\", \"created_time_dt\": \"2024-02-05T01:42:20.945593Z\", \"duration\": \"0:00:51\", \"iteration\": \"33\", \"goal\": \"accuracy_max\", \"run_name\": \"MaxAbsScaler, SGD\", \"run_properties\": \"copy=True\", \"primary_metric\": 0.86600737, \"best_metric\": 0.87473866}, {\"run_id\": \"AutoML_0f01a500-d600-4d69-9a74-ff800fcc162a_34\", \"run_number\": 1707097366, \"metric\": null, \"status\": \"Canceled\", \"run_type\": \"azureml.scriptrun\", \"training_percent\": \"100\", \"start_time\": \"2024-02-05T01:43:06.744142Z\", \"end_time\": \"2024-02-05T01:43:12.480848Z\", \"created_time\": \"2024-02-05T01:42:46.213654Z\", \"created_time_dt\": \"2024-02-05T01:42:46.213654Z\", \"duration\": \"0:00:26\", \"iteration\": \"34\", \"goal\": null, \"run_name\": \"Canceled\", \"run_properties\": null}, {\"run_id\": \"AutoML_0f01a500-d600-4d69-9a74-ff800fcc162a_35\", \"run_number\": 1707097393, \"metric\": null, \"status\": \"Completed\", \"run_type\": \"azureml.scriptrun\", \"training_percent\": \"100\", \"start_time\": \"2024-02-05T01:43:37.115298Z\", \"end_time\": \"2024-02-05T01:44:39.303002Z\", \"created_time\": \"2024-02-05T01:43:13.271685Z\", \"created_time_dt\": \"2024-02-05T01:43:13.271685Z\", \"duration\": \"0:01:26\", \"iteration\": \"35\", \"goal\": \"accuracy_max\", \"run_name\": \"VotingEnsemble\", \"run_properties\": \"classification_labels=numpy.array([0, 1]\", \"primary_metric\": 0.88129603, \"best_metric\": 0.88129603}], \"children_metrics\": {\"categories\": [0], \"series\": {\"balanced_accuracy\": [{\"categories\": [\"0\", \"2\", \"6\", \"10\", \"12\", \"17\", \"21\", \"24\", \"25\", \"26\", \"27\", \"28\", \"29\", \"30\", \"31\", \"32\", \"33\", \"35\"], \"mode\": \"markers\", \"name\": \"balanced_accuracy\", \"stepped\": false, \"type\": \"scatter\", \"data\": [0.862062690004684, 0.846087002119526, 0.8659034793303342, 0.8579588736611334, 0.8589422983142129, 0.8696863945340558, 0.8593809837147303, 0.849025960111593, 0.6212845533736047, 0.8494283330585478, 0.8492151160039623, 0.8572029123686352, 0.8415436246944751, 0.8688259117787773, 0.8581549802274347, 0.8589422983142129, 0.8596101603332075, 0.8771476393034032]}, {\"categories\": [\"0\", \"2\", \"6\", \"10\", \"12\", \"17\", \"21\", \"24\", \"25\", \"26\", \"27\", \"28\", \"29\", \"30\", \"31\", \"32\", \"33\", \"35\"], \"mode\": \"lines\", \"name\": \"balanced_accuracy_max\", \"stepped\": true, \"type\": \"scatter\", \"data\": [0.862062690004684, 0.862062690004684, 0.8659034793303342, 0.8659034793303342, 0.8659034793303342, 0.8696863945340558, 0.8696863945340558, 0.8696863945340558, 0.8696863945340558, 0.8696863945340558, 0.8696863945340558, 0.8696863945340558, 0.8696863945340558, 0.8696863945340558, 0.8696863945340558, 0.8696863945340558, 0.8696863945340558, 0.8771476393034032]}], \"average_precision_score_weighted\": [{\"categories\": [\"0\", \"2\", \"6\", \"10\", \"12\", \"17\", \"21\", \"24\", \"25\", \"26\", \"27\", \"28\", \"29\", \"30\", \"31\", \"32\", \"33\", \"35\"], \"mode\": \"markers\", \"name\": \"average_precision_score_weighted\", \"stepped\": false, \"type\": \"scatter\", \"data\": [0.9243002853087807, 0.9199387807390187, 0.9136920733278874, 0.9260169212298326, 0.9278818797020121, 0.9335226036421315, 0.9320920292770829, 0.9235763575034571, 0.6582053715165916, 0.9204185015194039, 0.9198470003136208, 0.9249744896643207, 0.9045521398169353, 0.9306411576475165, 0.92346130459203, 0.9279939541516382, 0.9257440761179906, 0.9351455312641871]}, {\"categories\": [\"0\", \"2\", \"6\", \"10\", \"12\", \"17\", \"21\", \"24\", \"25\", \"26\", \"27\", \"28\", \"29\", \"30\", \"31\", \"32\", \"33\", \"35\"], \"mode\": \"lines\", \"name\": \"average_precision_score_weighted_max\", \"stepped\": true, \"type\": \"scatter\", \"data\": [0.9243002853087807, 0.9243002853087807, 0.9243002853087807, 0.9260169212298326, 0.9278818797020121, 0.9335226036421315, 0.9335226036421315, 0.9335226036421315, 0.9335226036421315, 0.9335226036421315, 0.9335226036421315, 0.9335226036421315, 0.9335226036421315, 0.9335226036421315, 0.9335226036421315, 0.9335226036421315, 0.9335226036421315, 0.9351455312641871]}], \"precision_score_macro\": [{\"categories\": [\"0\", \"2\", \"6\", \"10\", \"12\", \"17\", \"21\", \"24\", \"25\", \"26\", \"27\", \"28\", \"29\", \"30\", \"31\", \"32\", \"33\", \"35\"], \"mode\": \"markers\", \"name\": \"precision_score_macro\", \"stepped\": false, \"type\": \"scatter\", \"data\": [0.8649693868132937, 0.849476416508271, 0.8729273081894748, 0.8710979013390692, 0.8630238427956151, 0.8784229802436562, 0.8635976477968651, 0.8570753302791001, 0.6299494515233252, 0.8524188773312311, 0.8527010596341732, 0.8615231098673153, 0.8575834741084586, 0.8758735637537258, 0.8613052602512626, 0.8630238427956151, 0.8686969367125144, 0.8828157705702122]}, {\"categories\": [\"0\", \"2\", \"6\", \"10\", \"12\", \"17\", \"21\", \"24\", \"25\", \"26\", \"27\", \"28\", \"29\", \"30\", \"31\", \"32\", \"33\", \"35\"], \"mode\": \"lines\", \"name\": \"precision_score_macro_max\", \"stepped\": true, \"type\": \"scatter\", \"data\": [0.8649693868132937, 0.8649693868132937, 0.8729273081894748, 0.8729273081894748, 0.8729273081894748, 0.8784229802436562, 0.8784229802436562, 0.8784229802436562, 0.8784229802436562, 0.8784229802436562, 0.8784229802436562, 0.8784229802436562, 0.8784229802436562, 0.8784229802436562, 0.8784229802436562, 0.8784229802436562, 0.8784229802436562, 0.8828157705702122]}], \"weighted_accuracy\": [{\"categories\": [\"0\", \"2\", \"6\", \"10\", \"12\", \"17\", \"21\", \"24\", \"25\", \"26\", \"27\", \"28\", \"29\", \"30\", \"31\", \"32\", \"33\", \"35\"], \"mode\": \"markers\", \"name\": \"weighted_accuracy\", \"stepped\": false, \"type\": \"scatter\", \"data\": [0.8697119490484972, 0.8530911843301755, 0.8767000422097155, 0.8715347468767582, 0.8662760548323565, 0.879511059301139, 0.8680443392736799, 0.8588060054731173, 0.6440331243508124, 0.8562830869269371, 0.8564831317946398, 0.8658730993122269, 0.8574334539496139, 0.8782452183188733, 0.8649847836871734, 0.8662760548323565, 0.8719856973941458, 0.8852195968920438]}, {\"categories\": [\"0\", \"2\", \"6\", \"10\", \"12\", \"17\", \"21\", \"24\", \"25\", \"26\", \"27\", \"28\", \"29\", \"30\", \"31\", \"32\", \"33\", \"35\"], \"mode\": \"lines\", \"name\": \"weighted_accuracy_max\", \"stepped\": true, \"type\": \"scatter\", \"data\": [0.8697119490484972, 0.8697119490484972, 0.8767000422097155, 0.8767000422097155, 0.8767000422097155, 0.879511059301139, 0.879511059301139, 0.879511059301139, 0.879511059301139, 0.879511059301139, 0.879511059301139, 0.879511059301139, 0.879511059301139, 0.879511059301139, 0.879511059301139, 0.879511059301139, 0.879511059301139, 0.8852195968920438]}], \"precision_score_micro\": [{\"categories\": [\"0\", \"2\", \"6\", \"10\", \"12\", \"17\", \"21\", \"24\", \"25\", \"26\", \"27\", \"28\", \"29\", \"30\", \"31\", \"32\", \"33\", \"35\"], \"mode\": \"markers\", \"name\": \"precision_score_micro\", \"stepped\": false, \"type\": \"scatter\", \"data\": [0.8660014255167499, 0.8496673794250416, 0.8714659063910668, 0.8649441672606321, 0.8627286766452839, 0.8747386552625326, 0.8638453314326442, 0.8540449037776193, 0.6328997386552625, 0.8529638869090046, 0.8529579472558803, 0.8616714183891659, 0.8497148966500356, 0.8736695177001664, 0.8616773580422903, 0.8627286766452839, 0.866007365169874, 0.8812960323117129]}, {\"categories\": [\"0\", \"2\", \"6\", \"10\", \"12\", \"17\", \"21\", \"24\", \"25\", \"26\", \"27\", \"28\", \"29\", \"30\", \"31\", \"32\", \"33\", \"35\"], \"mode\": \"lines\", \"name\": \"precision_score_micro_max\", \"stepped\": true, \"type\": \"scatter\", \"data\": [0.8660014255167499, 0.8660014255167499, 0.8714659063910668, 0.8714659063910668, 0.8714659063910668, 0.8747386552625326, 0.8747386552625326, 0.8747386552625326, 0.8747386552625326, 0.8747386552625326, 0.8747386552625326, 0.8747386552625326, 0.8747386552625326, 0.8747386552625326, 0.8747386552625326, 0.8747386552625326, 0.8747386552625326, 0.8812960323117129]}], \"recall_score_micro\": [{\"categories\": [\"0\", \"2\", \"6\", \"10\", \"12\", \"17\", \"21\", \"24\", \"25\", \"26\", \"27\", \"28\", \"29\", \"30\", \"31\", \"32\", \"33\", \"35\"], \"mode\": \"markers\", \"name\": \"recall_score_micro\", \"stepped\": false, \"type\": \"scatter\", \"data\": [0.8660014255167499, 0.8496673794250416, 0.8714659063910668, 0.8649441672606321, 0.8627286766452839, 0.8747386552625326, 0.8638453314326442, 0.8540449037776193, 0.6328997386552625, 0.8529638869090046, 0.8529579472558803, 0.8616714183891659, 0.8497148966500356, 0.8736695177001664, 0.8616773580422903, 0.8627286766452839, 0.866007365169874, 0.8812960323117129]}, {\"categories\": [\"0\", \"2\", \"6\", \"10\", \"12\", \"17\", \"21\", \"24\", \"25\", \"26\", \"27\", \"28\", \"29\", \"30\", \"31\", \"32\", \"33\", \"35\"], \"mode\": \"lines\", \"name\": \"recall_score_micro_max\", \"stepped\": true, \"type\": \"scatter\", \"data\": [0.8660014255167499, 0.8660014255167499, 0.8714659063910668, 0.8714659063910668, 0.8714659063910668, 0.8747386552625326, 0.8747386552625326, 0.8747386552625326, 0.8747386552625326, 0.8747386552625326, 0.8747386552625326, 0.8747386552625326, 0.8747386552625326, 0.8747386552625326, 0.8747386552625326, 0.8747386552625326, 0.8747386552625326, 0.8812960323117129]}], \"precision_score_weighted\": [{\"categories\": [\"0\", \"2\", \"6\", \"10\", \"12\", \"17\", \"21\", \"24\", \"25\", \"26\", \"27\", \"28\", \"29\", \"30\", \"31\", \"32\", \"33\", \"35\"], \"mode\": \"markers\", \"name\": \"precision_score_weighted\", \"stepped\": false, \"type\": \"scatter\", \"data\": [0.8658470270817684, 0.8511154291520396, 0.8723273552522434, 0.869191970307094, 0.864082094001261, 0.8778623025939659, 0.8638730618599955, 0.8572068469184192, 0.6346429639235813, 0.8536101812807253, 0.8537629910918116, 0.8619951762225193, 0.8552791628856949, 0.8753540943165495, 0.8622104025997673, 0.864082094001261, 0.8677014353706654, 0.8824615353449212]}, {\"categories\": [\"0\", \"2\", \"6\", \"10\", \"12\", \"17\", \"21\", \"24\", \"25\", \"26\", \"27\", \"28\", \"29\", \"30\", \"31\", \"32\", \"33\", \"35\"], \"mode\": \"lines\", \"name\": \"precision_score_weighted_max\", \"stepped\": true, \"type\": \"scatter\", \"data\": [0.8658470270817684, 0.8658470270817684, 0.8723273552522434, 0.8723273552522434, 0.8723273552522434, 0.8778623025939659, 0.8778623025939659, 0.8778623025939659, 0.8778623025939659, 0.8778623025939659, 0.8778623025939659, 0.8778623025939659, 0.8778623025939659, 0.8778623025939659, 0.8778623025939659, 0.8778623025939659, 0.8778623025939659, 0.8824615353449212]}], \"AUC_weighted\": [{\"categories\": [\"0\", \"2\", \"6\", \"10\", \"12\", \"17\", \"21\", \"24\", \"25\", \"26\", \"27\", \"28\", \"29\", \"30\", \"31\", \"32\", \"33\", \"35\"], \"mode\": \"markers\", \"name\": \"AUC_weighted\", \"stepped\": false, \"type\": \"scatter\", \"data\": [0.9273817443723589, 0.920598177529695, 0.9181509475071007, 0.9280961466399384, 0.9259780781011836, 0.933897561575281, 0.9303682647138377, 0.9239036338907208, 0.6884887954796354, 0.9210887348324288, 0.9220721461481777, 0.9274164090468601, 0.9167205743313245, 0.9296828531181365, 0.922944880939754, 0.9260012701624685, 0.9249762261910961, 0.9345037896796142]}, {\"categories\": [\"0\", \"2\", \"6\", \"10\", \"12\", \"17\", \"21\", \"24\", \"25\", \"26\", \"27\", \"28\", \"29\", \"30\", \"31\", \"32\", \"33\", \"35\"], \"mode\": \"lines\", \"name\": \"AUC_weighted_max\", \"stepped\": true, \"type\": \"scatter\", \"data\": [0.9273817443723589, 0.9273817443723589, 0.9273817443723589, 0.9280961466399384, 0.9280961466399384, 0.933897561575281, 0.933897561575281, 0.933897561575281, 0.933897561575281, 0.933897561575281, 0.933897561575281, 0.933897561575281, 0.933897561575281, 0.933897561575281, 0.933897561575281, 0.933897561575281, 0.933897561575281, 0.9345037896796142]}], \"recall_score_weighted\": [{\"categories\": [\"0\", \"2\", \"6\", \"10\", \"12\", \"17\", \"21\", \"24\", \"25\", \"26\", \"27\", \"28\", \"29\", \"30\", \"31\", \"32\", \"33\", \"35\"], \"mode\": \"markers\", \"name\": \"recall_score_weighted\", \"stepped\": false, \"type\": \"scatter\", \"data\": [0.8660014255167499, 0.8496673794250416, 0.8714659063910668, 0.8649441672606321, 0.8627286766452839, 0.8747386552625326, 0.8638453314326442, 0.8540449037776193, 0.6328997386552625, 0.8529638869090046, 0.8529579472558803, 0.8616714183891659, 0.8497148966500356, 0.8736695177001664, 0.8616773580422903, 0.8627286766452839, 0.866007365169874, 0.8812960323117129]}, {\"categories\": [\"0\", \"2\", \"6\", \"10\", \"12\", \"17\", \"21\", \"24\", \"25\", \"26\", \"27\", \"28\", \"29\", \"30\", \"31\", \"32\", \"33\", \"35\"], \"mode\": \"lines\", \"name\": \"recall_score_weighted_max\", \"stepped\": true, \"type\": \"scatter\", \"data\": [0.8660014255167499, 0.8660014255167499, 0.8714659063910668, 0.8714659063910668, 0.8714659063910668, 0.8747386552625326, 0.8747386552625326, 0.8747386552625326, 0.8747386552625326, 0.8747386552625326, 0.8747386552625326, 0.8747386552625326, 0.8747386552625326, 0.8747386552625326, 0.8747386552625326, 0.8747386552625326, 0.8747386552625326, 0.8812960323117129]}], \"average_precision_score_macro\": [{\"categories\": [\"0\", \"2\", \"6\", \"10\", \"12\", \"17\", \"21\", \"24\", \"25\", \"26\", \"27\", \"28\", \"29\", \"30\", \"31\", \"32\", \"33\", \"35\"], \"mode\": \"markers\", \"name\": \"average_precision_score_macro\", \"stepped\": false, \"type\": \"scatter\", \"data\": [0.9235669925777401, 0.9187873512028931, 0.9129952420503779, 0.9246888388463146, 0.9265720825299951, 0.9323696234342812, 0.9307718078352153, 0.9225333599774797, 0.6488142783615912, 0.9195892310408478, 0.9188395221321711, 0.9241220339141034, 0.9032476024118152, 0.9296725088262253, 0.9225941307716139, 0.9266911249529846, 0.9243116880586075, 0.9341435824374289]}, {\"categories\": [\"0\", \"2\", \"6\", \"10\", \"12\", \"17\", \"21\", \"24\", \"25\", \"26\", \"27\", \"28\", \"29\", \"30\", \"31\", \"32\", \"33\", \"35\"], \"mode\": \"lines\", \"name\": \"average_precision_score_macro_max\", \"stepped\": true, \"type\": \"scatter\", \"data\": [0.9235669925777401, 0.9235669925777401, 0.9235669925777401, 0.9246888388463146, 0.9265720825299951, 0.9323696234342812, 0.9323696234342812, 0.9323696234342812, 0.9323696234342812, 0.9323696234342812, 0.9323696234342812, 0.9323696234342812, 0.9323696234342812, 0.9323696234342812, 0.9323696234342812, 0.9323696234342812, 0.9323696234342812, 0.9341435824374289]}], \"norm_macro_recall\": [{\"categories\": [\"0\", \"2\", \"6\", \"10\", \"12\", \"17\", \"21\", \"24\", \"25\", \"26\", \"27\", \"28\", \"29\", \"30\", \"31\", \"32\", \"33\", \"35\"], \"mode\": \"markers\", \"name\": \"norm_macro_recall\", \"stepped\": false, \"type\": \"scatter\", \"data\": [0.724125380009368, 0.6921740042390521, 0.7318069586606679, 0.7159177473222668, 0.7178845966284259, 0.7393727890681115, 0.7187619674294605, 0.6980519202231863, 0.24256910674720963, 0.6988566661170957, 0.6984302320079248, 0.7144058247372704, 0.6830872493889502, 0.7376518235575544, 0.7163099604548695, 0.7178845966284259, 0.7192203206664152, 0.7542952786068065]}, {\"categories\": [\"0\", \"2\", \"6\", \"10\", \"12\", \"17\", \"21\", \"24\", \"25\", \"26\", \"27\", \"28\", \"29\", \"30\", \"31\", \"32\", \"33\", \"35\"], \"mode\": \"lines\", \"name\": \"norm_macro_recall_max\", \"stepped\": true, \"type\": \"scatter\", \"data\": [0.724125380009368, 0.724125380009368, 0.7318069586606679, 0.7318069586606679, 0.7318069586606679, 0.7393727890681115, 0.7393727890681115, 0.7393727890681115, 0.7393727890681115, 0.7393727890681115, 0.7393727890681115, 0.7393727890681115, 0.7393727890681115, 0.7393727890681115, 0.7393727890681115, 0.7393727890681115, 0.7393727890681115, 0.7542952786068065]}], \"recall_score_macro\": [{\"categories\": [\"0\", \"2\", \"6\", \"10\", \"12\", \"17\", \"21\", \"24\", \"25\", \"26\", \"27\", \"28\", \"29\", \"30\", \"31\", \"32\", \"33\", \"35\"], \"mode\": \"markers\", \"name\": \"recall_score_macro\", \"stepped\": false, \"type\": \"scatter\", \"data\": [0.862062690004684, 0.846087002119526, 0.8659034793303342, 0.8579588736611334, 0.8589422983142129, 0.8696863945340558, 0.8593809837147303, 0.849025960111593, 0.6212845533736047, 0.8494283330585478, 0.8492151160039623, 0.8572029123686352, 0.8415436246944751, 0.8688259117787773, 0.8581549802274347, 0.8589422983142129, 0.8596101603332075, 0.8771476393034032]}, {\"categories\": [\"0\", \"2\", \"6\", \"10\", \"12\", \"17\", \"21\", \"24\", \"25\", \"26\", \"27\", \"28\", \"29\", \"30\", \"31\", \"32\", \"33\", \"35\"], \"mode\": \"lines\", \"name\": \"recall_score_macro_max\", \"stepped\": true, \"type\": \"scatter\", \"data\": [0.862062690004684, 0.862062690004684, 0.8659034793303342, 0.8659034793303342, 0.8659034793303342, 0.8696863945340558, 0.8696863945340558, 0.8696863945340558, 0.8696863945340558, 0.8696863945340558, 0.8696863945340558, 0.8696863945340558, 0.8696863945340558, 0.8696863945340558, 0.8696863945340558, 0.8696863945340558, 0.8696863945340558, 0.8771476393034032]}], \"f1_score_weighted\": [{\"categories\": [\"0\", \"2\", \"6\", \"10\", \"12\", \"17\", \"21\", \"24\", \"25\", \"26\", \"27\", \"28\", \"29\", \"30\", \"31\", \"32\", \"33\", \"35\"], \"mode\": \"markers\", \"name\": \"f1_score_weighted\", \"stepped\": false, \"type\": \"scatter\", \"data\": [0.8657308219995759, 0.8493804774277216, 0.870896928271996, 0.8638604144602164, 0.86245713393788, 0.8741084073285343, 0.8635170049603801, 0.8532321662347458, 0.6269960737848905, 0.8527287964010618, 0.8526724124210728, 0.8613018993209369, 0.8480952590213076, 0.8731569141402169, 0.8614320120550885, 0.86245713393788, 0.8652929648990476, 0.8809401752046437]}, {\"categories\": [\"0\", \"2\", \"6\", \"10\", \"12\", \"17\", \"21\", \"24\", \"25\", \"26\", \"27\", \"28\", \"29\", \"30\", \"31\", \"32\", \"33\", \"35\"], \"mode\": \"lines\", \"name\": \"f1_score_weighted_max\", \"stepped\": true, \"type\": \"scatter\", \"data\": [0.8657308219995759, 0.8657308219995759, 0.870896928271996, 0.870896928271996, 0.870896928271996, 0.8741084073285343, 0.8741084073285343, 0.8741084073285343, 0.8741084073285343, 0.8741084073285343, 0.8741084073285343, 0.8741084073285343, 0.8741084073285343, 0.8741084073285343, 0.8741084073285343, 0.8741084073285343, 0.8741084073285343, 0.8809401752046437]}], \"accuracy\": [{\"categories\": [\"0\", \"2\", \"6\", \"10\", \"12\", \"17\", \"21\", \"24\", \"25\", \"26\", \"27\", \"28\", \"29\", \"30\", \"31\", \"32\", \"33\", \"35\"], \"mode\": \"markers\", \"name\": \"accuracy\", \"stepped\": false, \"type\": \"scatter\", \"data\": [0.8660014255167499, 0.8496673794250416, 0.8714659063910668, 0.8649441672606321, 0.8627286766452839, 0.8747386552625326, 0.8638453314326442, 0.8540449037776193, 0.6328997386552625, 0.8529638869090046, 0.8529579472558803, 0.8616714183891659, 0.8497148966500356, 0.8736695177001664, 0.8616773580422903, 0.8627286766452839, 0.866007365169874, 0.8812960323117129]}, {\"categories\": [\"0\", \"2\", \"6\", \"10\", \"12\", \"17\", \"21\", \"24\", \"25\", \"26\", \"27\", \"28\", \"29\", \"30\", \"31\", \"32\", \"33\", \"35\"], \"mode\": \"lines\", \"name\": \"accuracy_max\", \"stepped\": true, \"type\": \"scatter\", \"data\": [0.8660014255167499, 0.8660014255167499, 0.8714659063910668, 0.8714659063910668, 0.8714659063910668, 0.8747386552625326, 0.8747386552625326, 0.8747386552625326, 0.8747386552625326, 0.8747386552625326, 0.8747386552625326, 0.8747386552625326, 0.8747386552625326, 0.8747386552625326, 0.8747386552625326, 0.8747386552625326, 0.8747386552625326, 0.8812960323117129]}], \"AUC_macro\": [{\"categories\": [\"0\", \"2\", \"6\", \"10\", \"12\", \"17\", \"21\", \"24\", \"25\", \"26\", \"27\", \"28\", \"29\", \"30\", \"31\", \"32\", \"33\", \"35\"], \"mode\": \"markers\", \"name\": \"AUC_macro\", \"stepped\": false, \"type\": \"scatter\", \"data\": [0.9273817443723587, 0.920598177529695, 0.9181509475071007, 0.9280961466399384, 0.9259780781011836, 0.933897561575281, 0.9303682647138377, 0.9239036338907208, 0.6884887954796355, 0.9210887348324288, 0.9220721461481777, 0.9274164090468601, 0.9167205743313245, 0.9296828531181365, 0.922944880939754, 0.9260012701624685, 0.9249762261910961, 0.9345037896796144]}, {\"categories\": [\"0\", \"2\", \"6\", \"10\", \"12\", \"17\", \"21\", \"24\", \"25\", \"26\", \"27\", \"28\", \"29\", \"30\", \"31\", \"32\", \"33\", \"35\"], \"mode\": \"lines\", \"name\": \"AUC_macro_max\", \"stepped\": true, \"type\": \"scatter\", \"data\": [0.9273817443723587, 0.9273817443723587, 0.9273817443723587, 0.9280961466399384, 0.9280961466399384, 0.933897561575281, 0.933897561575281, 0.933897561575281, 0.933897561575281, 0.933897561575281, 0.933897561575281, 0.933897561575281, 0.933897561575281, 0.933897561575281, 0.933897561575281, 0.933897561575281, 0.933897561575281, 0.9345037896796144]}], \"AUC_micro\": [{\"categories\": [\"0\", \"2\", \"6\", \"10\", \"12\", \"17\", \"21\", \"24\", \"25\", \"26\", \"27\", \"28\", \"29\", \"30\", \"31\", \"32\", \"33\", \"35\"], \"mode\": \"markers\", \"name\": \"AUC_micro\", \"stepped\": false, \"type\": \"scatter\", \"data\": [0.9290138271427443, 0.923454261368784, 0.922961408807824, 0.9281367844044492, 0.9285692205044219, 0.9349611103363739, 0.9325942125439604, 0.9259774052716347, 0.6897742676389353, 0.9228261700396952, 0.9256942399998621, 0.9304347362161804, 0.9101612656394638, 0.9320807888714523, 0.9266408600451204, 0.9285333878429511, 0.9266743459156326, 0.9367265568636622]}, {\"categories\": [\"0\", \"2\", \"6\", \"10\", \"12\", \"17\", \"21\", \"24\", \"25\", \"26\", \"27\", \"28\", \"29\", \"30\", \"31\", \"32\", \"33\", \"35\"], \"mode\": \"lines\", \"name\": \"AUC_micro_max\", \"stepped\": true, \"type\": \"scatter\", \"data\": [0.9290138271427443, 0.9290138271427443, 0.9290138271427443, 0.9290138271427443, 0.9290138271427443, 0.9349611103363739, 0.9349611103363739, 0.9349611103363739, 0.9349611103363739, 0.9349611103363739, 0.9349611103363739, 0.9349611103363739, 0.9349611103363739, 0.9349611103363739, 0.9349611103363739, 0.9349611103363739, 0.9349611103363739, 0.9367265568636622]}], \"matthews_correlation\": [{\"categories\": [\"0\", \"2\", \"6\", \"10\", \"12\", \"17\", \"21\", \"24\", \"25\", \"26\", \"27\", \"28\", \"29\", \"30\", \"31\", \"32\", \"33\", \"35\"], \"mode\": \"markers\", \"name\": \"matthews_correlation\", \"stepped\": false, \"type\": \"scatter\", \"data\": [0.7270226177280047, 0.6955223849345049, 0.7387834655526359, 0.7289023395595431, 0.7219288859866364, 0.7480051528833713, 0.7229560063867284, 0.7060461339601314, 0.2508649269624986, 0.7018315923272377, 0.7018980334084064, 0.7187062897375446, 0.6989057512320429, 0.744642186245808, 0.7194466510928634, 0.7219288859866364, 0.7281768026118911, 0.7599270761965813]}, {\"categories\": [\"0\", \"2\", \"6\", \"10\", \"12\", \"17\", \"21\", \"24\", \"25\", \"26\", \"27\", \"28\", \"29\", \"30\", \"31\", \"32\", \"33\", \"35\"], \"mode\": \"lines\", \"name\": \"matthews_correlation_max\", \"stepped\": true, \"type\": \"scatter\", \"data\": [0.7270226177280047, 0.7270226177280047, 0.7387834655526359, 0.7387834655526359, 0.7387834655526359, 0.7480051528833713, 0.7480051528833713, 0.7480051528833713, 0.7480051528833713, 0.7480051528833713, 0.7480051528833713, 0.7480051528833713, 0.7480051528833713, 0.7480051528833713, 0.7480051528833713, 0.7480051528833713, 0.7480051528833713, 0.7599270761965813]}], \"log_loss\": [{\"categories\": [\"0\", \"2\", \"6\", \"10\", \"12\", \"17\", \"21\", \"24\", \"25\", \"26\", \"27\", \"28\", \"29\", \"30\", \"31\", \"32\", \"33\", \"35\"], \"mode\": \"markers\", \"name\": \"log_loss\", \"stepped\": false, \"type\": \"scatter\", \"data\": [0.3994302594587884, 0.3834780252888651, 0.34954201925990497, 0.358183184814738, 0.336383710401636, 0.3707630342847673, 0.3341319356464808, 0.3592531227539713, 0.6350365382437391, 0.3518923384802917, 0.5054935106755859, 0.33552417951641167, 0.5086257424793774, 0.433967150777223, 0.34307885193364784, 0.3363369062080479, 0.34470983333025196, 0.4083195044027777]}, {\"categories\": [\"0\", \"2\", \"6\", \"10\", \"12\", \"17\", \"21\", \"24\", \"25\", \"26\", \"27\", \"28\", \"29\", \"30\", \"31\", \"32\", \"33\", \"35\"], \"mode\": \"lines\", \"name\": \"log_loss_min\", \"stepped\": true, \"type\": \"scatter\", \"data\": [0.3994302594587884, 0.3834780252888651, 0.34954201925990497, 0.34954201925990497, 0.336383710401636, 0.336383710401636, 0.3341319356464808, 0.3341319356464808, 0.3341319356464808, 0.3341319356464808, 0.3341319356464808, 0.3341319356464808, 0.3341319356464808, 0.3341319356464808, 0.3341319356464808, 0.3341319356464808, 0.3341319356464808, 0.3341319356464808]}], \"f1_score_macro\": [{\"categories\": [\"0\", \"2\", \"6\", \"10\", \"12\", \"17\", \"21\", \"24\", \"25\", \"26\", \"27\", \"28\", \"29\", \"30\", \"31\", \"32\", \"33\", \"35\"], \"mode\": \"markers\", \"name\": \"f1_score_macro\", \"stepped\": false, \"type\": \"scatter\", \"data\": [0.863313296926635, 0.8467406607985671, 0.8683741303662122, 0.8612142970804516, 0.8599987540675136, 0.8717849604183968, 0.8611260607843034, 0.8506296465292467, 0.6185979913160342, 0.8503514164120984, 0.8502536505990385, 0.8588134508993143, 0.8450228826125319, 0.8709496952686081, 0.8592061771153097, 0.8599987540675136, 0.862487694967079, 0.8790130235240335]}, {\"categories\": [\"0\", \"2\", \"6\", \"10\", \"12\", \"17\", \"21\", \"24\", \"25\", \"26\", \"27\", \"28\", \"29\", \"30\", \"31\", \"32\", \"33\", \"35\"], \"mode\": \"lines\", \"name\": \"f1_score_macro_max\", \"stepped\": true, \"type\": \"scatter\", \"data\": [0.863313296926635, 0.863313296926635, 0.8683741303662122, 0.8683741303662122, 0.8683741303662122, 0.8717849604183968, 0.8717849604183968, 0.8717849604183968, 0.8717849604183968, 0.8717849604183968, 0.8717849604183968, 0.8717849604183968, 0.8717849604183968, 0.8717849604183968, 0.8717849604183968, 0.8717849604183968, 0.8717849604183968, 0.8790130235240335]}], \"f1_score_micro\": [{\"categories\": [\"0\", \"2\", \"6\", \"10\", \"12\", \"17\", \"21\", \"24\", \"25\", \"26\", \"27\", \"28\", \"29\", \"30\", \"31\", \"32\", \"33\", \"35\"], \"mode\": \"markers\", \"name\": \"f1_score_micro\", \"stepped\": false, \"type\": \"scatter\", \"data\": [0.8660014255167499, 0.8496673794250416, 0.8714659063910668, 0.8649441672606321, 0.8627286766452841, 0.8747386552625326, 0.8638453314326444, 0.8540449037776193, 0.6328997386552625, 0.8529638869090045, 0.8529579472558803, 0.861671418389166, 0.8497148966500356, 0.8736695177001664, 0.8616773580422903, 0.8627286766452841, 0.8660073651698742, 0.8812960323117129]}, {\"categories\": [\"0\", \"2\", \"6\", \"10\", \"12\", \"17\", \"21\", \"24\", \"25\", \"26\", \"27\", \"28\", \"29\", \"30\", \"31\", \"32\", \"33\", \"35\"], \"mode\": \"lines\", \"name\": \"f1_score_micro_max\", \"stepped\": true, \"type\": \"scatter\", \"data\": [0.8660014255167499, 0.8660014255167499, 0.8714659063910668, 0.8714659063910668, 0.8714659063910668, 0.8747386552625326, 0.8747386552625326, 0.8747386552625326, 0.8747386552625326, 0.8747386552625326, 0.8747386552625326, 0.8747386552625326, 0.8747386552625326, 0.8747386552625326, 0.8747386552625326, 0.8747386552625326, 0.8747386552625326, 0.8812960323117129]}], \"average_precision_score_micro\": [{\"categories\": [\"0\", \"2\", \"6\", \"10\", \"12\", \"17\", \"21\", \"24\", \"25\", \"26\", \"27\", \"28\", \"29\", \"30\", \"31\", \"32\", \"33\", \"35\"], \"mode\": \"markers\", \"name\": \"average_precision_score_micro\", \"stepped\": false, \"type\": \"scatter\", \"data\": [0.9240621653631799, 0.9215852364488029, 0.9165620211668333, 0.9248414512710001, 0.9284321348327254, 0.9329285188246036, 0.9325485133955193, 0.9244593176009491, 0.6745902606410878, 0.9219118615078516, 0.9227741189547158, 0.9256948726074257, 0.895882285390978, 0.9308460529993008, 0.925451843856363, 0.9284372736895661, 0.92523115382506, 0.9356143463969839]}, {\"categories\": [\"0\", \"2\", \"6\", \"10\", \"12\", \"17\", \"21\", \"24\", \"25\", \"26\", \"27\", \"28\", \"29\", \"30\", \"31\", \"32\", \"33\", \"35\"], \"mode\": \"lines\", \"name\": \"average_precision_score_micro_max\", \"stepped\": true, \"type\": \"scatter\", \"data\": [0.9240621653631799, 0.9240621653631799, 0.9240621653631799, 0.9248414512710001, 0.9284321348327254, 0.9329285188246036, 0.9329285188246036, 0.9329285188246036, 0.9329285188246036, 0.9329285188246036, 0.9329285188246036, 0.9329285188246036, 0.9329285188246036, 0.9329285188246036, 0.9329285188246036, 0.9329285188246036, 0.9329285188246036, 0.9356143463969839]}]}, \"metricName\": null, \"primaryMetricName\": \"accuracy\", \"showLegend\": false}, \"run_metrics\": [{\"name\": \"experiment_status\", \"run_id\": \"AutoML_0f01a500-d600-4d69-9a74-ff800fcc162a\", \"categories\": [0, 1, 2, 3, 4, 5, 6, 7, 8, 9, 10, 11, 12, 13], \"series\": [{\"data\": [\"DatasetEvaluation\", \"FeaturesGeneration\", \"DatasetFeaturization\", \"DatasetFeaturizationCompleted\", \"DatasetCrossValidationSplit\", \"ModelSelection\", \"BestRunExplainModel\", \"ModelExplanationDataSetSetup\", \"PickSurrogateModel\", \"EngineeredFeatureExplanations\", \"EngineeredFeatureExplanations\", \"RawFeaturesExplanations\", \"RawFeaturesExplanations\", \"BestRunExplainModel\"]}]}, {\"name\": \"experiment_status_description\", \"run_id\": \"AutoML_0f01a500-d600-4d69-9a74-ff800fcc162a\", \"categories\": [0, 1, 2, 3, 4, 5, 6, 7, 8, 9, 10, 11, 12, 13], \"series\": [{\"data\": [\"Gathering dataset statistics.\", \"Generating features for the dataset.\", \"Beginning to fit featurizers and featurize the dataset.\", \"Completed fit featurizers and featurizing the dataset.\", \"Generating individually featurized CV splits.\", \"Beginning model selection.\", \"Best run model explanations started\", \"Model explanations data setup completed\", \"Choosing LightGBM as the surrogate model for explanations\", \"Computation of engineered features started\", \"Computation of engineered features completed\", \"Computation of raw features started\", \"Computation of raw features completed\", \"Best run model explanations completed\"]}]}, {\"name\": \"log_loss\", \"run_id\": \"AutoML_0f01a500-d600-4d69-9a74-ff800fcc162a\", \"categories\": [0], \"series\": [{\"data\": [0.4083195044027777]}]}, {\"name\": \"precision_score_micro\", \"run_id\": \"AutoML_0f01a500-d600-4d69-9a74-ff800fcc162a\", \"categories\": [0], \"series\": [{\"data\": [0.8812960323117129]}]}, {\"name\": \"balanced_accuracy\", \"run_id\": \"AutoML_0f01a500-d600-4d69-9a74-ff800fcc162a\", \"categories\": [0], \"series\": [{\"data\": [0.8771476393034032]}]}, {\"name\": \"weighted_accuracy\", \"run_id\": \"AutoML_0f01a500-d600-4d69-9a74-ff800fcc162a\", \"categories\": [0], \"series\": [{\"data\": [0.8852195968920438]}]}, {\"name\": \"norm_macro_recall\", \"run_id\": \"AutoML_0f01a500-d600-4d69-9a74-ff800fcc162a\", \"categories\": [0], \"series\": [{\"data\": [0.7542952786068065]}]}, {\"name\": \"precision_score_macro\", \"run_id\": \"AutoML_0f01a500-d600-4d69-9a74-ff800fcc162a\", \"categories\": [0], \"series\": [{\"data\": [0.8828157705702122]}]}, {\"name\": \"average_precision_score_micro\", \"run_id\": \"AutoML_0f01a500-d600-4d69-9a74-ff800fcc162a\", \"categories\": [0], \"series\": [{\"data\": [0.9356143463969839]}]}, {\"name\": \"f1_score_macro\", \"run_id\": \"AutoML_0f01a500-d600-4d69-9a74-ff800fcc162a\", \"categories\": [0], \"series\": [{\"data\": [0.8790130235240335]}]}, {\"name\": \"recall_score_weighted\", \"run_id\": \"AutoML_0f01a500-d600-4d69-9a74-ff800fcc162a\", \"categories\": [0], \"series\": [{\"data\": [0.8812960323117129]}]}, {\"name\": \"recall_score_macro\", \"run_id\": \"AutoML_0f01a500-d600-4d69-9a74-ff800fcc162a\", \"categories\": [0], \"series\": [{\"data\": [0.8771476393034032]}]}, {\"name\": \"f1_score_weighted\", \"run_id\": \"AutoML_0f01a500-d600-4d69-9a74-ff800fcc162a\", \"categories\": [0], \"series\": [{\"data\": [0.8809401752046437]}]}, {\"name\": \"average_precision_score_macro\", \"run_id\": \"AutoML_0f01a500-d600-4d69-9a74-ff800fcc162a\", \"categories\": [0], \"series\": [{\"data\": [0.9341435824374289]}]}, {\"name\": \"AUC_macro\", \"run_id\": \"AutoML_0f01a500-d600-4d69-9a74-ff800fcc162a\", \"categories\": [0], \"series\": [{\"data\": [0.9345037896796144]}]}, {\"name\": \"f1_score_micro\", \"run_id\": \"AutoML_0f01a500-d600-4d69-9a74-ff800fcc162a\", \"categories\": [0], \"series\": [{\"data\": [0.8812960323117129]}]}, {\"name\": \"precision_score_weighted\", \"run_id\": \"AutoML_0f01a500-d600-4d69-9a74-ff800fcc162a\", \"categories\": [0], \"series\": [{\"data\": [0.8824615353449212]}]}, {\"name\": \"AUC_weighted\", \"run_id\": \"AutoML_0f01a500-d600-4d69-9a74-ff800fcc162a\", \"categories\": [0], \"series\": [{\"data\": [0.9345037896796142]}]}, {\"name\": \"accuracy\", \"run_id\": \"AutoML_0f01a500-d600-4d69-9a74-ff800fcc162a\", \"categories\": [0], \"series\": [{\"data\": [0.8812960323117129]}]}, {\"name\": \"recall_score_micro\", \"run_id\": \"AutoML_0f01a500-d600-4d69-9a74-ff800fcc162a\", \"categories\": [0], \"series\": [{\"data\": [0.8812960323117129]}]}, {\"name\": \"AUC_micro\", \"run_id\": \"AutoML_0f01a500-d600-4d69-9a74-ff800fcc162a\", \"categories\": [0], \"series\": [{\"data\": [0.9367265568636622]}]}, {\"name\": \"average_precision_score_weighted\", \"run_id\": \"AutoML_0f01a500-d600-4d69-9a74-ff800fcc162a\", \"categories\": [0], \"series\": [{\"data\": [0.9351455312641871]}]}, {\"name\": \"matthews_correlation\", \"run_id\": \"AutoML_0f01a500-d600-4d69-9a74-ff800fcc162a\", \"categories\": [0], \"series\": [{\"data\": [0.7599270761965813]}]}], \"run_logs\": \"\\nRun is completed.\", \"graph\": {}, \"widget_settings\": {\"childWidgetDisplay\": \"popup\", \"send_telemetry\": false, \"log_level\": \"INFO\", \"sdk_version\": \"1.51.0\"}, \"loading\": false}"
          },
          "metadata": {}
        }
      ],
      "execution_count": 9,
      "metadata": {
        "collapsed": false,
        "gather": {
          "logged": 1707098126118
        },
        "jupyter": {
          "outputs_hidden": false,
          "source_hidden": false
        },
        "nteract": {
          "transient": {
            "deleting": false
          }
        }
      }
    },
    {
      "cell_type": "markdown",
      "source": [
        "## Best Model\n",
        "\n",
        "TODO: In the cell below, get the best model from the automl experiments and display all the properties of the model.\n",
        "\n"
      ],
      "metadata": {}
    },
    {
      "cell_type": "code",
      "source": [
        "# Get best run and model\n",
        "best_run, fitted_model = remote_run.get_output()\n",
        "\n",
        "# Print the best run\n",
        "print(best_run)\n",
        "\n",
        "# Get all metrics of the best run\n",
        "best_run_metrics = best_run.get_metrics()\n",
        "\n",
        "# Print all metrics of the best run\n",
        "for metric_name in best_run_metrics:\n",
        "    metric = best_run_metrics[metric_name]\n",
        "    print(metric_name, metric)"
      ],
      "outputs": [
        {
          "output_type": "stream",
          "name": "stderr",
          "text": "WARNING:root:The version of the SDK does not match the version the model was trained on.\nWARNING:root:The consistency in the result may not be guaranteed.\nWARNING:root:Package:azureml-automl-core, training version:1.52.0.post1, current version:1.51.0.post1\nPackage:azureml-automl-runtime, training version:1.52.0.post1, current version:1.51.0.post1\nPackage:azureml-core, training version:1.52.0, current version:1.51.0\nPackage:azureml-dataprep, training version:4.11.4, current version:4.10.8\nPackage:azureml-dataprep-rslex, training version:2.18.4, current version:2.17.12\nPackage:azureml-dataset-runtime, training version:1.52.0, current version:1.51.0\nPackage:azureml-defaults, training version:1.52.0, current version:1.51.0\nPackage:azureml-interpret, training version:1.52.0, current version:1.51.0\nPackage:azureml-mlflow, training version:1.52.0, current version:1.51.0\nPackage:azureml-pipeline-core, training version:1.52.0, current version:1.51.0\nPackage:azureml-responsibleai, training version:1.52.0, current version:1.51.0\nPackage:azureml-telemetry, training version:1.52.0, current version:1.51.0\nPackage:azureml-train-automl-client, training version:1.52.0, current version:1.51.0.post1\nPackage:azureml-train-automl-runtime, training version:1.52.0, current version:1.51.0.post2\nPackage:azureml-train-core, training version:1.52.0, current version:1.51.0\nPackage:azureml-train-restclients-hyperdrive, training version:1.52.0, current version:1.51.0\nPackage:azureml-training-tabular, training version:1.52.0, current version:1.51.0.post1\nWARNING:root:Please ensure the version of your local conda dependencies match the version on which your model was trained in order to properly retrieve your model.\n"
        },
        {
          "output_type": "stream",
          "name": "stdout",
          "text": "Run(Experiment: heart_failure_automl2,\nId: AutoML_0f01a500-d600-4d69-9a74-ff800fcc162a_35,\nType: azureml.scriptrun,\nStatus: Completed)\nf1_score_macro 0.8790130235240335\nf1_score_weighted 0.8809401752046437\naverage_precision_score_weighted 0.9351455312641871\nlog_loss 0.4083195044027777\nrecall_score_macro 0.8771476393034032\nmatthews_correlation 0.7599270761965813\nrecall_score_micro 0.8812960323117129\naverage_precision_score_micro 0.9356143463969839\nweighted_accuracy 0.8852195968920438\naccuracy 0.8812960323117129\nAUC_micro 0.9367265568636622\nf1_score_micro 0.8812960323117129\nprecision_score_macro 0.8828157705702122\nprecision_score_micro 0.8812960323117129\naverage_precision_score_macro 0.9341435824374289\nnorm_macro_recall 0.7542952786068065\nAUC_macro 0.9345037896796144\nprecision_score_weighted 0.8824615353449212\nAUC_weighted 0.9345037896796142\nrecall_score_weighted 0.8812960323117129\nbalanced_accuracy 0.8771476393034032\nconfusion_matrix aml://artifactId/ExperimentRun/dcid.AutoML_0f01a500-d600-4d69-9a74-ff800fcc162a_35/confusion_matrix\naccuracy_table aml://artifactId/ExperimentRun/dcid.AutoML_0f01a500-d600-4d69-9a74-ff800fcc162a_35/accuracy_table\n"
        }
      ],
      "execution_count": 10,
      "metadata": {
        "collapsed": false,
        "gather": {
          "logged": 1707098155065
        },
        "jupyter": {
          "outputs_hidden": false,
          "source_hidden": false
        },
        "nteract": {
          "transient": {
            "deleting": false
          }
        }
      }
    },
    {
      "cell_type": "code",
      "source": [
        "#TODO: Save the best model\n",
        "\n",
        "from azureml.core import Model # Used to get model information\n",
        "# Print detailed parameters of the fitted model\n",
        "def print_model(model, prefix=\"\"):\n",
        "    for step in model.steps:\n",
        "        print(prefix + step[0])\n",
        "        if hasattr(step[1], 'estimators') and hasattr(step[1], 'weights'):\n",
        "            print({'estimators': list(\n",
        "                e[0] for e in step[1].estimators), 'weights': step[1].weights})\n",
        "            print()\n",
        "            for estimator in step[1].estimators:\n",
        "                print_model(estimator[1], estimator[0] + ' - ')\n",
        "        else:\n",
        "            print(step[1].get_params())\n",
        "            print()\n",
        "\n",
        "print_model(fitted_model)\n",
        "\n",
        "myModel = best_run.register_model(model_path='outputs/model.pkl', model_name='capstoneModel_automl',\n",
        "                        tags={'Training context':'Auto ML'},\n",
        "                        properties={'Accuracy': best_run_metrics['accuracy']})\n",
        "\n",
        "print(myModel)\n",
        "\n",
        "\n",
        "# List registered models to verify if model has been saved\n",
        "for model in Model.list(ws):\n",
        "    print(model.name, 'version:', model.version)\n",
        "    for tag_name in model.tags:\n",
        "        tag = model.tags[tag_name]\n",
        "        print ('\\t',tag_name, ':', tag)\n",
        "    for prop_name in model.properties:\n",
        "        prop = model.properties[prop_name]\n",
        "        print ('\\t',prop_name, ':', prop)\n",
        "    print('\\n')"
      ],
      "outputs": [
        {
          "output_type": "stream",
          "name": "stdout",
          "text": "datatransformer\n{'task': 'classification', 'is_onnx_compatible': False, 'enable_feature_sweeping': True, 'enable_dnn': False, 'force_text_dnn': False, 'feature_sweeping_timeout': 86400, 'featurization_config': None, 'is_cross_validation': True, 'feature_sweeping_config': {}, 'observer': None, 'working_dir': '/mnt/batch/tasks/shared/LS_root/mounts/clusters/notebook23/code/Users/odl_user_251683/starter_file'}\n\nprefittedsoftvotingclassifier\n{'estimators': ['18', '17', '30', '15', '14', '25', '21', '13', '3'], 'weights': [0.06666666666666667, 0.2, 0.13333333333333333, 0.06666666666666667, 0.13333333333333333, 0.06666666666666667, 0.06666666666666667, 0.06666666666666667, 0.2]}\n\n18 - standardscalerwrapper\n{'module_name': 'sklearn.preprocessing._data', 'class_name': 'StandardScaler', 'copy': True, 'with_mean': False, 'with_std': False}\n\n18 - xgboostclassifier\n{'objective': 'reg:logistic', 'use_label_encoder': True, 'base_score': 0.5, 'booster': 'gbtree', 'colsample_bylevel': 1, 'colsample_bynode': 1, 'colsample_bytree': 0.7, 'gamma': 0.1, 'gpu_id': -1, 'importance_type': 'gain', 'interaction_constraints': '', 'learning_rate': 0.100000001, 'max_delta_step': 0, 'max_depth': 9, 'min_child_weight': 1, 'missing': nan, 'monotone_constraints': '()', 'n_estimators': 25, 'n_jobs': 1, 'num_parallel_tree': 1, 'random_state': 0, 'reg_alpha': 0, 'reg_lambda': 1.7708333333333335, 'scale_pos_weight': 1, 'subsample': 0.9, 'tree_method': 'auto', 'validate_parameters': 1, 'verbosity': 0, 'eta': 0.1, 'max_leaves': 511, 'verbose': -10}\n\n17 - standardscalerwrapper\n{'module_name': 'sklearn.preprocessing._data', 'class_name': 'StandardScaler', 'copy': True, 'with_mean': False, 'with_std': False}\n\n17 - randomforestclassifier\n{'bootstrap': False, 'ccp_alpha': 0.0, 'class_weight': None, 'criterion': 'entropy', 'max_depth': None, 'max_features': 0.1, 'max_leaf_nodes': None, 'max_samples': None, 'min_impurity_decrease': 0.0, 'min_impurity_split': None, 'min_samples_leaf': 0.01, 'min_samples_split': 0.01, 'min_weight_fraction_leaf': 0.0, 'n_estimators': 50, 'n_jobs': 1, 'oob_score': False, 'random_state': None, 'verbose': 0, 'warm_start': False}\n\n30 - sparsenormalizer\n{'norm': 'l1', 'copy': True}\n\n30 - xgboostclassifier\n{'objective': 'reg:logistic', 'use_label_encoder': True, 'base_score': 0.5, 'booster': 'gbtree', 'colsample_bylevel': 1, 'colsample_bynode': 1, 'colsample_bytree': 0.5, 'gamma': 0, 'gpu_id': -1, 'importance_type': 'gain', 'interaction_constraints': '', 'learning_rate': 0.00999999978, 'max_delta_step': 0, 'max_depth': 7, 'min_child_weight': 1, 'missing': nan, 'monotone_constraints': '()', 'n_estimators': 100, 'n_jobs': 1, 'num_parallel_tree': 1, 'random_state': 0, 'reg_alpha': 0.7291666666666667, 'reg_lambda': 2.3958333333333335, 'scale_pos_weight': 1, 'subsample': 1, 'tree_method': 'auto', 'validate_parameters': 1, 'verbosity': 0, 'eta': 0.01, 'max_leaves': 31, 'verbose': -10}\n\n15 - sparsenormalizer\n{'norm': 'l2', 'copy': True}\n\n15 - randomforestclassifier\n{'bootstrap': True, 'ccp_alpha': 0.0, 'class_weight': 'balanced', 'criterion': 'gini', 'max_depth': None, 'max_features': 'sqrt', 'max_leaf_nodes': None, 'max_samples': None, 'min_impurity_decrease': 0.0, 'min_impurity_split': None, 'min_samples_leaf': 0.01, 'min_samples_split': 0.01, 'min_weight_fraction_leaf': 0.0, 'n_estimators': 100, 'n_jobs': 1, 'oob_score': True, 'random_state': None, 'verbose': 0, 'warm_start': False}\n\n14 - standardscalerwrapper\n{'module_name': 'sklearn.preprocessing._data', 'class_name': 'StandardScaler', 'copy': True, 'with_mean': False, 'with_std': False}\n\n14 - xgboostclassifier\n{'objective': 'reg:logistic', 'use_label_encoder': True, 'base_score': 0.5, 'booster': 'gbtree', 'colsample_bylevel': 1, 'colsample_bynode': 1, 'colsample_bytree': 1, 'gamma': 0, 'gpu_id': -1, 'importance_type': 'gain', 'interaction_constraints': '', 'learning_rate': 0.300000012, 'max_delta_step': 0, 'max_depth': 10, 'min_child_weight': 1, 'missing': nan, 'monotone_constraints': '()', 'n_estimators': 10, 'n_jobs': 1, 'num_parallel_tree': 1, 'random_state': 0, 'reg_alpha': 2.1875, 'reg_lambda': 0.4166666666666667, 'scale_pos_weight': 1, 'subsample': 0.5, 'tree_method': 'auto', 'validate_parameters': 1, 'verbosity': 0, 'eta': 0.3, 'max_leaves': 511, 'verbose': -10}\n\n25 - truncatedsvdwrapper\n{'n_components': 0.01, 'random_state': None}\n\n25 - xgboostclassifier\n{'objective': 'reg:logistic', 'use_label_encoder': True, 'base_score': 0.5, 'booster': 'gbtree', 'colsample_bylevel': 1, 'colsample_bynode': 1, 'colsample_bytree': 1, 'gamma': 10, 'gpu_id': -1, 'importance_type': 'gain', 'interaction_constraints': '', 'learning_rate': 0.0500000007, 'max_delta_step': 0, 'max_depth': 7, 'min_child_weight': 1, 'missing': nan, 'monotone_constraints': '()', 'n_estimators': 50, 'n_jobs': 1, 'num_parallel_tree': 1, 'random_state': 0, 'reg_alpha': 1.875, 'reg_lambda': 0.3125, 'scale_pos_weight': 1, 'subsample': 1, 'tree_method': 'auto', 'validate_parameters': 1, 'verbosity': 0, 'eta': 0.05, 'max_leaves': 63, 'verbose': -10}\n\n21 - standardscalerwrapper\n{'module_name': 'sklearn.preprocessing._data', 'class_name': 'StandardScaler', 'copy': True, 'with_mean': False, 'with_std': False}\n\n21 - xgboostclassifier\n{'objective': 'reg:logistic', 'use_label_encoder': True, 'base_score': 0.5, 'booster': 'gbtree', 'colsample_bylevel': 1, 'colsample_bynode': 1, 'colsample_bytree': 0.5, 'gamma': 0, 'gpu_id': -1, 'importance_type': 'gain', 'interaction_constraints': '', 'learning_rate': 0.200000003, 'max_delta_step': 0, 'max_depth': 7, 'min_child_weight': 1, 'missing': nan, 'monotone_constraints': '()', 'n_estimators': 25, 'n_jobs': 1, 'num_parallel_tree': 1, 'random_state': 0, 'reg_alpha': 0, 'reg_lambda': 0.20833333333333334, 'scale_pos_weight': 1, 'subsample': 1, 'tree_method': 'auto', 'validate_parameters': 1, 'verbosity': 0, 'eta': 0.2, 'max_leaves': 7, 'verbose': -10}\n\n13 - maxabsscaler\n{'copy': True}\n\n13 - sgdclassifierwrapper\n{'alpha': 7.5510448979591835, 'class_weight': 'balanced', 'eta0': 0.001, 'fit_intercept': True, 'l1_ratio': 0.42857142857142855, 'learning_rate': 'constant', 'loss': 'modified_huber', 'max_iter': 1000, 'penalty': 'none', 'power_t': 0.7777777777777777, 'tol': 0.0001, 'random_state': None, 'n_jobs': 1}\n\n3 - sparsenormalizer\n{'norm': 'l2', 'copy': True}\n\n3 - xgboostclassifier\n{'objective': 'reg:logistic', 'use_label_encoder': True, 'base_score': 0.5, 'booster': 'gbtree', 'colsample_bylevel': 1, 'colsample_bynode': 1, 'colsample_bytree': 0.7, 'gamma': 0.01, 'gpu_id': -1, 'importance_type': 'gain', 'interaction_constraints': '', 'learning_rate': 0.00999999978, 'max_delta_step': 0, 'max_depth': 7, 'min_child_weight': 1, 'missing': nan, 'monotone_constraints': '()', 'n_estimators': 10, 'n_jobs': 1, 'num_parallel_tree': 1, 'random_state': 0, 'reg_alpha': 2.1875, 'reg_lambda': 1.0416666666666667, 'scale_pos_weight': 1, 'subsample': 1, 'tree_method': 'auto', 'validate_parameters': 1, 'verbosity': 0, 'eta': 0.01, 'max_leaves': 31, 'verbose': -10}\n\nModel(workspace=Workspace.create(name='quick-starts-ws-251683', subscription_id='9b72f9e6-56c5-4c16-991b-19c652994860', resource_group='aml-quickstarts-251683'), name=capstoneModel_automl, id=capstoneModel_automl:1, version=1, tags={'Training context': 'Auto ML'}, properties={'Accuracy': '0.8812960323117129'})\ncapstoneModel_automl version: 1\n\t Training context : Auto ML\n\t Accuracy : 0.8812960323117129\n\n\n"
        }
      ],
      "execution_count": 11,
      "metadata": {
        "collapsed": false,
        "gather": {
          "logged": 1707098210996
        },
        "jupyter": {
          "outputs_hidden": false,
          "source_hidden": false
        },
        "nteract": {
          "transient": {
            "deleting": false
          }
        }
      }
    },
    {
      "cell_type": "markdown",
      "source": [
        "## Model Deployment\n",
        "\n",
        "Remember you have to deploy only one of the two models you trained but you still need to register both the models. Perform the steps in the rest of this notebook only if you wish to deploy this model.\n",
        "\n",
        "TODO: In the cell below, register the model, create an inference config and deploy the model as a web service."
      ],
      "metadata": {}
    },
    {
      "cell_type": "code",
      "source": [
        "# Download scoring file \n",
        "best_run.download_file('outputs/scoring_file_v_1_0_0.py', 'scoreScript.py')\n",
        "\n",
        "# Download environment file\n",
        "best_run.download_file('outputs/conda_env_v_1_0_0.yml', 'envFile.yml')\n",
        "\n",
        "from azureml.core.environment import Environment\n",
        "from azureml.core.model import InferenceConfig\n",
        "\n",
        "inference_config = InferenceConfig(entry_script='scoreScript.py',\n",
        "                                    environment=best_run.get_environment())\n",
        "\n",
        "# deploy\n",
        "from azureml.core.webservice import AciWebservice\n",
        "\n",
        "deployment_config = AciWebservice.deploy_configuration(cpu_cores = 1, memory_gb = 1)\n",
        "service = Model.deploy(ws, \"myservice\", [myModel], inference_config, deployment_config)\n",
        "service.wait_for_deployment(show_output = True)\n",
        "print(service.state)\n",
        "\n",
        "print(service.scoring_uri)\n",
        "\n",
        "print(service.swagger_uri)"
      ],
      "outputs": [
        {
          "output_type": "stream",
          "name": "stdout",
          "text": "Tips: You can try get_logs(): https://aka.ms/debugimage#dockerlog or local deployment: https://aka.ms/debugimage#debug-locally to debug if deployment takes longer than 10 minutes.\nRunning\n2024-02-05 01:57:13+00:00 Creating Container Registry if not exists.\n2024-02-05 01:57:14+00:00 Use the existing image.\n2024-02-05 01:57:14+00:00 Submitting deployment to compute.\n2024-02-05 01:57:19+00:00 Checking the status of deployment myservice..\n2024-02-05 01:59:55+00:00 Checking the status of inference endpoint myservice.\nSucceeded\nACI service creation operation finished, operation \"Succeeded\"\nHealthy\nhttp://d4af88e1-687a-47da-ab8f-bf6e8d85ba14.westeurope.azurecontainer.io/score\nhttp://d4af88e1-687a-47da-ab8f-bf6e8d85ba14.westeurope.azurecontainer.io/swagger.json\n"
        }
      ],
      "execution_count": 12,
      "metadata": {
        "collapsed": false,
        "gather": {
          "logged": 1707098444364
        },
        "jupyter": {
          "outputs_hidden": false,
          "source_hidden": false
        },
        "nteract": {
          "transient": {
            "deleting": false
          }
        }
      }
    },
    {
      "cell_type": "markdown",
      "source": [
        "TODO: In the cell below, send a request to the web service you deployed to test it."
      ],
      "metadata": {
        "gather": {
          "logged": 1598431657736
        },
        "jupyter": {
          "outputs_hidden": false,
          "source_hidden": false
        },
        "nteract": {
          "transient": {
            "deleting": false
          }
        }
      }
    },
    {
      "cell_type": "code",
      "source": [
        "import json\n",
        "\n",
        "#Import test data\n",
        "data = dataset.to_pandas_dataframe().dropna()\n",
        "test_df = data.sample(5) # data is the pandas dataframe of the original data\n",
        "label_df = test_df.pop('HeartDisease')\n",
        "\n",
        "test_sample = json.dumps({'data': test_df.to_dict(orient='records')})\n",
        "\n",
        "print(test_sample)\n",
        "\n",
        "import requests # Used for http post request\n",
        "\n",
        "# Set the content type\n",
        "headers = {'Content-type': 'application/json'}\n",
        "\n",
        "\n",
        "response = requests.post(service.scoring_uri, test_sample, headers=headers)"
      ],
      "outputs": [
        {
          "output_type": "stream",
          "name": "stdout",
          "text": "{\"data\": [{\"Age\": 54, \"Sex\": \"M\", \"ChestPainType\": \"ATA\", \"RestingBP\": 132, \"Cholesterol\": 182, \"FastingBS\": 0, \"RestingECG\": \"ST\", \"MaxHR\": 141, \"ExerciseAngina\": false, \"Oldpeak\": 0.1, \"ST_Slope\": \"Up\"}, {\"Age\": 41, \"Sex\": \"M\", \"ChestPainType\": \"ATA\", \"RestingBP\": 110, \"Cholesterol\": 235, \"FastingBS\": 0, \"RestingECG\": \"Normal\", \"MaxHR\": 153, \"ExerciseAngina\": false, \"Oldpeak\": 0.0, \"ST_Slope\": \"Up\"}, {\"Age\": 52, \"Sex\": \"M\", \"ChestPainType\": \"ASY\", \"RestingBP\": 125, \"Cholesterol\": 212, \"FastingBS\": 0, \"RestingECG\": \"Normal\", \"MaxHR\": 168, \"ExerciseAngina\": false, \"Oldpeak\": 1.0, \"ST_Slope\": \"Up\"}, {\"Age\": 33, \"Sex\": \"F\", \"ChestPainType\": \"ASY\", \"RestingBP\": 100, \"Cholesterol\": 246, \"FastingBS\": 0, \"RestingECG\": \"Normal\", \"MaxHR\": 150, \"ExerciseAngina\": true, \"Oldpeak\": 1.0, \"ST_Slope\": \"Flat\"}, {\"Age\": 59, \"Sex\": \"F\", \"ChestPainType\": \"ASY\", \"RestingBP\": 130, \"Cholesterol\": 338, \"FastingBS\": 1, \"RestingECG\": \"ST\", \"MaxHR\": 130, \"ExerciseAngina\": true, \"Oldpeak\": 1.5, \"ST_Slope\": \"Flat\"}]}\n"
        }
      ],
      "execution_count": 17,
      "metadata": {
        "collapsed": false,
        "gather": {
          "logged": 1707099627374
        },
        "jupyter": {
          "outputs_hidden": false,
          "source_hidden": false
        },
        "nteract": {
          "transient": {
            "deleting": false
          }
        }
      }
    },
    {
      "cell_type": "markdown",
      "source": [
        "TODO: In the cell below, print the logs of the web service and delete the service"
      ],
      "metadata": {
        "gather": {
          "logged": 1598432765711
        },
        "jupyter": {
          "outputs_hidden": false,
          "source_hidden": false
        },
        "nteract": {
          "transient": {
            "deleting": false
          }
        }
      }
    },
    {
      "cell_type": "code",
      "source": [
        "# Print results from the inference\n",
        "print(response.text)\n",
        "\n",
        "# Print original labels\n",
        "print(label_df)\n",
        "\n",
        "print(service.get_logs())\n",
        "\n",
        "#service.delete()"
      ],
      "outputs": [
        {
          "output_type": "stream",
          "name": "stdout",
          "text": "\"{\\\"result\\\": [0, 0, 0, 1, 1]}\"\n561    0\n726    0\n709    1\n115    1\n117    1\nName: HeartDisease, dtype: int64\n"
        }
      ],
      "execution_count": 18,
      "metadata": {
        "collapsed": false,
        "jupyter": {
          "outputs_hidden": false,
          "source_hidden": false
        },
        "nteract": {
          "transient": {
            "deleting": false
          }
        },
        "gather": {
          "logged": 1707098554302
        }
      }
    },
    {
      "cell_type": "markdown",
      "source": [
        "**Submission Checklist**\n",
        "- I have registered the model.\n",
        "- I have deployed the model with the best accuracy as a webservice.\n",
        "- I have tested the webservice by sending a request to the model endpoint.\n",
        "- I have deleted the webservice and shutdown all the computes that I have used.\n",
        "- I have taken a screenshot showing the model endpoint as active.\n",
        "- The project includes a file containing the environment details.\n"
      ],
      "metadata": {}
    },
    {
      "cell_type": "markdown",
      "source": [],
      "metadata": {}
    }
  ],
  "metadata": {
    "kernel_info": {
      "name": "python38-azureml"
    },
    "kernelspec": {
      "name": "python38-azureml",
      "language": "python",
      "display_name": "Python 3.8 - AzureML"
    },
    "language_info": {
      "name": "python",
      "version": "3.8.5",
      "mimetype": "text/x-python",
      "codemirror_mode": {
        "name": "ipython",
        "version": 3
      },
      "pygments_lexer": "ipython3",
      "nbconvert_exporter": "python",
      "file_extension": ".py"
    },
    "microsoft": {
      "host": {
        "AzureML": {
          "notebookHasBeenCompleted": true
        }
      },
      "ms_spell_check": {
        "ms_spell_check_language": "en"
      }
    },
    "nteract": {
      "version": "nteract-front-end@1.0.0"
    }
  },
  "nbformat": 4,
  "nbformat_minor": 4
}